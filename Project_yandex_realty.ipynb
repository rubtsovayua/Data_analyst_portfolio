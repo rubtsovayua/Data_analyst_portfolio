{
 "cells": [
  {
   "cell_type": "markdown",
   "metadata": {},
   "source": [
    "## Яндекс Недвижимость\n",
    "\n",
    "В нашем распоряжении данные сервиса Яндекс.Недвижимость — архив объявлений о продаже квартир в Санкт-Петербурге и соседних населённых пунктов за несколько лет. Задача — установить параметры. Это позволит построить автоматизированную систему: она отследит аномалии и мошенническую деятельность. \n",
    "\n",
    "По каждой квартире на продажу доступны два вида данных. Первые вписаны пользователем, вторые — получены автоматически на основе картографических данных. Например, расстояние до центра, аэропорта, ближайшего парка и водоёма.\n",
    "\n",
    "**Цель**:\n",
    "\n",
    "выявить закономерности между показателями в предоставленных данных\n",
    "\n",
    "\n",
    "**План**:\n",
    "\n",
    "    -Изучить данные\n",
    "    -Выявить и устранить пропуски в данных, где это возможно\n",
    "    -Обнаружить и устранить явные и неявние дубликаты\n",
    "    -Изучить и изменить типы данных, где необходимо\n",
    "    -Выявить и устранить аномалии\n",
    "    -Добавить новые данные для дальнейшего исследования\n",
    "    -Изучить параметры объектов, скорость продажи и параметры, влияющие на стоимость\n",
    "    -Выявить населенные пункты с самой высокой и самой низкой ценой за квардратный метр\n",
    "    -Определить среднюю цену километра при удалении от центра города, выявить наличие закономерности\n",
    "\n",
    "**Описание данных**\n",
    "\n",
    "airports_nearest — расстояние до ближайшего аэропорта в метрах (м)\n",
    "\n",
    "balcony — число балконов\n",
    "\n",
    "ceiling_height — высота потолков (м)\n",
    "\n",
    "cityCenters_nearest — расстояние до центра города (м)\n",
    "\n",
    "days_exposition — сколько дней было размещено объявление (от публикации до снятия)\n",
    "\n",
    "first_day_exposition — дата публикации\n",
    "\n",
    "floor — этаж\n",
    "\n",
    "floors_total — всего этажей в доме\n",
    "\n",
    "is_apartment — апартаменты (булев тип)\n",
    "\n",
    "kitchen_area — площадь кухни в квадратных метрах (м²)\n",
    "\n",
    "last_price — цена на момент снятия с публикации\n",
    "\n",
    "living_area — жилая площадь в квадратных метрах (м²)\n",
    "\n",
    "locality_name — название населённого пункта\n",
    "\n",
    "open_plan — свободная планировка (булев тип)\n",
    "\n",
    "parks_around3000 — число парков в радиусе 3 км\n",
    "\n",
    "parks_nearest — расстояние до ближайшего парка (м)\n",
    "\n",
    "ponds_around3000 — число водоёмов в радиусе 3 км\n",
    "\n",
    "ponds_nearest — расстояние до ближайшего водоёма (м)\n",
    "\n",
    "rooms — число комнат\n",
    "\n",
    "studio — квартира-студия (булев тип)\n",
    "\n",
    "total_area — общая площадь квартиры в квадратных метрах (м²)\n",
    "\n",
    "total_images — число фотографий квартиры в объявлении"
   ]
  },
  {
   "cell_type": "markdown",
   "metadata": {},
   "source": [
    "### Откройте файл с данными и изучите общую информацию. "
   ]
  },
  {
   "cell_type": "code",
   "execution_count": 1,
   "metadata": {},
   "outputs": [],
   "source": [
    "import pandas as pd\n",
    "import matplotlib.pyplot as plt\n",
    "from textwrap import dedent\n",
    "from IPython import get_ipython\n",
    "import seaborn as sns\n",
    "import pylab as pl\n",
    "pd.set_option('display.max_columns', None)"
   ]
  },
  {
   "cell_type": "code",
   "execution_count": 2,
   "metadata": {},
   "outputs": [],
   "source": [
    "df = pd.read_csv('https://code.s3.yandex.net/datasets/real_estate_data.csv',sep='\\t')"
   ]
  },
  {
   "cell_type": "code",
   "execution_count": 3,
   "metadata": {},
   "outputs": [
    {
     "name": "stdout",
     "output_type": "stream",
     "text": [
      "<class 'pandas.core.frame.DataFrame'>\n",
      "RangeIndex: 23699 entries, 0 to 23698\n",
      "Data columns (total 22 columns):\n",
      " #   Column                Non-Null Count  Dtype  \n",
      "---  ------                --------------  -----  \n",
      " 0   total_images          23699 non-null  int64  \n",
      " 1   last_price            23699 non-null  float64\n",
      " 2   total_area            23699 non-null  float64\n",
      " 3   first_day_exposition  23699 non-null  object \n",
      " 4   rooms                 23699 non-null  int64  \n",
      " 5   ceiling_height        14504 non-null  float64\n",
      " 6   floors_total          23613 non-null  float64\n",
      " 7   living_area           21796 non-null  float64\n",
      " 8   floor                 23699 non-null  int64  \n",
      " 9   is_apartment          2775 non-null   object \n",
      " 10  studio                23699 non-null  bool   \n",
      " 11  open_plan             23699 non-null  bool   \n",
      " 12  kitchen_area          21421 non-null  float64\n",
      " 13  balcony               12180 non-null  float64\n",
      " 14  locality_name         23650 non-null  object \n",
      " 15  airports_nearest      18157 non-null  float64\n",
      " 16  cityCenters_nearest   18180 non-null  float64\n",
      " 17  parks_around3000      18181 non-null  float64\n",
      " 18  parks_nearest         8079 non-null   float64\n",
      " 19  ponds_around3000      18181 non-null  float64\n",
      " 20  ponds_nearest         9110 non-null   float64\n",
      " 21  days_exposition       20518 non-null  float64\n",
      "dtypes: bool(2), float64(14), int64(3), object(3)\n",
      "memory usage: 3.7+ MB\n"
     ]
    }
   ],
   "source": [
    "df.info()"
   ]
  },
  {
   "cell_type": "code",
   "execution_count": 4,
   "metadata": {},
   "outputs": [
    {
     "data": {
      "text/html": [
       "<div>\n",
       "<style scoped>\n",
       "    .dataframe tbody tr th:only-of-type {\n",
       "        vertical-align: middle;\n",
       "    }\n",
       "\n",
       "    .dataframe tbody tr th {\n",
       "        vertical-align: top;\n",
       "    }\n",
       "\n",
       "    .dataframe thead th {\n",
       "        text-align: right;\n",
       "    }\n",
       "</style>\n",
       "<table border=\"1\" class=\"dataframe\">\n",
       "  <thead>\n",
       "    <tr style=\"text-align: right;\">\n",
       "      <th></th>\n",
       "      <th>total_images</th>\n",
       "      <th>last_price</th>\n",
       "      <th>total_area</th>\n",
       "      <th>first_day_exposition</th>\n",
       "      <th>rooms</th>\n",
       "      <th>ceiling_height</th>\n",
       "      <th>floors_total</th>\n",
       "      <th>living_area</th>\n",
       "      <th>floor</th>\n",
       "      <th>is_apartment</th>\n",
       "      <th>studio</th>\n",
       "      <th>open_plan</th>\n",
       "      <th>kitchen_area</th>\n",
       "      <th>balcony</th>\n",
       "      <th>locality_name</th>\n",
       "      <th>airports_nearest</th>\n",
       "      <th>cityCenters_nearest</th>\n",
       "      <th>parks_around3000</th>\n",
       "      <th>parks_nearest</th>\n",
       "      <th>ponds_around3000</th>\n",
       "      <th>ponds_nearest</th>\n",
       "      <th>days_exposition</th>\n",
       "    </tr>\n",
       "  </thead>\n",
       "  <tbody>\n",
       "    <tr>\n",
       "      <th>0</th>\n",
       "      <td>20</td>\n",
       "      <td>13000000.0</td>\n",
       "      <td>108.0</td>\n",
       "      <td>2019-03-07T00:00:00</td>\n",
       "      <td>3</td>\n",
       "      <td>2.70</td>\n",
       "      <td>16.0</td>\n",
       "      <td>51.0</td>\n",
       "      <td>8</td>\n",
       "      <td>NaN</td>\n",
       "      <td>False</td>\n",
       "      <td>False</td>\n",
       "      <td>25.0</td>\n",
       "      <td>NaN</td>\n",
       "      <td>Санкт-Петербург</td>\n",
       "      <td>18863.0</td>\n",
       "      <td>16028.0</td>\n",
       "      <td>1.0</td>\n",
       "      <td>482.0</td>\n",
       "      <td>2.0</td>\n",
       "      <td>755.0</td>\n",
       "      <td>NaN</td>\n",
       "    </tr>\n",
       "    <tr>\n",
       "      <th>1</th>\n",
       "      <td>7</td>\n",
       "      <td>3350000.0</td>\n",
       "      <td>40.4</td>\n",
       "      <td>2018-12-04T00:00:00</td>\n",
       "      <td>1</td>\n",
       "      <td>NaN</td>\n",
       "      <td>11.0</td>\n",
       "      <td>18.6</td>\n",
       "      <td>1</td>\n",
       "      <td>NaN</td>\n",
       "      <td>False</td>\n",
       "      <td>False</td>\n",
       "      <td>11.0</td>\n",
       "      <td>2.0</td>\n",
       "      <td>посёлок Шушары</td>\n",
       "      <td>12817.0</td>\n",
       "      <td>18603.0</td>\n",
       "      <td>0.0</td>\n",
       "      <td>NaN</td>\n",
       "      <td>0.0</td>\n",
       "      <td>NaN</td>\n",
       "      <td>81.0</td>\n",
       "    </tr>\n",
       "    <tr>\n",
       "      <th>2</th>\n",
       "      <td>10</td>\n",
       "      <td>5196000.0</td>\n",
       "      <td>56.0</td>\n",
       "      <td>2015-08-20T00:00:00</td>\n",
       "      <td>2</td>\n",
       "      <td>NaN</td>\n",
       "      <td>5.0</td>\n",
       "      <td>34.3</td>\n",
       "      <td>4</td>\n",
       "      <td>NaN</td>\n",
       "      <td>False</td>\n",
       "      <td>False</td>\n",
       "      <td>8.3</td>\n",
       "      <td>0.0</td>\n",
       "      <td>Санкт-Петербург</td>\n",
       "      <td>21741.0</td>\n",
       "      <td>13933.0</td>\n",
       "      <td>1.0</td>\n",
       "      <td>90.0</td>\n",
       "      <td>2.0</td>\n",
       "      <td>574.0</td>\n",
       "      <td>558.0</td>\n",
       "    </tr>\n",
       "    <tr>\n",
       "      <th>3</th>\n",
       "      <td>0</td>\n",
       "      <td>64900000.0</td>\n",
       "      <td>159.0</td>\n",
       "      <td>2015-07-24T00:00:00</td>\n",
       "      <td>3</td>\n",
       "      <td>NaN</td>\n",
       "      <td>14.0</td>\n",
       "      <td>NaN</td>\n",
       "      <td>9</td>\n",
       "      <td>NaN</td>\n",
       "      <td>False</td>\n",
       "      <td>False</td>\n",
       "      <td>NaN</td>\n",
       "      <td>0.0</td>\n",
       "      <td>Санкт-Петербург</td>\n",
       "      <td>28098.0</td>\n",
       "      <td>6800.0</td>\n",
       "      <td>2.0</td>\n",
       "      <td>84.0</td>\n",
       "      <td>3.0</td>\n",
       "      <td>234.0</td>\n",
       "      <td>424.0</td>\n",
       "    </tr>\n",
       "    <tr>\n",
       "      <th>4</th>\n",
       "      <td>2</td>\n",
       "      <td>10000000.0</td>\n",
       "      <td>100.0</td>\n",
       "      <td>2018-06-19T00:00:00</td>\n",
       "      <td>2</td>\n",
       "      <td>3.03</td>\n",
       "      <td>14.0</td>\n",
       "      <td>32.0</td>\n",
       "      <td>13</td>\n",
       "      <td>NaN</td>\n",
       "      <td>False</td>\n",
       "      <td>False</td>\n",
       "      <td>41.0</td>\n",
       "      <td>NaN</td>\n",
       "      <td>Санкт-Петербург</td>\n",
       "      <td>31856.0</td>\n",
       "      <td>8098.0</td>\n",
       "      <td>2.0</td>\n",
       "      <td>112.0</td>\n",
       "      <td>1.0</td>\n",
       "      <td>48.0</td>\n",
       "      <td>121.0</td>\n",
       "    </tr>\n",
       "    <tr>\n",
       "      <th>5</th>\n",
       "      <td>10</td>\n",
       "      <td>2890000.0</td>\n",
       "      <td>30.4</td>\n",
       "      <td>2018-09-10T00:00:00</td>\n",
       "      <td>1</td>\n",
       "      <td>NaN</td>\n",
       "      <td>12.0</td>\n",
       "      <td>14.4</td>\n",
       "      <td>5</td>\n",
       "      <td>NaN</td>\n",
       "      <td>False</td>\n",
       "      <td>False</td>\n",
       "      <td>9.1</td>\n",
       "      <td>NaN</td>\n",
       "      <td>городской посёлок Янино-1</td>\n",
       "      <td>NaN</td>\n",
       "      <td>NaN</td>\n",
       "      <td>NaN</td>\n",
       "      <td>NaN</td>\n",
       "      <td>NaN</td>\n",
       "      <td>NaN</td>\n",
       "      <td>55.0</td>\n",
       "    </tr>\n",
       "    <tr>\n",
       "      <th>6</th>\n",
       "      <td>6</td>\n",
       "      <td>3700000.0</td>\n",
       "      <td>37.3</td>\n",
       "      <td>2017-11-02T00:00:00</td>\n",
       "      <td>1</td>\n",
       "      <td>NaN</td>\n",
       "      <td>26.0</td>\n",
       "      <td>10.6</td>\n",
       "      <td>6</td>\n",
       "      <td>NaN</td>\n",
       "      <td>False</td>\n",
       "      <td>False</td>\n",
       "      <td>14.4</td>\n",
       "      <td>1.0</td>\n",
       "      <td>посёлок Парголово</td>\n",
       "      <td>52996.0</td>\n",
       "      <td>19143.0</td>\n",
       "      <td>0.0</td>\n",
       "      <td>NaN</td>\n",
       "      <td>0.0</td>\n",
       "      <td>NaN</td>\n",
       "      <td>155.0</td>\n",
       "    </tr>\n",
       "    <tr>\n",
       "      <th>7</th>\n",
       "      <td>5</td>\n",
       "      <td>7915000.0</td>\n",
       "      <td>71.6</td>\n",
       "      <td>2019-04-18T00:00:00</td>\n",
       "      <td>2</td>\n",
       "      <td>NaN</td>\n",
       "      <td>24.0</td>\n",
       "      <td>NaN</td>\n",
       "      <td>22</td>\n",
       "      <td>NaN</td>\n",
       "      <td>False</td>\n",
       "      <td>False</td>\n",
       "      <td>18.9</td>\n",
       "      <td>2.0</td>\n",
       "      <td>Санкт-Петербург</td>\n",
       "      <td>23982.0</td>\n",
       "      <td>11634.0</td>\n",
       "      <td>0.0</td>\n",
       "      <td>NaN</td>\n",
       "      <td>0.0</td>\n",
       "      <td>NaN</td>\n",
       "      <td>NaN</td>\n",
       "    </tr>\n",
       "  </tbody>\n",
       "</table>\n",
       "</div>"
      ],
      "text/plain": [
       "   total_images  last_price  total_area first_day_exposition  rooms  \\\n",
       "0            20  13000000.0       108.0  2019-03-07T00:00:00      3   \n",
       "1             7   3350000.0        40.4  2018-12-04T00:00:00      1   \n",
       "2            10   5196000.0        56.0  2015-08-20T00:00:00      2   \n",
       "3             0  64900000.0       159.0  2015-07-24T00:00:00      3   \n",
       "4             2  10000000.0       100.0  2018-06-19T00:00:00      2   \n",
       "5            10   2890000.0        30.4  2018-09-10T00:00:00      1   \n",
       "6             6   3700000.0        37.3  2017-11-02T00:00:00      1   \n",
       "7             5   7915000.0        71.6  2019-04-18T00:00:00      2   \n",
       "\n",
       "   ceiling_height  floors_total  living_area  floor is_apartment  studio  \\\n",
       "0            2.70          16.0         51.0      8          NaN   False   \n",
       "1             NaN          11.0         18.6      1          NaN   False   \n",
       "2             NaN           5.0         34.3      4          NaN   False   \n",
       "3             NaN          14.0          NaN      9          NaN   False   \n",
       "4            3.03          14.0         32.0     13          NaN   False   \n",
       "5             NaN          12.0         14.4      5          NaN   False   \n",
       "6             NaN          26.0         10.6      6          NaN   False   \n",
       "7             NaN          24.0          NaN     22          NaN   False   \n",
       "\n",
       "   open_plan  kitchen_area  balcony              locality_name  \\\n",
       "0      False          25.0      NaN            Санкт-Петербург   \n",
       "1      False          11.0      2.0             посёлок Шушары   \n",
       "2      False           8.3      0.0            Санкт-Петербург   \n",
       "3      False           NaN      0.0            Санкт-Петербург   \n",
       "4      False          41.0      NaN            Санкт-Петербург   \n",
       "5      False           9.1      NaN  городской посёлок Янино-1   \n",
       "6      False          14.4      1.0          посёлок Парголово   \n",
       "7      False          18.9      2.0            Санкт-Петербург   \n",
       "\n",
       "   airports_nearest  cityCenters_nearest  parks_around3000  parks_nearest  \\\n",
       "0           18863.0              16028.0               1.0          482.0   \n",
       "1           12817.0              18603.0               0.0            NaN   \n",
       "2           21741.0              13933.0               1.0           90.0   \n",
       "3           28098.0               6800.0               2.0           84.0   \n",
       "4           31856.0               8098.0               2.0          112.0   \n",
       "5               NaN                  NaN               NaN            NaN   \n",
       "6           52996.0              19143.0               0.0            NaN   \n",
       "7           23982.0              11634.0               0.0            NaN   \n",
       "\n",
       "   ponds_around3000  ponds_nearest  days_exposition  \n",
       "0               2.0          755.0              NaN  \n",
       "1               0.0            NaN             81.0  \n",
       "2               2.0          574.0            558.0  \n",
       "3               3.0          234.0            424.0  \n",
       "4               1.0           48.0            121.0  \n",
       "5               NaN            NaN             55.0  \n",
       "6               0.0            NaN            155.0  \n",
       "7               0.0            NaN              NaN  "
      ]
     },
     "execution_count": 4,
     "metadata": {},
     "output_type": "execute_result"
    }
   ],
   "source": [
    "df.head(8)"
   ]
  },
  {
   "cell_type": "code",
   "execution_count": 5,
   "metadata": {},
   "outputs": [
    {
     "data": {
      "text/plain": [
       "array([[<AxesSubplot:title={'center':'total_images'}>,\n",
       "        <AxesSubplot:title={'center':'last_price'}>,\n",
       "        <AxesSubplot:title={'center':'total_area'}>,\n",
       "        <AxesSubplot:title={'center':'rooms'}>],\n",
       "       [<AxesSubplot:title={'center':'ceiling_height'}>,\n",
       "        <AxesSubplot:title={'center':'floors_total'}>,\n",
       "        <AxesSubplot:title={'center':'living_area'}>,\n",
       "        <AxesSubplot:title={'center':'floor'}>],\n",
       "       [<AxesSubplot:title={'center':'kitchen_area'}>,\n",
       "        <AxesSubplot:title={'center':'balcony'}>,\n",
       "        <AxesSubplot:title={'center':'airports_nearest'}>,\n",
       "        <AxesSubplot:title={'center':'cityCenters_nearest'}>],\n",
       "       [<AxesSubplot:title={'center':'parks_around3000'}>,\n",
       "        <AxesSubplot:title={'center':'parks_nearest'}>,\n",
       "        <AxesSubplot:title={'center':'ponds_around3000'}>,\n",
       "        <AxesSubplot:title={'center':'ponds_nearest'}>],\n",
       "       [<AxesSubplot:title={'center':'days_exposition'}>, <AxesSubplot:>,\n",
       "        <AxesSubplot:>, <AxesSubplot:>]], dtype=object)"
      ]
     },
     "execution_count": 5,
     "metadata": {},
     "output_type": "execute_result"
    },
    {
     "data": {
      "image/png": "[encoded data removed]",
      "text/plain": [
       "<Figure size 1080x1440 with 20 Axes>"
      ]
     },
     "metadata": {
      "needs_background": "light"
     },
     "output_type": "display_data"
    }
   ],
   "source": [
    "df.hist(figsize=(15, 20))"
   ]
  },
  {
   "cell_type": "code",
   "execution_count": 6,
   "metadata": {},
   "outputs": [
    {
     "data": {
      "text/plain": [
       "0"
      ]
     },
     "execution_count": 6,
     "metadata": {},
     "output_type": "execute_result"
    }
   ],
   "source": [
    "df.duplicated().sum()"
   ]
  },
  {
   "cell_type": "markdown",
   "metadata": {},
   "source": [
    "Размер датафрейма: 23699 rows x 22 columns. \n",
    "Пропуски данных присутствуют в столбцах: 'ceiling_height', 'floors_total', 'living_area','is_apartment', \n",
    "'kitchen_area', 'balcony','locality_name', 'airports_nearest', 'cityCenters_nearest','parks_around3000', \n",
    "'parks_nearest', 'ponds_around3000',  'ponds_nearest', 'days_exposition'.Явные дубликаты проверены."
   ]
  },
  {
   "cell_type": "markdown",
   "metadata": {},
   "source": [
    "### Предобработка данных"
   ]
  },
  {
   "cell_type": "code",
   "execution_count": 7,
   "metadata": {},
   "outputs": [
    {
     "data": {
      "text/plain": [
       "is_apartment            20924\n",
       "parks_nearest           15620\n",
       "ponds_nearest           14589\n",
       "balcony                 11519\n",
       "ceiling_height           9195\n",
       "airports_nearest         5542\n",
       "cityCenters_nearest      5519\n",
       "ponds_around3000         5518\n",
       "parks_around3000         5518\n",
       "days_exposition          3181\n",
       "kitchen_area             2278\n",
       "living_area              1903\n",
       "floors_total               86\n",
       "locality_name              49\n",
       "total_images                0\n",
       "last_price                  0\n",
       "studio                      0\n",
       "floor                       0\n",
       "rooms                       0\n",
       "first_day_exposition        0\n",
       "total_area                  0\n",
       "open_plan                   0\n",
       "dtype: int64"
      ]
     },
     "execution_count": 7,
     "metadata": {},
     "output_type": "execute_result"
    }
   ],
   "source": [
    "df.isna().sum().sort_values(ascending=False)"
   ]
  },
  {
   "cell_type": "code",
   "execution_count": 8,
   "metadata": {},
   "outputs": [
    {
     "data": {
      "text/plain": [
       "total_images             0.000000\n",
       "last_price               0.000000\n",
       "total_area               0.000000\n",
       "first_day_exposition     0.000000\n",
       "rooms                    0.000000\n",
       "ceiling_height          38.799105\n",
       "floors_total             0.362885\n",
       "living_area              8.029875\n",
       "floor                    0.000000\n",
       "is_apartment            88.290645\n",
       "studio                   0.000000\n",
       "open_plan                0.000000\n",
       "kitchen_area             9.612220\n",
       "balcony                 48.605426\n",
       "locality_name            0.206760\n",
       "airports_nearest        23.384953\n",
       "cityCenters_nearest     23.287902\n",
       "parks_around3000        23.283683\n",
       "parks_nearest           65.909954\n",
       "ponds_around3000        23.283683\n",
       "ponds_nearest           61.559559\n",
       "days_exposition         13.422507\n",
       "dtype: float64"
      ]
     },
     "execution_count": 8,
     "metadata": {},
     "output_type": "execute_result"
    }
   ],
   "source": [
    "df.isna().mean()*100"
   ]
  },
  {
   "cell_type": "code",
   "execution_count": 9,
   "metadata": {},
   "outputs": [],
   "source": [
    "def investigate_column(column):\n",
    "    print('Null or Na count is', column.isna().sum())\n",
    "    print(column.describe())\n",
    "#print(sorted(column.unique()))"
   ]
  },
  {
   "cell_type": "markdown",
   "metadata": {},
   "source": [
    "**1. Высота потолков**"
   ]
  },
  {
   "cell_type": "code",
   "execution_count": 10,
   "metadata": {},
   "outputs": [
    {
     "name": "stdout",
     "output_type": "stream",
     "text": [
      "Null or Na count is 9195\n",
      "count    14504.000000\n",
      "mean         2.771499\n",
      "std          1.261056\n",
      "min          1.000000\n",
      "25%          2.520000\n",
      "50%          2.650000\n",
      "75%          2.800000\n",
      "max        100.000000\n",
      "Name: ceiling_height, dtype: float64\n"
     ]
    }
   ],
   "source": [
    "investigate_column(df['ceiling_height'])"
   ]
  },
  {
   "cell_type": "code",
   "execution_count": 11,
   "metadata": {},
   "outputs": [
    {
     "data": {
      "text/plain": [
       "27.0     8\n",
       "25.0     7\n",
       "8.0      3\n",
       "5.3      2\n",
       "32.0     2\n",
       "14.0     1\n",
       "5.2      1\n",
       "6.0      1\n",
       "8.3      1\n",
       "5.6      1\n",
       "5.8      1\n",
       "10.3     1\n",
       "5.5      1\n",
       "20.0     1\n",
       "26.0     1\n",
       "22.6     1\n",
       "27.5     1\n",
       "24.0     1\n",
       "100.0    1\n",
       "Name: ceiling_height, dtype: int64"
      ]
     },
     "execution_count": 11,
     "metadata": {},
     "output_type": "execute_result"
    }
   ],
   "source": [
    "ceiling_max = df.query('ceiling_height>5')\n",
    "ceiling_max['ceiling_height'].value_counts()"
   ]
  },
  {
   "cell_type": "code",
   "execution_count": 12,
   "metadata": {},
   "outputs": [],
   "source": [
    "df = df.where(df['ceiling_height']!='27.0',2.7)\n",
    "df = df.where(df['ceiling_height']!='25.0',2.5)\n",
    "df = df.where(df['ceiling_height']!='32.0',3.2)\n",
    "df['ceiling_height'] = df['ceiling_height'].fillna(df['ceiling_height'].median())\n",
    "df = df.query('2.4 <= ceiling_height <= 5')"
   ]
  },
  {
   "cell_type": "markdown",
   "metadata": {},
   "source": [
    "Примем за нормальные значения высоту потолков от 2,4 до 5 метров, исправим значения 27, 25 и 32 на 2.7, 2.5 и 3.2, остальные\n",
    "значения удалим, так как это единичные аномалии."
   ]
  },
  {
   "cell_type": "markdown",
   "metadata": {},
   "source": [
    "**2.Количество этажей**"
   ]
  },
  {
   "cell_type": "code",
   "execution_count": 13,
   "metadata": {},
   "outputs": [
    {
     "name": "stdout",
     "output_type": "stream",
     "text": [
      "Null or Na count is 86\n",
      "count    23556.000000\n",
      "mean        10.678299\n",
      "std          6.594016\n",
      "min          1.000000\n",
      "25%          5.000000\n",
      "50%          9.000000\n",
      "75%         16.000000\n",
      "max         60.000000\n",
      "Name: floors_total, dtype: float64\n"
     ]
    }
   ],
   "source": [
    "investigate_column(df['floors_total'])"
   ]
  },
  {
   "cell_type": "code",
   "execution_count": 14,
   "metadata": {},
   "outputs": [
    {
     "data": {
      "text/plain": [
       "5.0     5764\n",
       "9.0     3757\n",
       "16.0    1373\n",
       "12.0    1360\n",
       "4.0     1199\n",
       "10.0    1173\n",
       "25.0    1074\n",
       "6.0      912\n",
       "17.0     831\n",
       "3.0      666\n",
       "7.0      591\n",
       "14.0     551\n",
       "18.0     504\n",
       "24.0     468\n",
       "8.0      389\n",
       "2.0      378\n",
       "15.0     364\n",
       "23.0     352\n",
       "19.0     339\n",
       "22.0     286\n",
       "20.0     271\n",
       "13.0     229\n",
       "11.0     203\n",
       "27.0     164\n",
       "21.0     158\n",
       "26.0     124\n",
       "35.0      24\n",
       "1.0       24\n",
       "28.0      21\n",
       "36.0       2\n",
       "29.0       1\n",
       "60.0       1\n",
       "52.0       1\n",
       "34.0       1\n",
       "33.0       1\n",
       "Name: floors_total, dtype: int64"
      ]
     },
     "execution_count": 14,
     "metadata": {},
     "output_type": "execute_result"
    }
   ],
   "source": [
    "df['floors_total'].value_counts()"
   ]
  },
  {
   "cell_type": "code",
   "execution_count": 15,
   "metadata": {},
   "outputs": [],
   "source": [
    "df = df.query('floors_total <= 37')\n",
    "df['floors_total'] = df['floors_total'].fillna(df['floors_total'].median())"
   ]
  },
  {
   "cell_type": "markdown",
   "metadata": {},
   "source": [
    "Самый высокий жилой дом в Санкт-Петербурге - ЖК \"Александр Невский\", его высота - 37 этажей, остальные данные будем считать аномальными."
   ]
  },
  {
   "cell_type": "markdown",
   "metadata": {},
   "source": [
    "**3.Жилая площадь**"
   ]
  },
  {
   "cell_type": "markdown",
   "metadata": {},
   "source": [
    "Если жилая площадь не указана,то мы никак не можем ее ни усреднить, ни спрогнозировать, поэтому пропуски в данном столбце оставляем без изменений."
   ]
  },
  {
   "cell_type": "markdown",
   "metadata": {},
   "source": [
    "**4.Апартаменты**"
   ]
  },
  {
   "cell_type": "markdown",
   "metadata": {},
   "source": [
    "Если данные в этом столбце не указаны, то скорее всего это не апартаменты, заполняем пропуски значением False. Меняем тип данных с object на bool."
   ]
  },
  {
   "cell_type": "code",
   "execution_count": 16,
   "metadata": {},
   "outputs": [],
   "source": [
    "df['is_apartment'] = df['is_apartment'].fillna(False)"
   ]
  },
  {
   "cell_type": "code",
   "execution_count": 17,
   "metadata": {},
   "outputs": [
    {
     "data": {
      "text/plain": [
       "array([False,  True])"
      ]
     },
     "execution_count": 17,
     "metadata": {},
     "output_type": "execute_result"
    }
   ],
   "source": [
    "df['is_apartment'].unique()"
   ]
  },
  {
   "cell_type": "code",
   "execution_count": 18,
   "metadata": {},
   "outputs": [],
   "source": [
    "df['is_apartment'] = df['is_apartment'].astype(bool)"
   ]
  },
  {
   "cell_type": "markdown",
   "metadata": {},
   "source": [
    "**5.Площадь кухни**"
   ]
  },
  {
   "cell_type": "markdown",
   "metadata": {},
   "source": [
    "Заменим пропуски на 0 в строках, где жилье являемся аппартаментами."
   ]
  },
  {
   "cell_type": "code",
   "execution_count": 19,
   "metadata": {},
   "outputs": [],
   "source": [
    "df['kitchen_area']= df['kitchen_area'][df['is_apartment']!=True].fillna(0)"
   ]
  },
  {
   "cell_type": "markdown",
   "metadata": {},
   "source": [
    "**6.Балконы**"
   ]
  },
  {
   "cell_type": "markdown",
   "metadata": {},
   "source": [
    "Если они не заполнены, то скорее всего их нет. Меняем пустые значения на 0."
   ]
  },
  {
   "cell_type": "code",
   "execution_count": 20,
   "metadata": {},
   "outputs": [],
   "source": [
    "df['balcony'] = df['balcony'].fillna(0)"
   ]
  },
  {
   "cell_type": "markdown",
   "metadata": {},
   "source": [
    "**7. Расположение**"
   ]
  },
  {
   "cell_type": "markdown",
   "metadata": {},
   "source": [
    "Удаляем неявные дубликаты в названии местоположения. Пропуски мы заполнить не можем, поэтому оставляем, как есть."
   ]
  },
  {
   "cell_type": "code",
   "execution_count": 21,
   "metadata": {},
   "outputs": [],
   "source": [
    "df['locality_name'] = df['locality_name'].str.replace('ё', 'е')"
   ]
  },
  {
   "cell_type": "code",
   "execution_count": 22,
   "metadata": {},
   "outputs": [],
   "source": [
    "duplicates = ['поселок городского типа ','городской поселок ', 'поселок ', 'деревня ', 'садоводческое некоммерческое товарищество ', 'садовое товарищество ', 'станции ', 'село ', 'пансионат ', 'городского типа ', 'деревня ', 'коттеджный поселок ', 'при железнодорожной ' 'коттеджный ']\n",
    "for d in duplicates:\n",
    "    df['locality_name'] = df['locality_name'].str.replace(d, '')"
   ]
  },
  {
   "cell_type": "code",
   "execution_count": 23,
   "metadata": {},
   "outputs": [
    {
     "data": {
      "text/plain": [
       "array(['Санкт-Петербург', 'Шушары', 'Янино-1', 'Парголово', 'Мурино',\n",
       "       'Ломоносов', 'Сертолово', 'Петергоф', 'Пушкин', 'Кудрово',\n",
       "       'Коммунар', 'Колпино', 'Красный Бор', 'Гатчина', 'Федоровское',\n",
       "       'Выборг', 'Кронштадт', 'Кировск', 'Новое Девяткино',\n",
       "       'Металлострой', 'Лебяжье', 'Сиверский', 'Молодцово',\n",
       "       'Кузьмоловский', 'Новая Ропша', 'Павловск', 'Пикколово',\n",
       "       'Всеволожск', 'Волхов', 'Кингисепп', 'Приозерск', 'Сестрорецк',\n",
       "       'Куттузи', 'Аннино', 'Ефимовский', 'Плодовое', 'Заклинье',\n",
       "       'Торковичи', 'Первомайское', 'Красное Село', 'Понтонный',\n",
       "       'Сясьстрой', 'Старая', 'Лесколово', 'Сланцы', 'Путилово',\n",
       "       'Ивангород', 'Шлиссельбург', 'Никольское', 'Зеленогорск',\n",
       "       'Сосновый Бор', 'Новый Свет', 'Оржицы', 'Кальтино', 'Романовка',\n",
       "       'Бугры', 'Рощино', 'Кириши', 'Луга', 'Волосово', 'Отрадное',\n",
       "       'Павлово', 'Оредеж', 'Копорье', 'Молодежное', 'Тихвин', 'Победа',\n",
       "       'Нурма', 'Синявино', 'Тосно', 'Стрельна', 'Бокситогорск',\n",
       "       'Александровская', 'Лопухинка', 'Пикалево', 'Терволово',\n",
       "       'Советский', 'Подпорожье', 'Петровское', 'Токсово', 'Сельцо',\n",
       "       'Вырица', 'Кипень', 'Келози', 'Вартемяги', 'Тельмана',\n",
       "       'Севастьяново', 'Большая Ижора', nan, 'Агалатово', 'Новогорелово',\n",
       "       'Лесогорский', 'Лаголово', 'Цвелодубово', 'Рахья', 'Белогорка',\n",
       "       'Заводской', 'Новоселье', 'Большие Колпаны', 'Горбунки', 'Батово',\n",
       "       'Заневка', 'Иссад', 'Приморск', 'Мистолово', 'Новая Ладога',\n",
       "       'Зимитицы', 'Барышево', 'Разметелево', 'имени Свердлова', 'Пеники',\n",
       "       'Рябово', 'Пудомяги', 'Корнево', 'Низино', 'Бегуницы', 'Поляны',\n",
       "       'Мга', 'Елизаветино', 'Кузнечное', 'Колтуши', 'Запорожское',\n",
       "       'Гостилицы', 'Малое Карлино', 'Мичуринское', 'имени Морозова',\n",
       "       'Песочный', 'Сосново', 'Аро', 'Ильичево', 'Тайцы', 'Малое Верево',\n",
       "       'Извара', 'Вещево', 'Паша', 'Калитино', 'Ульяновка', 'Чудской Бор',\n",
       "       'Дубровка', 'Мины', 'Войсковицы', 'Коркино', 'Ропша',\n",
       "       'Приладожский', 'Щеглово', 'Гаврилово', 'Лодейное Поле',\n",
       "       'Рабитицы', 'Никольский', 'Кузьмолово', 'Малые Колпаны',\n",
       "       'Петро-Славянка', 'Назия', 'Репино', 'Углово', 'Старая Малукса',\n",
       "       'Меньково', 'Старые Бегуницы', 'Саперный', 'Семрино', 'Глажево',\n",
       "       'Кобринское', 'Гарболово', 'Юкки', 'Приветнинское', 'Мануйлово',\n",
       "       'Пчева', 'Цвылево', 'Мельниково', 'Пудость', 'Усть-Луга',\n",
       "       'Светогорск', 'Любань', 'Селезнево', 'Каменногорск', 'Кривко',\n",
       "       'Глебычево', 'Парицы', 'Жилпоселок', 'Войскорово', 'Стеклянный',\n",
       "       'Важины', 'Мыза-Ивановка', 'Русско-Высоцкое', 'Форносово',\n",
       "       'Старая Ладога', 'Житково', 'Виллози', 'Лампово', 'Шпаньково',\n",
       "       'Лаврики', 'Сумино', 'Возрождение', 'Старосиверская', 'Кикерино',\n",
       "       'Старое Хинколово', 'Пригородный', 'Торфяное', 'Будогощь',\n",
       "       'Суходолье', 'Красная Долина', 'Хапо-Ое', 'Дружная Горка',\n",
       "       'Лисий Нос', 'Яльгелево', 'Рождествено', 'Старополье', 'Левашово',\n",
       "       'Сяськелево', 'Камышовка', 'Лесная Поляна', 'Хязельки',\n",
       "       'Жилгородок', 'Ялгино', 'Новый Учхоз', 'Гончарово', 'Почап',\n",
       "       'Саперное', 'Платформа 69-й километр', 'Каложицы', 'Фалилеево',\n",
       "       'Пельгора', 'Торошковичи', 'Белоостров', 'Алексеевка',\n",
       "       'Серебрянский', 'Лукаши', 'Тарасово', 'Кингисеппский',\n",
       "       'при железнодорожной Вещево', 'Ушаки', 'Котлы', 'Сижно',\n",
       "       'Торосово', 'Форт Красная Горка', 'Новолисино', 'Громово',\n",
       "       'Глинка', 'Старая Пустошь', 'Коммунары', 'Починок', 'Вознесенье',\n",
       "       'Разбегаево', 'Гладкое', 'при железнодорожной Приветнинское',\n",
       "       'Тесово-4', 'Бор', 'Коробицыно', 'Большая Вруда', 'Курковицы',\n",
       "       'Кобралово', 'Суоранда', 'Кондратьево', 'коттеджный Счастье',\n",
       "       'Реброво', 'Тойворово', 'Семиозерье', 'Лесное', 'Совхозный',\n",
       "       'Ленинское', 'Суйда', 'Нижние Осельки', 'Свирь', 'Перово',\n",
       "       'Высоцк', 'Шум', 'Котельский', 'Лужайка', 'Большая Пустомержа',\n",
       "       'Красносельское', 'Вахнова Кара', 'Пижма',\n",
       "       'коттеджный Кивеннапа Север', 'Ромашки', 'Каськово', 'Куровицы',\n",
       "       'Плоское', 'Кирпичное', 'Ям-Тесово', 'Раздолье', 'Терпилицы',\n",
       "       'Шугозеро', 'Ваганово', 'Пушное', 'Садко', 'Усть-Ижора',\n",
       "       'Выскатка', 'Свирьстрой', 'Кисельня', 'Трубников Бор',\n",
       "       'Высокоключевой', 'Пансионат Зеленый Бор', 'Ненимяки',\n",
       "       'Снегиревка', 'Рапполово', 'Пустынка', 'Большой Сабск', 'Русско',\n",
       "       'Лупполово', 'Большое Рейзино', 'Малая Романовка', 'Дружноселье',\n",
       "       'Пчевжа', 'Володарское', 'коттеджный Лесное', 'Тихковицы',\n",
       "       'Борисова Грива', 'Дзержинского'], dtype=object)"
      ]
     },
     "execution_count": 23,
     "metadata": {},
     "output_type": "execute_result"
    }
   ],
   "source": [
    "df['locality_name'].unique()"
   ]
  },
  {
   "cell_type": "markdown",
   "metadata": {},
   "source": [
    "**8.Расстояние до аэропорта, центра, пруда или парка**"
   ]
  },
  {
   "cell_type": "markdown",
   "metadata": {},
   "source": [
    "Эти данные невозможно установить, оставляем без изменений"
   ]
  },
  {
   "cell_type": "markdown",
   "metadata": {},
   "source": [
    "**9. Парки и пруды в радиусе 3000м**"
   ]
  },
  {
   "cell_type": "markdown",
   "metadata": {},
   "source": [
    "Если они не указаны, значит, скорее всего, их нет. Заполняем нулями."
   ]
  },
  {
   "cell_type": "code",
   "execution_count": 24,
   "metadata": {},
   "outputs": [],
   "source": [
    "df['parks_around3000'] = df['parks_around3000'].fillna(0)\n",
    "df['ponds_around3000'] = df['ponds_around3000'].fillna(0)"
   ]
  },
  {
   "cell_type": "markdown",
   "metadata": {},
   "source": [
    "**10. Дни экспозиции**"
   ]
  },
  {
   "cell_type": "code",
   "execution_count": 25,
   "metadata": {},
   "outputs": [
    {
     "name": "stdout",
     "output_type": "stream",
     "text": [
      "Null or Na count is 3161\n",
      "count    20393.000000\n",
      "mean       180.928652\n",
      "std        219.781181\n",
      "min          1.000000\n",
      "25%         45.000000\n",
      "50%         95.000000\n",
      "75%        232.000000\n",
      "max       1580.000000\n",
      "Name: days_exposition, dtype: float64\n"
     ]
    }
   ],
   "source": [
    "investigate_column(df['days_exposition'])"
   ]
  },
  {
   "cell_type": "markdown",
   "metadata": {},
   "source": [
    "Можно предположить, что объявление еще не закрылось и квартира находится в продаже. Желательно уточнить у разработчика."
   ]
  },
  {
   "cell_type": "code",
   "execution_count": 26,
   "metadata": {},
   "outputs": [
    {
     "data": {
      "text/plain": [
       "total_images                0\n",
       "last_price                  0\n",
       "total_area                  0\n",
       "first_day_exposition        0\n",
       "rooms                       0\n",
       "ceiling_height              0\n",
       "floors_total                0\n",
       "living_area              1865\n",
       "floor                       0\n",
       "is_apartment                0\n",
       "studio                      0\n",
       "open_plan                   0\n",
       "kitchen_area               47\n",
       "balcony                     0\n",
       "locality_name              48\n",
       "airports_nearest         5507\n",
       "cityCenters_nearest      5484\n",
       "parks_around3000            0\n",
       "parks_nearest           15530\n",
       "ponds_around3000            0\n",
       "ponds_nearest           14514\n",
       "days_exposition          3161\n",
       "dtype: int64"
      ]
     },
     "execution_count": 26,
     "metadata": {},
     "output_type": "execute_result"
    }
   ],
   "source": [
    "df.isna().sum()"
   ]
  },
  {
   "cell_type": "markdown",
   "metadata": {},
   "source": [
    "***Поиск и удаление аномальных значений***"
   ]
  },
  {
   "cell_type": "code",
   "execution_count": 27,
   "metadata": {},
   "outputs": [
    {
     "name": "stdout",
     "output_type": "stream",
     "text": [
      "Null or Na count is 0\n",
      "count    23554.000000\n",
      "mean         2.071198\n",
      "std          1.078139\n",
      "min          0.000000\n",
      "25%          1.000000\n",
      "50%          2.000000\n",
      "75%          3.000000\n",
      "max         19.000000\n",
      "Name: rooms, dtype: float64\n"
     ]
    }
   ],
   "source": [
    "investigate_column(df['rooms'])"
   ]
  },
  {
   "cell_type": "code",
   "execution_count": 28,
   "metadata": {},
   "outputs": [
    {
     "data": {
      "text/plain": [
       "[0, 1, 2, 3, 4, 5, 6, 7, 8, 9, 10, 11, 12, 14, 15, 16, 19]"
      ]
     },
     "execution_count": 28,
     "metadata": {},
     "output_type": "execute_result"
    }
   ],
   "source": [
    "sorted(df['rooms'].unique())"
   ]
  },
  {
   "cell_type": "code",
   "execution_count": 29,
   "metadata": {},
   "outputs": [
    {
     "name": "stdout",
     "output_type": "stream",
     "text": [
      "           count        sum\n",
      "      total_area total_area\n",
      "rooms                      \n",
      "11             2      377.8\n",
      "12             1      900.0\n",
      "14             2      608.4\n",
      "15             1      590.0\n",
      "16             1      270.0\n",
      "19             1      374.6\n"
     ]
    }
   ],
   "source": [
    "print(df.query('rooms>10').pivot_table(index='rooms',values='total_area',aggfunc=['count','sum']))"
   ]
  },
  {
   "cell_type": "code",
   "execution_count": 30,
   "metadata": {},
   "outputs": [],
   "source": [
    "df = df.query('rooms<10 and total_area<=200')"
   ]
  },
  {
   "cell_type": "markdown",
   "metadata": {},
   "source": [
    "Удалим аномальные данные, где количество комнат больше 10, так как они выбиваются из общей картины и по площади и по стоимости. Так же сократим площадь до 200 кв м"
   ]
  },
  {
   "cell_type": "code",
   "execution_count": 31,
   "metadata": {},
   "outputs": [
    {
     "name": "stdout",
     "output_type": "stream",
     "text": [
      "Null or Na count is 0\n",
      "count        23,329.00\n",
      "mean      6,021,310.10\n",
      "std       6,199,419.83\n",
      "min          12,190.00\n",
      "25%       3,400,000.00\n",
      "50%       4,600,000.00\n",
      "75%       6,700,000.00\n",
      "max     330,000,000.00\n",
      "Name: last_price, dtype: float64\n"
     ]
    }
   ],
   "source": [
    "pd.options.display.float_format ='{:,.2f}'.format\n",
    "investigate_column(df['last_price'])"
   ]
  },
  {
   "cell_type": "code",
   "execution_count": 32,
   "metadata": {},
   "outputs": [
    {
     "data": {
      "text/plain": [
       "Text(0, 0.5, 'frequency')"
      ]
     },
     "execution_count": 32,
     "metadata": {},
     "output_type": "execute_result"
    },
    {
     "data": {
      "image/png": "[encoded data removed]",
      "text/plain": [
       "<Figure size 432x288 with 1 Axes>"
      ]
     },
     "metadata": {
      "needs_background": "light"
     },
     "output_type": "display_data"
    }
   ],
   "source": [
    "df = df.query('last_price <18000000')\n",
    "df.loc[8793,'last_price']=df.loc[8793,'last_price']*1000\n",
    "df['million_price'] = df['last_price']/1000000\n",
    "df['million_price'].hist(bins=50)\n",
    "pl.title(\"Histogram of prices\")\n",
    "pl.xlabel('last_price')\n",
    "pl.ylabel('frequency')"
   ]
  },
  {
   "cell_type": "markdown",
   "metadata": {},
   "source": [
    "Отрежем аномально дорогие квартиры и поделим стоимость на 1 миллион для удобства чтения графиков, а так же скорректируем стоимость аномально дешевой квартиры (12,190.00), скорее всего здесь указана цена в миллионах."
   ]
  },
  {
   "cell_type": "code",
   "execution_count": 33,
   "metadata": {},
   "outputs": [
    {
     "data": {
      "text/html": [
       "<div>\n",
       "<style scoped>\n",
       "    .dataframe tbody tr th:only-of-type {\n",
       "        vertical-align: middle;\n",
       "    }\n",
       "\n",
       "    .dataframe tbody tr th {\n",
       "        vertical-align: top;\n",
       "    }\n",
       "\n",
       "    .dataframe thead tr th {\n",
       "        text-align: left;\n",
       "    }\n",
       "\n",
       "    .dataframe thead tr:last-of-type th {\n",
       "        text-align: right;\n",
       "    }\n",
       "</style>\n",
       "<table border=\"1\" class=\"dataframe\">\n",
       "  <thead>\n",
       "    <tr>\n",
       "      <th></th>\n",
       "      <th colspan=\"2\" halign=\"left\">count</th>\n",
       "      <th colspan=\"2\" halign=\"left\">mean</th>\n",
       "      <th colspan=\"2\" halign=\"left\">min</th>\n",
       "      <th colspan=\"2\" halign=\"left\">max</th>\n",
       "    </tr>\n",
       "    <tr>\n",
       "      <th></th>\n",
       "      <th>living_area</th>\n",
       "      <th>total_area</th>\n",
       "      <th>living_area</th>\n",
       "      <th>total_area</th>\n",
       "      <th>living_area</th>\n",
       "      <th>total_area</th>\n",
       "      <th>living_area</th>\n",
       "      <th>total_area</th>\n",
       "    </tr>\n",
       "    <tr>\n",
       "      <th>is_apartment</th>\n",
       "      <th></th>\n",
       "      <th></th>\n",
       "      <th></th>\n",
       "      <th></th>\n",
       "      <th></th>\n",
       "      <th></th>\n",
       "      <th></th>\n",
       "      <th></th>\n",
       "    </tr>\n",
       "  </thead>\n",
       "  <tbody>\n",
       "    <tr>\n",
       "      <th>False</th>\n",
       "      <td>181</td>\n",
       "      <td>191</td>\n",
       "      <td>18.60</td>\n",
       "      <td>27.34</td>\n",
       "      <td>2.00</td>\n",
       "      <td>15.50</td>\n",
       "      <td>60.50</td>\n",
       "      <td>98.40</td>\n",
       "    </tr>\n",
       "  </tbody>\n",
       "</table>\n",
       "</div>"
      ],
      "text/plain": [
       "                   count                   mean                    min  \\\n",
       "             living_area total_area living_area total_area living_area   \n",
       "is_apartment                                                             \n",
       "False                181        191       18.60      27.34        2.00   \n",
       "\n",
       "                                max             \n",
       "             total_area living_area total_area  \n",
       "is_apartment                                    \n",
       "False             15.50       60.50      98.40  "
      ]
     },
     "execution_count": 33,
     "metadata": {},
     "output_type": "execute_result"
    }
   ],
   "source": [
    "df.query('rooms<1').pivot_table(index='is_apartment',values=['total_area','living_area'],aggfunc=['count','mean','min','max'])"
   ]
  },
  {
   "cell_type": "code",
   "execution_count": 34,
   "metadata": {},
   "outputs": [],
   "source": [
    "df = df.query('living_area>10')\n",
    "\n",
    "rooms=[0]\n",
    "\n",
    "for r in rooms:\n",
    "    df['rooms'] = df['rooms'].replace(r, 1)"
   ]
  },
  {
   "cell_type": "code",
   "execution_count": 35,
   "metadata": {},
   "outputs": [],
   "source": [
    "df = df.query('rooms<=5')"
   ]
  },
  {
   "cell_type": "markdown",
   "metadata": {},
   "source": [
    "В количестве комнат выявлены аномальные значения, где комнат 0. Удалим аномальные значения, где жилая площадь меньше 10, а в остальных такиз квартирах заменим количество комнат на 1. Так же отрежем квартиры, где больше 5 комнат"
   ]
  },
  {
   "cell_type": "code",
   "execution_count": 36,
   "metadata": {
    "scrolled": true
   },
   "outputs": [
    {
     "name": "stdout",
     "output_type": "stream",
     "text": [
      "<class 'pandas.core.frame.DataFrame'>\n",
      "Int64Index: 20795 entries, 0 to 23698\n",
      "Data columns (total 23 columns):\n",
      " #   Column                Non-Null Count  Dtype  \n",
      "---  ------                --------------  -----  \n",
      " 0   total_images          20795 non-null  int64  \n",
      " 1   last_price            20795 non-null  float64\n",
      " 2   total_area            20795 non-null  float64\n",
      " 3   first_day_exposition  20795 non-null  object \n",
      " 4   rooms                 20795 non-null  int64  \n",
      " 5   ceiling_height        20795 non-null  float64\n",
      " 6   floors_total          20795 non-null  float64\n",
      " 7   living_area           20795 non-null  float64\n",
      " 8   floor                 20795 non-null  int64  \n",
      " 9   is_apartment          20795 non-null  bool   \n",
      " 10  studio                20795 non-null  bool   \n",
      " 11  open_plan             20795 non-null  bool   \n",
      " 12  kitchen_area          20762 non-null  float64\n",
      " 13  balcony               20795 non-null  float64\n",
      " 14  locality_name         20753 non-null  object \n",
      " 15  airports_nearest      15936 non-null  float64\n",
      " 16  cityCenters_nearest   15951 non-null  float64\n",
      " 17  parks_around3000      20795 non-null  float64\n",
      " 18  parks_nearest         6839 non-null   float64\n",
      " 19  ponds_around3000      20795 non-null  float64\n",
      " 20  ponds_nearest         7748 non-null   float64\n",
      " 21  days_exposition       18072 non-null  float64\n",
      " 22  million_price         20795 non-null  float64\n",
      "dtypes: bool(3), float64(15), int64(3), object(2)\n",
      "memory usage: 3.4+ MB\n"
     ]
    }
   ],
   "source": [
    "df.info()"
   ]
  },
  {
   "cell_type": "markdown",
   "metadata": {},
   "source": [
    "После обработки данных получили датафрейм из 20795 строк, до чистки было 23699. Очищено 12% данных"
   ]
  },
  {
   "cell_type": "markdown",
   "metadata": {},
   "source": [
    "### Посчитайте и добавьте в таблицу новые столбцы"
   ]
  },
  {
   "cell_type": "markdown",
   "metadata": {},
   "source": [
    "Добавляем в таблицу новые столбцы со следующими параметрами:\n",
    "цена одного квадратного метра;\n",
    "день недели публикации объявления (0 — понедельник, 1 — вторник и так далее);\n",
    "месяц публикации объявления;\n",
    "год публикации объявления;\n",
    "тип этажа квартиры (значения — «‎первый», «последний», «другой»);\n",
    "расстояние до центра города в кило,  км и енноеуглите до целых знчений)."
   ]
  },
  {
   "cell_type": "code",
   "execution_count": 37,
   "metadata": {},
   "outputs": [],
   "source": [
    "df['metr_price'] = df['last_price']/df['total_area']"
   ]
  },
  {
   "cell_type": "code",
   "execution_count": 38,
   "metadata": {},
   "outputs": [],
   "source": [
    "df['first_day_exposition'] = pd.to_datetime(df['first_day_exposition'], format='%Y-%m-%dT%H:%M:%S')\n",
    "df['weekday'] = df['first_day_exposition'].dt.weekday\n",
    "df['month'] = df['first_day_exposition'].dt.month\n",
    "df['year'] = df['first_day_exposition'].dt.year"
   ]
  },
  {
   "cell_type": "markdown",
   "metadata": {},
   "source": [
    "Поменяем тип данных floors_total для того, чтобы получить возможность сравнивать его со столбцом floor и категоризируем данные по этажам:"
   ]
  },
  {
   "cell_type": "code",
   "execution_count": 39,
   "metadata": {},
   "outputs": [],
   "source": [
    "df['floors_total'] = df['floors_total'].astype(int)"
   ]
  },
  {
   "cell_type": "code",
   "execution_count": 40,
   "metadata": {},
   "outputs": [],
   "source": [
    "def floor_type(row):\n",
    "    if row['floor'] == 1:\n",
    "        return 'первый'\n",
    "    elif row['floor'] == row['floors_total']:\n",
    "        return 'последний'\n",
    "    else:\n",
    "        return 'другой'"
   ]
  },
  {
   "cell_type": "code",
   "execution_count": 41,
   "metadata": {},
   "outputs": [],
   "source": [
    "df['floor_type'] = df.apply(floor_type,axis=1)"
   ]
  },
  {
   "cell_type": "code",
   "execution_count": 42,
   "metadata": {},
   "outputs": [
    {
     "data": {
      "text/plain": [
       "array(['другой', 'первый', 'последний'], dtype=object)"
      ]
     },
     "execution_count": 42,
     "metadata": {},
     "output_type": "execute_result"
    }
   ],
   "source": [
    "df['floor_type'].unique()"
   ]
  },
  {
   "cell_type": "code",
   "execution_count": 43,
   "metadata": {},
   "outputs": [],
   "source": [
    "df['center_dist'] = (df['cityCenters_nearest']/1000).round()"
   ]
  },
  {
   "cell_type": "markdown",
   "metadata": {},
   "source": [
    "### Проведите исследовательский анализ данных"
   ]
  },
  {
   "cell_type": "markdown",
   "metadata": {},
   "source": [
    "Изучите следующие параметры объектов:\n",
    "общая площадь;\n",
    "жилая площадь;\n",
    "площадь кухни;\n",
    "цена объекта;\n",
    "количество комнат;\n",
    "высота потолков;\n",
    "этаж квартиры;\n",
    "тип этажа квартиры («первый», «последний», «другой»);\n",
    "общее количество этажей в доме;\n",
    "расстояние до центра города в метрах;\n",
    "расстояние до ближайшего аэропорта;\n",
    "расстояние до ближайшего парка;\n",
    "день и месяц публикации объявления.\n",
    "Постройте отдельные гистограммы для каждого из этих параметров. Опишите все ваши наблюдения по параметрам в ячейке с типом markdown.\n",
    "Изучите, как быстро продавались квартиры (столбец days_exposition). Этот параметр показывает, сколько дней было размещено каждое объявление. \n",
    " \n",
    "Постройте гистограмму.\n",
    "Посчитайте среднее и медиану.\n",
    "В ячейке типа markdown опишите, сколько времени обычно занимает продажа. Какие продажи можно считать быстрыми, а какие — необычно долгими?\n",
    "Какие факторы больше всего влияют на общую (полную) стоимость объекта?\n",
    " Изучите, зависит ли цена от:\n",
    "общей площади;\n",
    "жилой площади;\n",
    "площади кухни;\n",
    "количества комнат;\n",
    "этажа, на котором расположена квартира (первый, последний, другой);\n",
    "даты размещения (день недели, месяц, год).\n",
    "Постройте графики, которые покажут зависимость цены от указанных выше параметров. Для подготовки данных перед визуализацией вы можете использовать сводные таблицы.\n",
    "Посчитайте среднюю цену одного квадратного метра в 10 населённых пунктах с наибольшим числом объявлений. Выделите населённые пункты с самой высокой и низкой стоимостью квадратного метра. Эти данные можно найти по имени в столбце locality_name.\n",
    "Ранее вы посчитали расстояние до центра в километрах. Теперь выделите квартиры в Санкт-Петербурге с помощью столбца locality_name и вычислите среднюю цену каждого километра. Опишите, как стоимость объектов зависит от расстояния до центра города."
   ]
  },
  {
   "cell_type": "code",
   "execution_count": 44,
   "metadata": {},
   "outputs": [
    {
     "data": {
      "text/plain": [
       "array([[<AxesSubplot:title={'center':'total_images'}>,\n",
       "        <AxesSubplot:title={'center':'last_price'}>,\n",
       "        <AxesSubplot:title={'center':'total_area'}>,\n",
       "        <AxesSubplot:title={'center':'first_day_exposition'}>,\n",
       "        <AxesSubplot:title={'center':'rooms'}>],\n",
       "       [<AxesSubplot:title={'center':'ceiling_height'}>,\n",
       "        <AxesSubplot:title={'center':'floors_total'}>,\n",
       "        <AxesSubplot:title={'center':'living_area'}>,\n",
       "        <AxesSubplot:title={'center':'floor'}>,\n",
       "        <AxesSubplot:title={'center':'kitchen_area'}>],\n",
       "       [<AxesSubplot:title={'center':'balcony'}>,\n",
       "        <AxesSubplot:title={'center':'airports_nearest'}>,\n",
       "        <AxesSubplot:title={'center':'cityCenters_nearest'}>,\n",
       "        <AxesSubplot:title={'center':'parks_around3000'}>,\n",
       "        <AxesSubplot:title={'center':'parks_nearest'}>],\n",
       "       [<AxesSubplot:title={'center':'ponds_around3000'}>,\n",
       "        <AxesSubplot:title={'center':'ponds_nearest'}>,\n",
       "        <AxesSubplot:title={'center':'days_exposition'}>,\n",
       "        <AxesSubplot:title={'center':'million_price'}>,\n",
       "        <AxesSubplot:title={'center':'metr_price'}>],\n",
       "       [<AxesSubplot:title={'center':'weekday'}>,\n",
       "        <AxesSubplot:title={'center':'month'}>,\n",
       "        <AxesSubplot:title={'center':'year'}>,\n",
       "        <AxesSubplot:title={'center':'center_dist'}>, <AxesSubplot:>]],\n",
       "      dtype=object)"
      ]
     },
     "execution_count": 44,
     "metadata": {},
     "output_type": "execute_result"
    },
    {
     "data": {
      "image/png": "[encoded data removed]",
      "text/plain": [
       "<Figure size 1080x1440 with 25 Axes>"
      ]
     },
     "metadata": {
      "needs_background": "light"
     },
     "output_type": "display_data"
    }
   ],
   "source": [
    "df.hist(figsize=(15, 20), bins=20)"
   ]
  },
  {
   "cell_type": "code",
   "execution_count": 45,
   "metadata": {},
   "outputs": [
    {
     "data": {
      "text/html": [
       "<div>\n",
       "<style scoped>\n",
       "    .dataframe tbody tr th:only-of-type {\n",
       "        vertical-align: middle;\n",
       "    }\n",
       "\n",
       "    .dataframe tbody tr th {\n",
       "        vertical-align: top;\n",
       "    }\n",
       "\n",
       "    .dataframe thead th {\n",
       "        text-align: right;\n",
       "    }\n",
       "</style>\n",
       "<table border=\"1\" class=\"dataframe\">\n",
       "  <thead>\n",
       "    <tr style=\"text-align: right;\">\n",
       "      <th></th>\n",
       "      <th>total_images</th>\n",
       "      <th>last_price</th>\n",
       "      <th>total_area</th>\n",
       "      <th>rooms</th>\n",
       "      <th>ceiling_height</th>\n",
       "      <th>floors_total</th>\n",
       "      <th>living_area</th>\n",
       "      <th>floor</th>\n",
       "      <th>kitchen_area</th>\n",
       "      <th>balcony</th>\n",
       "      <th>airports_nearest</th>\n",
       "      <th>cityCenters_nearest</th>\n",
       "      <th>parks_around3000</th>\n",
       "      <th>parks_nearest</th>\n",
       "      <th>ponds_around3000</th>\n",
       "      <th>ponds_nearest</th>\n",
       "      <th>days_exposition</th>\n",
       "      <th>million_price</th>\n",
       "      <th>metr_price</th>\n",
       "      <th>weekday</th>\n",
       "      <th>month</th>\n",
       "      <th>year</th>\n",
       "      <th>center_dist</th>\n",
       "    </tr>\n",
       "  </thead>\n",
       "  <tbody>\n",
       "    <tr>\n",
       "      <th>count</th>\n",
       "      <td>20,795.00</td>\n",
       "      <td>20,795.00</td>\n",
       "      <td>20,795.00</td>\n",
       "      <td>20,795.00</td>\n",
       "      <td>20,795.00</td>\n",
       "      <td>20,795.00</td>\n",
       "      <td>20,795.00</td>\n",
       "      <td>20,795.00</td>\n",
       "      <td>20,762.00</td>\n",
       "      <td>20,795.00</td>\n",
       "      <td>15,936.00</td>\n",
       "      <td>15,951.00</td>\n",
       "      <td>20,795.00</td>\n",
       "      <td>6,839.00</td>\n",
       "      <td>20,795.00</td>\n",
       "      <td>7,748.00</td>\n",
       "      <td>18,072.00</td>\n",
       "      <td>20,795.00</td>\n",
       "      <td>20,795.00</td>\n",
       "      <td>20,795.00</td>\n",
       "      <td>20,795.00</td>\n",
       "      <td>20,795.00</td>\n",
       "      <td>15,951.00</td>\n",
       "    </tr>\n",
       "    <tr>\n",
       "      <th>mean</th>\n",
       "      <td>9.93</td>\n",
       "      <td>5,309,567.62</td>\n",
       "      <td>55.77</td>\n",
       "      <td>2.00</td>\n",
       "      <td>2.68</td>\n",
       "      <td>10.73</td>\n",
       "      <td>31.99</td>\n",
       "      <td>5.88</td>\n",
       "      <td>9.60</td>\n",
       "      <td>0.62</td>\n",
       "      <td>28,839.61</td>\n",
       "      <td>14,612.54</td>\n",
       "      <td>0.44</td>\n",
       "      <td>491.34</td>\n",
       "      <td>0.56</td>\n",
       "      <td>527.04</td>\n",
       "      <td>181.42</td>\n",
       "      <td>5.31</td>\n",
       "      <td>94,673.11</td>\n",
       "      <td>2.55</td>\n",
       "      <td>6.42</td>\n",
       "      <td>2,017.36</td>\n",
       "      <td>14.61</td>\n",
       "    </tr>\n",
       "    <tr>\n",
       "      <th>std</th>\n",
       "      <td>5.60</td>\n",
       "      <td>2,942,331.29</td>\n",
       "      <td>22.26</td>\n",
       "      <td>0.93</td>\n",
       "      <td>0.20</td>\n",
       "      <td>6.59</td>\n",
       "      <td>15.16</td>\n",
       "      <td>4.88</td>\n",
       "      <td>4.76</td>\n",
       "      <td>0.96</td>\n",
       "      <td>12,840.27</td>\n",
       "      <td>8,624.34</td>\n",
       "      <td>0.72</td>\n",
       "      <td>337.05</td>\n",
       "      <td>0.86</td>\n",
       "      <td>276.78</td>\n",
       "      <td>217.86</td>\n",
       "      <td>2.94</td>\n",
       "      <td>31,293.56</td>\n",
       "      <td>1.78</td>\n",
       "      <td>3.46</td>\n",
       "      <td>1.04</td>\n",
       "      <td>8.63</td>\n",
       "    </tr>\n",
       "    <tr>\n",
       "      <th>min</th>\n",
       "      <td>0.00</td>\n",
       "      <td>430,000.00</td>\n",
       "      <td>14.00</td>\n",
       "      <td>1.00</td>\n",
       "      <td>2.40</td>\n",
       "      <td>1.00</td>\n",
       "      <td>10.08</td>\n",
       "      <td>1.00</td>\n",
       "      <td>0.00</td>\n",
       "      <td>0.00</td>\n",
       "      <td>0.00</td>\n",
       "      <td>208.00</td>\n",
       "      <td>0.00</td>\n",
       "      <td>1.00</td>\n",
       "      <td>0.00</td>\n",
       "      <td>13.00</td>\n",
       "      <td>1.00</td>\n",
       "      <td>0.43</td>\n",
       "      <td>9,615.38</td>\n",
       "      <td>0.00</td>\n",
       "      <td>1.00</td>\n",
       "      <td>2,014.00</td>\n",
       "      <td>0.00</td>\n",
       "    </tr>\n",
       "    <tr>\n",
       "      <th>25%</th>\n",
       "      <td>6.00</td>\n",
       "      <td>3,400,000.00</td>\n",
       "      <td>39.70</td>\n",
       "      <td>1.00</td>\n",
       "      <td>2.60</td>\n",
       "      <td>5.00</td>\n",
       "      <td>18.50</td>\n",
       "      <td>2.00</td>\n",
       "      <td>7.00</td>\n",
       "      <td>0.00</td>\n",
       "      <td>18,308.75</td>\n",
       "      <td>10,039.50</td>\n",
       "      <td>0.00</td>\n",
       "      <td>289.00</td>\n",
       "      <td>0.00</td>\n",
       "      <td>307.00</td>\n",
       "      <td>44.00</td>\n",
       "      <td>3.40</td>\n",
       "      <td>76,434.95</td>\n",
       "      <td>1.00</td>\n",
       "      <td>3.00</td>\n",
       "      <td>2,017.00</td>\n",
       "      <td>10.00</td>\n",
       "    </tr>\n",
       "    <tr>\n",
       "      <th>50%</th>\n",
       "      <td>10.00</td>\n",
       "      <td>4,550,000.00</td>\n",
       "      <td>50.70</td>\n",
       "      <td>2.00</td>\n",
       "      <td>2.65</td>\n",
       "      <td>9.00</td>\n",
       "      <td>30.00</td>\n",
       "      <td>4.00</td>\n",
       "      <td>9.00</td>\n",
       "      <td>0.00</td>\n",
       "      <td>26,873.50</td>\n",
       "      <td>13,330.00</td>\n",
       "      <td>0.00</td>\n",
       "      <td>456.00</td>\n",
       "      <td>0.00</td>\n",
       "      <td>515.00</td>\n",
       "      <td>99.00</td>\n",
       "      <td>4.55</td>\n",
       "      <td>94,117.65</td>\n",
       "      <td>2.00</td>\n",
       "      <td>6.00</td>\n",
       "      <td>2,017.00</td>\n",
       "      <td>13.00</td>\n",
       "    </tr>\n",
       "    <tr>\n",
       "      <th>75%</th>\n",
       "      <td>14.00</td>\n",
       "      <td>6,400,000.00</td>\n",
       "      <td>66.60</td>\n",
       "      <td>3.00</td>\n",
       "      <td>2.70</td>\n",
       "      <td>16.00</td>\n",
       "      <td>41.00</td>\n",
       "      <td>8.00</td>\n",
       "      <td>11.10</td>\n",
       "      <td>1.00</td>\n",
       "      <td>37,434.00</td>\n",
       "      <td>16,462.50</td>\n",
       "      <td>1.00</td>\n",
       "      <td>613.00</td>\n",
       "      <td>1.00</td>\n",
       "      <td>737.00</td>\n",
       "      <td>233.00</td>\n",
       "      <td>6.40</td>\n",
       "      <td>111,732.59</td>\n",
       "      <td>4.00</td>\n",
       "      <td>10.00</td>\n",
       "      <td>2,018.00</td>\n",
       "      <td>16.00</td>\n",
       "    </tr>\n",
       "    <tr>\n",
       "      <th>max</th>\n",
       "      <td>50.00</td>\n",
       "      <td>17,998,000.00</td>\n",
       "      <td>200.00</td>\n",
       "      <td>5.00</td>\n",
       "      <td>4.80</td>\n",
       "      <td>36.00</td>\n",
       "      <td>145.40</td>\n",
       "      <td>33.00</td>\n",
       "      <td>64.00</td>\n",
       "      <td>5.00</td>\n",
       "      <td>84,869.00</td>\n",
       "      <td>65,968.00</td>\n",
       "      <td>3.00</td>\n",
       "      <td>3,190.00</td>\n",
       "      <td>3.00</td>\n",
       "      <td>1,344.00</td>\n",
       "      <td>1,580.00</td>\n",
       "      <td>18.00</td>\n",
       "      <td>355,555.56</td>\n",
       "      <td>6.00</td>\n",
       "      <td>12.00</td>\n",
       "      <td>2,019.00</td>\n",
       "      <td>66.00</td>\n",
       "    </tr>\n",
       "  </tbody>\n",
       "</table>\n",
       "</div>"
      ],
      "text/plain": [
       "       total_images    last_price  total_area     rooms  ceiling_height  \\\n",
       "count     20,795.00     20,795.00   20,795.00 20,795.00       20,795.00   \n",
       "mean           9.93  5,309,567.62       55.77      2.00            2.68   \n",
       "std            5.60  2,942,331.29       22.26      0.93            0.20   \n",
       "min            0.00    430,000.00       14.00      1.00            2.40   \n",
       "25%            6.00  3,400,000.00       39.70      1.00            2.60   \n",
       "50%           10.00  4,550,000.00       50.70      2.00            2.65   \n",
       "75%           14.00  6,400,000.00       66.60      3.00            2.70   \n",
       "max           50.00 17,998,000.00      200.00      5.00            4.80   \n",
       "\n",
       "       floors_total  living_area     floor  kitchen_area   balcony  \\\n",
       "count     20,795.00    20,795.00 20,795.00     20,762.00 20,795.00   \n",
       "mean          10.73        31.99      5.88          9.60      0.62   \n",
       "std            6.59        15.16      4.88          4.76      0.96   \n",
       "min            1.00        10.08      1.00          0.00      0.00   \n",
       "25%            5.00        18.50      2.00          7.00      0.00   \n",
       "50%            9.00        30.00      4.00          9.00      0.00   \n",
       "75%           16.00        41.00      8.00         11.10      1.00   \n",
       "max           36.00       145.40     33.00         64.00      5.00   \n",
       "\n",
       "       airports_nearest  cityCenters_nearest  parks_around3000  parks_nearest  \\\n",
       "count         15,936.00            15,951.00         20,795.00       6,839.00   \n",
       "mean          28,839.61            14,612.54              0.44         491.34   \n",
       "std           12,840.27             8,624.34              0.72         337.05   \n",
       "min                0.00               208.00              0.00           1.00   \n",
       "25%           18,308.75            10,039.50              0.00         289.00   \n",
       "50%           26,873.50            13,330.00              0.00         456.00   \n",
       "75%           37,434.00            16,462.50              1.00         613.00   \n",
       "max           84,869.00            65,968.00              3.00       3,190.00   \n",
       "\n",
       "       ponds_around3000  ponds_nearest  days_exposition  million_price  \\\n",
       "count         20,795.00       7,748.00        18,072.00      20,795.00   \n",
       "mean               0.56         527.04           181.42           5.31   \n",
       "std                0.86         276.78           217.86           2.94   \n",
       "min                0.00          13.00             1.00           0.43   \n",
       "25%                0.00         307.00            44.00           3.40   \n",
       "50%                0.00         515.00            99.00           4.55   \n",
       "75%                1.00         737.00           233.00           6.40   \n",
       "max                3.00       1,344.00         1,580.00          18.00   \n",
       "\n",
       "       metr_price   weekday     month      year  center_dist  \n",
       "count   20,795.00 20,795.00 20,795.00 20,795.00    15,951.00  \n",
       "mean    94,673.11      2.55      6.42  2,017.36        14.61  \n",
       "std     31,293.56      1.78      3.46      1.04         8.63  \n",
       "min      9,615.38      0.00      1.00  2,014.00         0.00  \n",
       "25%     76,434.95      1.00      3.00  2,017.00        10.00  \n",
       "50%     94,117.65      2.00      6.00  2,017.00        13.00  \n",
       "75%    111,732.59      4.00     10.00  2,018.00        16.00  \n",
       "max    355,555.56      6.00     12.00  2,019.00        66.00  "
      ]
     },
     "execution_count": 45,
     "metadata": {},
     "output_type": "execute_result"
    }
   ],
   "source": [
    "df.describe()"
   ]
  },
  {
   "cell_type": "markdown",
   "metadata": {},
   "source": [
    "Общая площадь: в основном продаются квартиры площадью до 100 кв м, преимуществнно 40-45 кв м. Самая маленькая квартира площадью 14кв м продается в Санкт-Петербурге, самая большая - 900 кв м, но мы удалили ее, чтобы избежать искажения данных.\n",
    "\n",
    "Жилая площадь в среднем 50 кв м, в основном это 30 кв м\n",
    "\n",
    "Площадь кухни: кухни либо отсутствуют вообще (в студиях), либо их основная площадь находится в пределах значений 6-12 кв м, с среднем 9кв м\n",
    "\n",
    "Цена объекта: после удаления аномальных значений стоимость выставленных на продажу квартир составила от 430 тыс до 18 млн руб, медианное значение - 4550000 руб.\n",
    "\n",
    "Количество комнат: основная масса продаваемых квартир - 1-2х комнатные\n",
    "\n",
    "Высота потолков: средняя высота потолков 2,68, медиана -2,65\n",
    "\n",
    "Этаж квартиры: в продаже квартиры с 1 по 33, преимущественно с 1 по 5й этажи, медианное значение -4\n",
    "\n",
    "Тип этажа квартиры («первый», «последний», «другой»): квартир на последних этажах немного больше, чем на первых, но в преимущества - \"другой\"\n",
    "\n",
    "Общее количество этажей в доме: в продаже квартиры в домах от 1 до 36 этажных, но с большим отрывом идут пятиэтажки\n",
    "\n",
    "Расстояние до центра города в метрах: 12-15 км в большинстве\n",
    "\n",
    "Расстояние до ближайшего аэропорта: 20-30 км\n",
    "\n",
    "Расстояние до ближайшего парка: 400-500м\n",
    "\n",
    "День и месяц публикации объявления: чаще всего публикуют по вторникам и четвергам, по месяцам - в феврале и марте."
   ]
  },
  {
   "cell_type": "markdown",
   "metadata": {},
   "source": [
    "\n",
    "\n",
    "\n",
    "**Как быстро продавались квартиры** "
   ]
  },
  {
   "cell_type": "code",
   "execution_count": 46,
   "metadata": {},
   "outputs": [
    {
     "name": "stdout",
     "output_type": "stream",
     "text": [
      "Null or Na count is 2723\n",
      "count   18,072.00\n",
      "mean       181.42\n",
      "std        217.86\n",
      "min          1.00\n",
      "25%         44.00\n",
      "50%         99.00\n",
      "75%        233.00\n",
      "max      1,580.00\n",
      "Name: days_exposition, dtype: float64\n"
     ]
    },
    {
     "data": {
      "image/png": "[encoded data removed]",
      "text/plain": [
       "<Figure size 432x288 with 1 Axes>"
      ]
     },
     "metadata": {
      "needs_background": "light"
     },
     "output_type": "display_data"
    }
   ],
   "source": [
    "df['days_exposition'].hist(bins=50,range=(1,400))\n",
    "investigate_column(df['days_exposition'])\n",
    "#,range=(10,20)"
   ]
  },
  {
   "cell_type": "markdown",
   "metadata": {},
   "source": [
    "Необычно долгие продажи длились свыше 1000 дней, самая долгая продажа длилась 1580 дней, самая быстрая - 1 день. Основная масса объявлений закрывается за 40-50 дней (см гистограмму). Медиана = 99,  среднее значение = 181, это обусловлено аномально долгими продажами дольше 1000 дней, но таких квартира достаточно много (226), поэтому их не удаляем."
   ]
  },
  {
   "cell_type": "markdown",
   "metadata": {},
   "source": [
    "**Какие факторы больше всего влияют на общую (полную) стоимость объекта**\n",
    " Изучите, зависит ли цена от:\n",
    "общей площади;\n",
    "жилой площади;\n",
    "площади кухни;\n",
    "количества комнат;\n",
    "этажа, на котором расположена квартира (первый, последний, другой);\n",
    "даты размещения (день недели, месяц, год).\n",
    "Постройте графики, которые покажут зависимость цены от указанных выше параметров. Для подготовки данных перед визуализацией вы можете использовать сводные таблицы."
   ]
  },
  {
   "cell_type": "code",
   "execution_count": 47,
   "metadata": {},
   "outputs": [
    {
     "data": {
      "text/plain": [
       "<AxesSubplot:xlabel='floor_type'>"
      ]
     },
     "execution_count": 47,
     "metadata": {},
     "output_type": "execute_result"
    },
    {
     "data": {
      "image/png": "[encoded data removed]",
      "text/plain": [
       "<Figure size 432x288 with 1 Axes>"
      ]
     },
     "metadata": {
      "needs_background": "light"
     },
     "output_type": "display_data"
    }
   ],
   "source": [
    "df.pivot_table(index='floor_type', values = 'million_price').plot(kind='bar', grid=True)"
   ]
  },
  {
   "cell_type": "code",
   "execution_count": 48,
   "metadata": {},
   "outputs": [
    {
     "data": {
      "text/plain": [
       "<AxesSubplot:xlabel='year'>"
      ]
     },
     "execution_count": 48,
     "metadata": {},
     "output_type": "execute_result"
    },
    {
     "data": {
      "image/png": "[encoded data removed]",
      "text/plain": [
       "<Figure size 432x288 with 1 Axes>"
      ]
     },
     "metadata": {
      "needs_background": "light"
     },
     "output_type": "display_data"
    }
   ],
   "source": [
    "df.pivot_table(index='year', values = 'million_price').plot(kind='bar', grid=True)"
   ]
  },
  {
   "cell_type": "code",
   "execution_count": 49,
   "metadata": {},
   "outputs": [
    {
     "data": {
      "text/plain": [
       "<AxesSubplot:xlabel='rooms'>"
      ]
     },
     "execution_count": 49,
     "metadata": {},
     "output_type": "execute_result"
    },
    {
     "data": {
      "image/png": "[encoded data removed]",
      "text/plain": [
       "<Figure size 432x288 with 1 Axes>"
      ]
     },
     "metadata": {
      "needs_background": "light"
     },
     "output_type": "display_data"
    }
   ],
   "source": [
    "df.pivot_table(index='rooms', values = 'million_price').plot(kind='bar', grid=True)"
   ]
  },
  {
   "cell_type": "code",
   "execution_count": 50,
   "metadata": {},
   "outputs": [
    {
     "name": "stdout",
     "output_type": "stream",
     "text": [
      "               million_price  total_area  living_area  kitchen_area  rooms  \\\n",
      "million_price           1.00        0.77         0.65          0.53   0.49   \n",
      "total_area              0.77        1.00         0.92          0.50   0.80   \n",
      "living_area             0.65        0.92         1.00          0.25   0.88   \n",
      "kitchen_area            0.53        0.50         0.25          1.00   0.15   \n",
      "rooms                   0.49        0.80         0.88          0.15   1.00   \n",
      "weekday                -0.02       -0.02        -0.01         -0.02  -0.00   \n",
      "month                   0.00        0.00        -0.00          0.01  -0.00   \n",
      "year                   -0.02       -0.08        -0.06         -0.04  -0.04   \n",
      "\n",
      "               weekday  month  year  \n",
      "million_price    -0.02   0.00 -0.02  \n",
      "total_area       -0.02   0.00 -0.08  \n",
      "living_area      -0.01  -0.00 -0.06  \n",
      "kitchen_area     -0.02   0.01 -0.04  \n",
      "rooms            -0.00  -0.00 -0.04  \n",
      "weekday           1.00   0.01 -0.01  \n",
      "month             0.01   1.00 -0.25  \n",
      "year             -0.01  -0.25  1.00  \n"
     ]
    }
   ],
   "source": [
    "df_corr = df[['million_price','total_area', 'living_area', 'kitchen_area', 'rooms', 'weekday','month', 'year']]\n",
    "print(df_corr.corr())"
   ]
  },
  {
   "cell_type": "code",
   "execution_count": 51,
   "metadata": {},
   "outputs": [
    {
     "data": {
      "text/plain": [
       "array([[<AxesSubplot:xlabel='million_price', ylabel='million_price'>,\n",
       "        <AxesSubplot:xlabel='total_area', ylabel='million_price'>,\n",
       "        <AxesSubplot:xlabel='living_area', ylabel='million_price'>,\n",
       "        <AxesSubplot:xlabel='kitchen_area', ylabel='million_price'>,\n",
       "        <AxesSubplot:xlabel='rooms', ylabel='million_price'>,\n",
       "        <AxesSubplot:xlabel='weekday', ylabel='million_price'>,\n",
       "        <AxesSubplot:xlabel='month', ylabel='million_price'>,\n",
       "        <AxesSubplot:xlabel='year', ylabel='million_price'>],\n",
       "       [<AxesSubplot:xlabel='million_price', ylabel='total_area'>,\n",
       "        <AxesSubplot:xlabel='total_area', ylabel='total_area'>,\n",
       "        <AxesSubplot:xlabel='living_area', ylabel='total_area'>,\n",
       "        <AxesSubplot:xlabel='kitchen_area', ylabel='total_area'>,\n",
       "        <AxesSubplot:xlabel='rooms', ylabel='total_area'>,\n",
       "        <AxesSubplot:xlabel='weekday', ylabel='total_area'>,\n",
       "        <AxesSubplot:xlabel='month', ylabel='total_area'>,\n",
       "        <AxesSubplot:xlabel='year', ylabel='total_area'>],\n",
       "       [<AxesSubplot:xlabel='million_price', ylabel='living_area'>,\n",
       "        <AxesSubplot:xlabel='total_area', ylabel='living_area'>,\n",
       "        <AxesSubplot:xlabel='living_area', ylabel='living_area'>,\n",
       "        <AxesSubplot:xlabel='kitchen_area', ylabel='living_area'>,\n",
       "        <AxesSubplot:xlabel='rooms', ylabel='living_area'>,\n",
       "        <AxesSubplot:xlabel='weekday', ylabel='living_area'>,\n",
       "        <AxesSubplot:xlabel='month', ylabel='living_area'>,\n",
       "        <AxesSubplot:xlabel='year', ylabel='living_area'>],\n",
       "       [<AxesSubplot:xlabel='million_price', ylabel='kitchen_area'>,\n",
       "        <AxesSubplot:xlabel='total_area', ylabel='kitchen_area'>,\n",
       "        <AxesSubplot:xlabel='living_area', ylabel='kitchen_area'>,\n",
       "        <AxesSubplot:xlabel='kitchen_area', ylabel='kitchen_area'>,\n",
       "        <AxesSubplot:xlabel='rooms', ylabel='kitchen_area'>,\n",
       "        <AxesSubplot:xlabel='weekday', ylabel='kitchen_area'>,\n",
       "        <AxesSubplot:xlabel='month', ylabel='kitchen_area'>,\n",
       "        <AxesSubplot:xlabel='year', ylabel='kitchen_area'>],\n",
       "       [<AxesSubplot:xlabel='million_price', ylabel='rooms'>,\n",
       "        <AxesSubplot:xlabel='total_area', ylabel='rooms'>,\n",
       "        <AxesSubplot:xlabel='living_area', ylabel='rooms'>,\n",
       "        <AxesSubplot:xlabel='kitchen_area', ylabel='rooms'>,\n",
       "        <AxesSubplot:xlabel='rooms', ylabel='rooms'>,\n",
       "        <AxesSubplot:xlabel='weekday', ylabel='rooms'>,\n",
       "        <AxesSubplot:xlabel='month', ylabel='rooms'>,\n",
       "        <AxesSubplot:xlabel='year', ylabel='rooms'>],\n",
       "       [<AxesSubplot:xlabel='million_price', ylabel='weekday'>,\n",
       "        <AxesSubplot:xlabel='total_area', ylabel='weekday'>,\n",
       "        <AxesSubplot:xlabel='living_area', ylabel='weekday'>,\n",
       "        <AxesSubplot:xlabel='kitchen_area', ylabel='weekday'>,\n",
       "        <AxesSubplot:xlabel='rooms', ylabel='weekday'>,\n",
       "        <AxesSubplot:xlabel='weekday', ylabel='weekday'>,\n",
       "        <AxesSubplot:xlabel='month', ylabel='weekday'>,\n",
       "        <AxesSubplot:xlabel='year', ylabel='weekday'>],\n",
       "       [<AxesSubplot:xlabel='million_price', ylabel='month'>,\n",
       "        <AxesSubplot:xlabel='total_area', ylabel='month'>,\n",
       "        <AxesSubplot:xlabel='living_area', ylabel='month'>,\n",
       "        <AxesSubplot:xlabel='kitchen_area', ylabel='month'>,\n",
       "        <AxesSubplot:xlabel='rooms', ylabel='month'>,\n",
       "        <AxesSubplot:xlabel='weekday', ylabel='month'>,\n",
       "        <AxesSubplot:xlabel='month', ylabel='month'>,\n",
       "        <AxesSubplot:xlabel='year', ylabel='month'>],\n",
       "       [<AxesSubplot:xlabel='million_price', ylabel='year'>,\n",
       "        <AxesSubplot:xlabel='total_area', ylabel='year'>,\n",
       "        <AxesSubplot:xlabel='living_area', ylabel='year'>,\n",
       "        <AxesSubplot:xlabel='kitchen_area', ylabel='year'>,\n",
       "        <AxesSubplot:xlabel='rooms', ylabel='year'>,\n",
       "        <AxesSubplot:xlabel='weekday', ylabel='year'>,\n",
       "        <AxesSubplot:xlabel='month', ylabel='year'>,\n",
       "        <AxesSubplot:xlabel='year', ylabel='year'>]], dtype=object)"
      ]
     },
     "execution_count": 51,
     "metadata": {},
     "output_type": "execute_result"
    },
    {
     "data": {
      "image/png": "[encoded data removed]",
      "text/plain": [
       "<Figure size 648x648 with 64 Axes>"
      ]
     },
     "metadata": {
      "needs_background": "light"
     },
     "output_type": "display_data"
    }
   ],
   "source": [
    "pd.plotting.scatter_matrix(df_corr,figsize=(9, 9))"
   ]
  },
  {
   "cell_type": "markdown",
   "metadata": {},
   "source": [
    "На матрице и графиках видна прямая корреляция между стоимостью стоимостью квартиры и общей и жилой плошадями. Менее выраженная прямая корреляция с площадью кухни и количеством комнат. Самые дешевые квартиры расположены на 1х этажах, дороже всех те, которые ни на первом, ни на последнем. Наиболее высокие цены были в 2014 году. День недели и месяц на стоимость никак не влияют."
   ]
  },
  {
   "cell_type": "markdown",
   "metadata": {},
   "source": [
    "**Средняя цена одного квадратного метра в 10 населённых пунктах с наибольшим числом объявлений**\n"
   ]
  },
  {
   "cell_type": "code",
   "execution_count": 82,
   "metadata": {},
   "outputs": [
    {
     "name": "stdout",
     "output_type": "stream",
     "text": [
      "                 count  median_metr_price\n",
      "locality_name                            \n",
      "Санкт-Петербург  13655         103,125.00\n",
      "Мурино             518          86,739.88\n",
      "Кудрово            420          96,086.28\n",
      "Шушары             402          77,355.72\n",
      "Всеволожск         369          65,789.47\n",
      "Пушкин             334          99,865.71\n",
      "Колпино            327          74,722.22\n",
      "Парголово          301          91,642.86\n",
      "Гатчина            291          67,796.61\n",
      "Петергоф           195          81,944.44\n"
     ]
    }
   ],
   "source": [
    "df_locality = df.pivot_table(index='locality_name', values = 'metr_price', aggfunc=['count','median'])\n",
    "df_locality.columns = ['count','median_metr_price']\n",
    "df_locality = df_locality.sort_values(by='count', ascending=False)\n",
    "print(df_locality_top.head(10))\n"
   ]
  },
  {
   "cell_type": "markdown",
   "metadata": {},
   "source": [
    "Самая высокая стоимость квадратного метра из топ 10 объявлений - 103125 руб. в Санкт-Петербурге\n",
    "Самая низкая стоимость - 81944 руб. в Петергофе"
   ]
  },
  {
   "cell_type": "markdown",
   "metadata": {},
   "source": [
    "**Средняя цена километра. Как стоимость объектов зависит от расстояния до центра города в Санкт-Петербурге**"
   ]
  },
  {
   "cell_type": "code",
   "execution_count": 54,
   "metadata": {},
   "outputs": [],
   "source": [
    "df['price_km'] = df['metr_price']/df['cityCenters_nearest']"
   ]
  },
  {
   "cell_type": "code",
   "execution_count": 55,
   "metadata": {},
   "outputs": [
    {
     "name": "stdout",
     "output_type": "stream",
     "text": [
      "       cityCenters_nearest  price_km\n",
      "1182                208.00    829.90\n",
      "8614                215.00    511.16\n",
      "1934                287.00    309.39\n",
      "20873               291.00    348.18\n",
      "22036               329.00    303.95\n",
      "8677                376.00    366.37\n",
      "8239                387.00    360.00\n",
      "17078               392.00    511.09\n",
      "2609                399.00    225.56\n",
      "12556               423.00    260.89\n"
     ]
    },
    {
     "data": {
      "text/plain": [
       "<AxesSubplot:xlabel='price_km'>"
      ]
     },
     "execution_count": 55,
     "metadata": {},
     "output_type": "execute_result"
    },
    {
     "data": {
      "image/png": "[encoded data removed]",
      "text/plain": [
       "<Figure size 432x288 with 1 Axes>"
      ]
     },
     "metadata": {
      "needs_background": "light"
     },
     "output_type": "display_data"
    }
   ],
   "source": [
    "centr_price = df.query('locality_name==\"Санкт-Петербург\"')\n",
    "centr_price = centr_price[['cityCenters_nearest','price_km']].copy().sort_values(by='cityCenters_nearest')\n",
    "print(centr_price.head(10))\n",
    "#pd.plotting.scatter_matrix(centr_price,figsize=(9, 9))\n",
    "centr_price.plot(x='price_km',y='cityCenters_nearest')"
   ]
  },
  {
   "cell_type": "markdown",
   "metadata": {},
   "source": [
    "Чем ближе к центру находится квартира, тем выше цена квадратного метра."
   ]
  },
  {
   "cell_type": "markdown",
   "metadata": {},
   "source": [
    "### Общий вывод"
   ]
  },
  {
   "cell_type": "markdown",
   "metadata": {},
   "source": [
    "**Результат работы:**\n",
    "\n",
    "\n",
    "    -Изучены данные\n",
    "    -Выявлены и устранены пропуски в данных, где это возможно\n",
    "    -Обнаружены и устранены явные и неявние дубликаты\n",
    "    -Изучены и изменены типы данных, где необходимо\n",
    "    -Выявлены и устранены аномалии (12% исходных данных)\n",
    "    -Добавлены новые данные столбцы для дальнейшего исследования\n",
    "    -Изучены параметры объектов, скорость продажи и параметры, влияющие на стоимость\n",
    "    -Выявлены населенные пункты с самой высокой и низкой ценой за квардратный метр из топ-10 объявлений:\n",
    "    103125 руб. в Санкт-Петербурге и 81945 руб. в Петергофе.\n",
    "    -Определена средняя цена километра при удалении от центра города, выявить наличие закономерности: чем ближе к центру находится квартира, тем выше цена квадратного метра, так же и цена километра падает по мере удаления от центра города\n",
    "\n",
    "     В процессе анализа данных была получена следующая информация:\n",
    "    \n",
    "    Общая площадь: в основном продаются квартиры площадью до 100 кв м, преимуществнно 40-45 кв м. Самая маленькая квартира площадью 14кв м продается в Санкт-Петербурге, самая большая - 900 кв м, но мы удалили ее, чтобы избежать искажения данных. \n",
    "    Жилая площадь в среднем 50 кв м, в основном это 30 кв м\n",
    "    Площадь кухни: кухни либо отсутствуют вообще (в студиях), либо их основная площадь находится в пределах значений 6-12 кв м, с среднем 9кв м\n",
    "    Цена объекта: после удаления аномальных значений стоимость выставленных на продажу квартир составила от 430 тыс до 18 млн руб, медианное значение - 4550000 руб.\n",
    "    Количество комнат: основная масса продаваемых квартир - 1-2х комнатные\n",
    "    Высота потолков: средняя высота потолков 2,68, медиана -2,65\n",
    "    Этаж квартиры: в продаже квартиры с 1 по 33, преимущественно с 1 по 5й этажи, медианное значение-4\n",
    "    Тип этажа квартиры («первый», «последний», «другой»): квартир на последних этажах немного больше, чем на первых, но в преимущества - \"другой\"\n",
    "    Общее количество этажей в доме: в продаже квартиры в домах от 1 до 36 этажных, но с большим отрывом идут пятиэтажки\n",
    "    Расстояние до центра города в метрах: 12-15 км в большинстве\n",
    "    Расстояние до ближайшего аэропорта: 20-30 км\n",
    "    Расстояние до ближайшего парка: 400-500м\n",
    "    День и месяц публикации объявления: чаще всего публикуют по вторникам и четвергам, по месяцам - в феврале и марте.\n",
    "    Портрет самой популярной в объявлениях квартиры:\n",
    "    Общая площадь - 50 кв м, жилая - 30 кв м, двухкомнатная, кухня 9 кв м, стоимостью 4,55 млн в пятиэтажном доме, на 2м этаже потолки 2,65, расстояние до центра- 14км, до аэропорта 17км, близжайший парк в 400м."
   ]
  },
  {
   "cell_type": "markdown",
   "metadata": {},
   "source": [
    "**Чек-лист готовности проекта**\n",
    "\n",
    "Поставьте 'x' в выполненных пунктах. Далее нажмите Shift+Enter."
   ]
  },
  {
   "cell_type": "markdown",
   "metadata": {},
   "source": [
    "- [x]  открыт файл\n",
    "- [x]  файлы изучены (выведены первые строки, метод `info()`, гистограммы и т.д.)\n",
    "- [x]  определены пропущенные значения\n",
    "- [x]  заполнены пропущенные значения там, где это возможно\n",
    "- [x]  есть пояснение, какие пропущенные значения обнаружены\n",
    "- [x]  изменены типы данных\n",
    "- [x]  есть пояснение, в каких столбцах изменены типы и почему\n",
    "- [x]  устранены неявные дубликаты в названиях населённых пунктов\n",
    "- [x]  устранены редкие и выбивающиеся значения (аномалии) во всех столбцах\n",
    "- [x]  посчитано и добавлено в таблицу: цена одного квадратного метра\n",
    "- [x]  посчитано и добавлено в таблицу: день публикации объявления (0 - понедельник, 1 - вторник и т.д.)\n",
    "- [x]  посчитано и добавлено в таблицу: месяц публикации объявления\n",
    "- [x]  посчитано и добавлено в таблицу: год публикации объявления\n",
    "- [x]  посчитано и добавлено в таблицу: тип этажа квартиры (значения — «первый», «последний», «другой»)\n",
    "- [x]  посчитано и добавлено в таблицу: расстояние в км до центра города\n",
    "- [x]  изучены и описаны следующие параметры:\n",
    "        - общая площадь;\n",
    "        - жилая площадь;\n",
    "        - площадь кухни;\n",
    "        - цена объекта;\n",
    "        - количество комнат;\n",
    "        - высота потолков;\n",
    "        - этаж квартиры;\n",
    "        - тип этажа квартиры («первый», «последний», «другой»);\n",
    "        - общее количество этажей в доме;\n",
    "        - расстояние до центра города в метрах;\n",
    "        - расстояние до ближайшего аэропорта;\n",
    "        - расстояние до ближайшего парка;\n",
    "        - день и месяц публикации объявления\n",
    "- [x]  построены гистограммы для каждого параметра\n",
    "- [x]  выполнено задание: \"Изучите, как быстро продавались квартиры (столбец days_exposition). Этот параметр показывает, сколько дней «висело» каждое объявление.\n",
    "    - Постройте гистограмму.\n",
    "    - Посчитайте среднее и медиану.\n",
    "    - В ячейке типа markdown опишите, сколько обычно занимает продажа. Какие продажи можно считать быстрыми, а какие — необычно долгими?\"\n",
    "- [x]  выполнено задание: \"Какие факторы больше всего влияют на общую (полную) стоимость объекта? Постройте графики, которые покажут зависимость цены от указанных ниже параметров. Для подготовки данных перед визуализацией вы можете использовать сводные таблицы.\"\n",
    "        - общей площади;\n",
    "        - жилой площади;\n",
    "        - площади кухни;\n",
    "        - количество комнат;\n",
    "        - типа этажа, на котором расположена квартира (первый, последний, другой);\n",
    "        - даты размещения (день недели, месяц, год);\n",
    "- [x]  выполнено задание: \"Посчитайте среднюю цену одного квадратного метра в 10 населённых пунктах с наибольшим числом объявлений. Выделите населённые пункты с самой высокой и низкой стоимостью квадратного метра. Эти данные можно найти по имени в столбце `locality_name`.\"\n",
    "- [x]  выполнено задание: \"Ранее вы посчитали расстояние до центра в километрах. Теперь выделите квартиры в Санкт-Петербурге с помощью столбца `locality_name` и вычислите среднюю цену каждого километра. Опишите, как стоимость объектов зависит от расстояния до центра города.\"\n",
    "- [x]  в каждом этапе есть промежуточные выводы\n",
    "- [x]  есть общий вывод"
   ]
  }
 ],
 "metadata": {
  "ExecuteTimeLog": [
   {
    "duration": 66,
    "start_time": "2024-08-07T07:49:46.710Z"
   },
   {
    "duration": 510,
    "start_time": "2024-08-07T07:52:07.216Z"
   },
   {
    "duration": 35,
    "start_time": "2024-08-07T07:53:56.185Z"
   },
   {
    "duration": 61,
    "start_time": "2024-08-07T07:54:16.533Z"
   },
   {
    "duration": 59,
    "start_time": "2024-08-07T07:57:11.282Z"
   },
   {
    "duration": 58,
    "start_time": "2024-08-07T08:01:08.323Z"
   },
   {
    "duration": 38,
    "start_time": "2024-08-07T08:01:25.690Z"
   },
   {
    "duration": 71,
    "start_time": "2024-08-07T08:01:30.077Z"
   },
   {
    "duration": 1278,
    "start_time": "2024-08-09T15:55:22.588Z"
   },
   {
    "duration": 158,
    "start_time": "2024-08-09T15:55:23.868Z"
   },
   {
    "duration": 14,
    "start_time": "2024-08-09T15:55:24.028Z"
   },
   {
    "duration": 35,
    "start_time": "2024-08-09T15:55:24.044Z"
   },
   {
    "duration": 1895,
    "start_time": "2024-08-09T15:55:24.080Z"
   },
   {
    "duration": 9,
    "start_time": "2024-08-09T15:55:25.976Z"
   },
   {
    "duration": 3,
    "start_time": "2024-08-09T15:55:25.986Z"
   },
   {
    "duration": 9,
    "start_time": "2024-08-09T15:55:25.991Z"
   },
   {
    "duration": 9,
    "start_time": "2024-08-09T15:55:26.001Z"
   },
   {
    "duration": 51,
    "start_time": "2024-08-09T15:55:26.012Z"
   },
   {
    "duration": 7,
    "start_time": "2024-08-09T15:55:26.064Z"
   },
   {
    "duration": 24,
    "start_time": "2024-08-09T15:55:26.072Z"
   },
   {
    "duration": 6,
    "start_time": "2024-08-09T15:55:26.097Z"
   },
   {
    "duration": 9,
    "start_time": "2024-08-09T15:55:26.104Z"
   },
   {
    "duration": 15,
    "start_time": "2024-08-09T15:55:26.114Z"
   },
   {
    "duration": 29,
    "start_time": "2024-08-09T15:55:26.130Z"
   },
   {
    "duration": 26,
    "start_time": "2024-08-09T15:55:26.161Z"
   },
   {
    "duration": 18,
    "start_time": "2024-08-09T15:55:26.188Z"
   },
   {
    "duration": 23,
    "start_time": "2024-08-09T15:55:26.207Z"
   },
   {
    "duration": 20,
    "start_time": "2024-08-09T15:55:26.231Z"
   },
   {
    "duration": 146,
    "start_time": "2024-08-09T15:55:26.252Z"
   },
   {
    "duration": 6,
    "start_time": "2024-08-09T15:55:26.400Z"
   },
   {
    "duration": 9,
    "start_time": "2024-08-09T15:55:26.407Z"
   },
   {
    "duration": 20,
    "start_time": "2024-08-09T15:55:26.418Z"
   },
   {
    "duration": 9,
    "start_time": "2024-08-09T15:55:26.440Z"
   },
   {
    "duration": 18,
    "start_time": "2024-08-09T15:55:26.450Z"
   },
   {
    "duration": 5,
    "start_time": "2024-08-09T15:55:26.469Z"
   },
   {
    "duration": 19,
    "start_time": "2024-08-09T15:55:26.477Z"
   },
   {
    "duration": 7,
    "start_time": "2024-08-09T15:55:26.497Z"
   },
   {
    "duration": 11,
    "start_time": "2024-08-09T15:55:26.505Z"
   },
   {
    "duration": 187,
    "start_time": "2024-08-09T15:55:26.537Z"
   },
   {
    "duration": 41,
    "start_time": "2024-08-09T15:55:26.726Z"
   },
   {
    "duration": 8,
    "start_time": "2024-08-09T15:55:26.769Z"
   },
   {
    "duration": 8,
    "start_time": "2024-08-09T15:55:26.778Z"
   },
   {
    "duration": 14,
    "start_time": "2024-08-09T15:55:26.788Z"
   },
   {
    "duration": 4,
    "start_time": "2024-08-09T15:55:26.803Z"
   },
   {
    "duration": 41,
    "start_time": "2024-08-09T15:55:26.808Z"
   },
   {
    "duration": 3,
    "start_time": "2024-08-09T15:55:26.851Z"
   },
   {
    "duration": 18,
    "start_time": "2024-08-09T15:55:26.856Z"
   },
   {
    "duration": 305,
    "start_time": "2024-08-09T15:55:26.875Z"
   },
   {
    "duration": 4,
    "start_time": "2024-08-09T15:55:27.182Z"
   },
   {
    "duration": 8,
    "start_time": "2024-08-09T15:55:27.188Z"
   },
   {
    "duration": 2846,
    "start_time": "2024-08-09T15:55:27.197Z"
   },
   {
    "duration": 213,
    "start_time": "2024-08-09T15:55:30.044Z"
   },
   {
    "duration": 151,
    "start_time": "2024-08-09T15:55:30.259Z"
   },
   {
    "duration": 133,
    "start_time": "2024-08-09T15:55:30.411Z"
   },
   {
    "duration": 147,
    "start_time": "2024-08-09T15:55:30.546Z"
   },
   {
    "duration": 129,
    "start_time": "2024-08-09T15:55:30.695Z"
   },
   {
    "duration": 21,
    "start_time": "2024-08-09T15:55:30.826Z"
   },
   {
    "duration": 5850,
    "start_time": "2024-08-09T15:55:30.848Z"
   },
   {
    "duration": 14,
    "start_time": "2024-08-09T15:55:36.700Z"
   },
   {
    "duration": 30,
    "start_time": "2024-08-09T15:55:36.715Z"
   },
   {
    "duration": 12,
    "start_time": "2024-08-09T15:55:36.746Z"
   },
   {
    "duration": 144,
    "start_time": "2024-08-09T15:55:36.759Z"
   },
   {
    "duration": 44,
    "start_time": "2024-08-09T19:39:02.678Z"
   },
   {
    "duration": 11,
    "start_time": "2024-08-09T19:51:20.241Z"
   },
   {
    "duration": 1285,
    "start_time": "2024-08-09T19:51:33.570Z"
   },
   {
    "duration": 247,
    "start_time": "2024-08-09T19:51:34.857Z"
   },
   {
    "duration": 18,
    "start_time": "2024-08-09T19:51:35.106Z"
   },
   {
    "duration": 32,
    "start_time": "2024-08-09T19:51:35.126Z"
   },
   {
    "duration": 1766,
    "start_time": "2024-08-09T19:51:35.159Z"
   },
   {
    "duration": 25,
    "start_time": "2024-08-09T19:51:36.926Z"
   },
   {
    "duration": 9,
    "start_time": "2024-08-09T19:51:36.953Z"
   },
   {
    "duration": 3,
    "start_time": "2024-08-09T19:51:36.963Z"
   },
   {
    "duration": 9,
    "start_time": "2024-08-09T19:51:36.967Z"
   },
   {
    "duration": 8,
    "start_time": "2024-08-09T19:51:36.978Z"
   },
   {
    "duration": 80,
    "start_time": "2024-08-09T19:51:36.987Z"
   },
   {
    "duration": 8,
    "start_time": "2024-08-09T19:51:37.069Z"
   },
   {
    "duration": 6,
    "start_time": "2024-08-09T19:51:37.078Z"
   },
   {
    "duration": 8,
    "start_time": "2024-08-09T19:51:37.085Z"
   },
   {
    "duration": 5,
    "start_time": "2024-08-09T19:51:37.094Z"
   },
   {
    "duration": 6,
    "start_time": "2024-08-09T19:51:37.124Z"
   },
   {
    "duration": 4,
    "start_time": "2024-08-09T19:51:37.132Z"
   },
   {
    "duration": 8,
    "start_time": "2024-08-09T19:51:37.137Z"
   },
   {
    "duration": 3,
    "start_time": "2024-08-09T19:51:37.147Z"
   },
   {
    "duration": 12,
    "start_time": "2024-08-09T19:51:37.151Z"
   },
   {
    "duration": 190,
    "start_time": "2024-08-09T19:51:37.164Z"
   },
   {
    "duration": 5,
    "start_time": "2024-08-09T19:51:37.356Z"
   },
   {
    "duration": 6,
    "start_time": "2024-08-09T19:51:37.362Z"
   },
   {
    "duration": 8,
    "start_time": "2024-08-09T19:51:37.369Z"
   },
   {
    "duration": 8,
    "start_time": "2024-08-09T19:51:37.378Z"
   },
   {
    "duration": 8,
    "start_time": "2024-08-09T19:51:37.387Z"
   },
   {
    "duration": 29,
    "start_time": "2024-08-09T19:51:37.396Z"
   },
   {
    "duration": 20,
    "start_time": "2024-08-09T19:51:37.431Z"
   },
   {
    "duration": 7,
    "start_time": "2024-08-09T19:51:37.452Z"
   },
   {
    "duration": 7,
    "start_time": "2024-08-09T19:51:37.461Z"
   },
   {
    "duration": 200,
    "start_time": "2024-08-09T19:51:37.469Z"
   },
   {
    "duration": 33,
    "start_time": "2024-08-09T19:51:37.670Z"
   },
   {
    "duration": 20,
    "start_time": "2024-08-09T19:51:37.704Z"
   },
   {
    "duration": 7,
    "start_time": "2024-08-09T19:51:37.725Z"
   },
   {
    "duration": 21,
    "start_time": "2024-08-09T19:51:37.733Z"
   },
   {
    "duration": 3,
    "start_time": "2024-08-09T19:51:37.756Z"
   },
   {
    "duration": 15,
    "start_time": "2024-08-09T19:51:37.760Z"
   },
   {
    "duration": 3,
    "start_time": "2024-08-09T19:51:37.777Z"
   },
   {
    "duration": 3,
    "start_time": "2024-08-09T19:51:37.781Z"
   },
   {
    "duration": 322,
    "start_time": "2024-08-09T19:51:37.785Z"
   },
   {
    "duration": 5,
    "start_time": "2024-08-09T19:51:38.108Z"
   },
   {
    "duration": 5,
    "start_time": "2024-08-09T19:51:38.123Z"
   },
   {
    "duration": 2990,
    "start_time": "2024-08-09T19:51:38.131Z"
   },
   {
    "duration": 199,
    "start_time": "2024-08-09T19:51:41.125Z"
   },
   {
    "duration": 156,
    "start_time": "2024-08-09T19:51:41.326Z"
   },
   {
    "duration": 136,
    "start_time": "2024-08-09T19:51:41.484Z"
   },
   {
    "duration": 144,
    "start_time": "2024-08-09T19:51:41.623Z"
   },
   {
    "duration": 114,
    "start_time": "2024-08-09T19:51:41.768Z"
   },
   {
    "duration": 10,
    "start_time": "2024-08-09T19:51:41.883Z"
   },
   {
    "duration": 5430,
    "start_time": "2024-08-09T19:51:41.894Z"
   },
   {
    "duration": 14,
    "start_time": "2024-08-09T19:51:47.325Z"
   },
   {
    "duration": 12,
    "start_time": "2024-08-09T19:51:47.340Z"
   },
   {
    "duration": 3,
    "start_time": "2024-08-09T19:51:47.353Z"
   },
   {
    "duration": 151,
    "start_time": "2024-08-09T19:51:47.357Z"
   },
   {
    "duration": 24,
    "start_time": "2024-08-09T19:52:11.190Z"
   },
   {
    "duration": 87,
    "start_time": "2024-08-09T19:53:37.381Z"
   },
   {
    "duration": 9,
    "start_time": "2024-08-09T19:53:48.148Z"
   },
   {
    "duration": 9,
    "start_time": "2024-08-09T19:54:27.118Z"
   },
   {
    "duration": 8,
    "start_time": "2024-08-09T19:54:45.058Z"
   },
   {
    "duration": 9,
    "start_time": "2024-08-09T19:55:02.445Z"
   }
  ],
  "kernelspec": {
   "display_name": "Python 3 (ipykernel)",
   "language": "python",
   "name": "python3"
  },
  "language_info": {
   "codemirror_mode": {
    "name": "ipython",
    "version": 3
   },
   "file_extension": ".py",
   "mimetype": "text/x-python",
   "name": "python",
   "nbconvert_exporter": "python",
   "pygments_lexer": "ipython3",
   "version": "3.12.4"
  },
  "toc": {
   "base_numbering": 1,
   "nav_menu": {},
   "number_sections": true,
   "sideBar": true,
   "skip_h1_title": true,
   "title_cell": "Table of Contents",
   "title_sidebar": "Contents",
   "toc_cell": false,
   "toc_position": {},
   "toc_section_display": true,
   "toc_window_display": false
  }
 },
 "nbformat": 4,
 "nbformat_minor": 4
}

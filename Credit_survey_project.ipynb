{
 "cells": [
  {
   "cell_type": "markdown",
   "id": "386f2ae7",
   "metadata": {
    "deletable": false,
    "editable": false,
    "id": "386f2ae7"
   },
   "source": [
    "# Исследование надежности заемщиков\n"
   ]
  },
  {
   "cell_type": "markdown",
   "id": "ffe86f65",
   "metadata": {
    "deletable": false,
    "editable": false,
    "id": "ffe86f65"
   },
   "source": [
    "Во второй части проекта вы выполните шаги 3 и 4. Их вручную проверит ревьюер.\n",
    "Чтобы вам не пришлось писать код заново для шагов 1 и 2, мы добавили авторские решения в ячейки с кодом. \n",
    "\n"
   ]
  },
  {
   "cell_type": "markdown",
   "id": "26613308",
   "metadata": {
    "deletable": false,
    "editable": false,
    "id": "26613308"
   },
   "source": [
    "## Откройте таблицу и изучите общую информацию о данных"
   ]
  },
  {
   "cell_type": "markdown",
   "id": "3c9f838e",
   "metadata": {
    "deletable": false,
    "editable": false,
    "id": "3c9f838e"
   },
   "source": [
    "**Задание 1. Импортируйте библиотеку pandas. Считайте данные из csv-файла в датафрейм и сохраните в переменную `data`. Путь к файлу:**\n",
    "\n",
    "`/datasets/data.csv`"
   ]
  },
  {
   "cell_type": "code",
   "execution_count": 1,
   "id": "77a68a90",
   "metadata": {
    "deletable": false,
    "id": "77a68a90"
   },
   "outputs": [],
   "source": [
    "import pandas as pd\n",
    "\n",
    "try:\n",
    "    data = pd.read_csv('/datasets/data.csv')\n",
    "except:\n",
    "    data = pd.read_csv('https://code.s3.yandex.net/datasets/data.csv')"
   ]
  },
  {
   "cell_type": "markdown",
   "id": "45365635",
   "metadata": {
    "deletable": false,
    "editable": false,
    "id": "45365635"
   },
   "source": [
    "**Задание 2. Выведите первые 20 строчек датафрейма `data` на экран.**"
   ]
  },
  {
   "cell_type": "code",
   "execution_count": 2,
   "id": "b0451a9a",
   "metadata": {
    "deletable": false,
    "id": "b0451a9a",
    "outputId": "1a8f3ef2-d323-4ec2-ddf7-89670b5944c4"
   },
   "outputs": [
    {
     "data": {
      "text/html": [
       "<div>\n",
       "<style scoped>\n",
       "    .dataframe tbody tr th:only-of-type {\n",
       "        vertical-align: middle;\n",
       "    }\n",
       "\n",
       "    .dataframe tbody tr th {\n",
       "        vertical-align: top;\n",
       "    }\n",
       "\n",
       "    .dataframe thead th {\n",
       "        text-align: right;\n",
       "    }\n",
       "</style>\n",
       "<table border=\"1\" class=\"dataframe\">\n",
       "  <thead>\n",
       "    <tr style=\"text-align: right;\">\n",
       "      <th></th>\n",
       "      <th>children</th>\n",
       "      <th>days_employed</th>\n",
       "      <th>dob_years</th>\n",
       "      <th>education</th>\n",
       "      <th>education_id</th>\n",
       "      <th>family_status</th>\n",
       "      <th>family_status_id</th>\n",
       "      <th>gender</th>\n",
       "      <th>income_type</th>\n",
       "      <th>debt</th>\n",
       "      <th>total_income</th>\n",
       "      <th>purpose</th>\n",
       "    </tr>\n",
       "  </thead>\n",
       "  <tbody>\n",
       "    <tr>\n",
       "      <th>0</th>\n",
       "      <td>1</td>\n",
       "      <td>-8437.673028</td>\n",
       "      <td>42</td>\n",
       "      <td>высшее</td>\n",
       "      <td>0</td>\n",
       "      <td>женат / замужем</td>\n",
       "      <td>0</td>\n",
       "      <td>F</td>\n",
       "      <td>сотрудник</td>\n",
       "      <td>0</td>\n",
       "      <td>253875.639453</td>\n",
       "      <td>покупка жилья</td>\n",
       "    </tr>\n",
       "    <tr>\n",
       "      <th>1</th>\n",
       "      <td>1</td>\n",
       "      <td>-4024.803754</td>\n",
       "      <td>36</td>\n",
       "      <td>среднее</td>\n",
       "      <td>1</td>\n",
       "      <td>женат / замужем</td>\n",
       "      <td>0</td>\n",
       "      <td>F</td>\n",
       "      <td>сотрудник</td>\n",
       "      <td>0</td>\n",
       "      <td>112080.014102</td>\n",
       "      <td>приобретение автомобиля</td>\n",
       "    </tr>\n",
       "    <tr>\n",
       "      <th>2</th>\n",
       "      <td>0</td>\n",
       "      <td>-5623.422610</td>\n",
       "      <td>33</td>\n",
       "      <td>Среднее</td>\n",
       "      <td>1</td>\n",
       "      <td>женат / замужем</td>\n",
       "      <td>0</td>\n",
       "      <td>M</td>\n",
       "      <td>сотрудник</td>\n",
       "      <td>0</td>\n",
       "      <td>145885.952297</td>\n",
       "      <td>покупка жилья</td>\n",
       "    </tr>\n",
       "    <tr>\n",
       "      <th>3</th>\n",
       "      <td>3</td>\n",
       "      <td>-4124.747207</td>\n",
       "      <td>32</td>\n",
       "      <td>среднее</td>\n",
       "      <td>1</td>\n",
       "      <td>женат / замужем</td>\n",
       "      <td>0</td>\n",
       "      <td>M</td>\n",
       "      <td>сотрудник</td>\n",
       "      <td>0</td>\n",
       "      <td>267628.550329</td>\n",
       "      <td>дополнительное образование</td>\n",
       "    </tr>\n",
       "    <tr>\n",
       "      <th>4</th>\n",
       "      <td>0</td>\n",
       "      <td>340266.072047</td>\n",
       "      <td>53</td>\n",
       "      <td>среднее</td>\n",
       "      <td>1</td>\n",
       "      <td>гражданский брак</td>\n",
       "      <td>1</td>\n",
       "      <td>F</td>\n",
       "      <td>пенсионер</td>\n",
       "      <td>0</td>\n",
       "      <td>158616.077870</td>\n",
       "      <td>сыграть свадьбу</td>\n",
       "    </tr>\n",
       "    <tr>\n",
       "      <th>5</th>\n",
       "      <td>0</td>\n",
       "      <td>-926.185831</td>\n",
       "      <td>27</td>\n",
       "      <td>высшее</td>\n",
       "      <td>0</td>\n",
       "      <td>гражданский брак</td>\n",
       "      <td>1</td>\n",
       "      <td>M</td>\n",
       "      <td>компаньон</td>\n",
       "      <td>0</td>\n",
       "      <td>255763.565419</td>\n",
       "      <td>покупка жилья</td>\n",
       "    </tr>\n",
       "    <tr>\n",
       "      <th>6</th>\n",
       "      <td>0</td>\n",
       "      <td>-2879.202052</td>\n",
       "      <td>43</td>\n",
       "      <td>высшее</td>\n",
       "      <td>0</td>\n",
       "      <td>женат / замужем</td>\n",
       "      <td>0</td>\n",
       "      <td>F</td>\n",
       "      <td>компаньон</td>\n",
       "      <td>0</td>\n",
       "      <td>240525.971920</td>\n",
       "      <td>операции с жильем</td>\n",
       "    </tr>\n",
       "    <tr>\n",
       "      <th>7</th>\n",
       "      <td>0</td>\n",
       "      <td>-152.779569</td>\n",
       "      <td>50</td>\n",
       "      <td>СРЕДНЕЕ</td>\n",
       "      <td>1</td>\n",
       "      <td>женат / замужем</td>\n",
       "      <td>0</td>\n",
       "      <td>M</td>\n",
       "      <td>сотрудник</td>\n",
       "      <td>0</td>\n",
       "      <td>135823.934197</td>\n",
       "      <td>образование</td>\n",
       "    </tr>\n",
       "    <tr>\n",
       "      <th>8</th>\n",
       "      <td>2</td>\n",
       "      <td>-6929.865299</td>\n",
       "      <td>35</td>\n",
       "      <td>ВЫСШЕЕ</td>\n",
       "      <td>0</td>\n",
       "      <td>гражданский брак</td>\n",
       "      <td>1</td>\n",
       "      <td>F</td>\n",
       "      <td>сотрудник</td>\n",
       "      <td>0</td>\n",
       "      <td>95856.832424</td>\n",
       "      <td>на проведение свадьбы</td>\n",
       "    </tr>\n",
       "    <tr>\n",
       "      <th>9</th>\n",
       "      <td>0</td>\n",
       "      <td>-2188.756445</td>\n",
       "      <td>41</td>\n",
       "      <td>среднее</td>\n",
       "      <td>1</td>\n",
       "      <td>женат / замужем</td>\n",
       "      <td>0</td>\n",
       "      <td>M</td>\n",
       "      <td>сотрудник</td>\n",
       "      <td>0</td>\n",
       "      <td>144425.938277</td>\n",
       "      <td>покупка жилья для семьи</td>\n",
       "    </tr>\n",
       "    <tr>\n",
       "      <th>10</th>\n",
       "      <td>2</td>\n",
       "      <td>-4171.483647</td>\n",
       "      <td>36</td>\n",
       "      <td>высшее</td>\n",
       "      <td>0</td>\n",
       "      <td>женат / замужем</td>\n",
       "      <td>0</td>\n",
       "      <td>M</td>\n",
       "      <td>компаньон</td>\n",
       "      <td>0</td>\n",
       "      <td>113943.491460</td>\n",
       "      <td>покупка недвижимости</td>\n",
       "    </tr>\n",
       "    <tr>\n",
       "      <th>11</th>\n",
       "      <td>0</td>\n",
       "      <td>-792.701887</td>\n",
       "      <td>40</td>\n",
       "      <td>среднее</td>\n",
       "      <td>1</td>\n",
       "      <td>женат / замужем</td>\n",
       "      <td>0</td>\n",
       "      <td>F</td>\n",
       "      <td>сотрудник</td>\n",
       "      <td>0</td>\n",
       "      <td>77069.234271</td>\n",
       "      <td>покупка коммерческой недвижимости</td>\n",
       "    </tr>\n",
       "    <tr>\n",
       "      <th>12</th>\n",
       "      <td>0</td>\n",
       "      <td>NaN</td>\n",
       "      <td>65</td>\n",
       "      <td>среднее</td>\n",
       "      <td>1</td>\n",
       "      <td>гражданский брак</td>\n",
       "      <td>1</td>\n",
       "      <td>M</td>\n",
       "      <td>пенсионер</td>\n",
       "      <td>0</td>\n",
       "      <td>NaN</td>\n",
       "      <td>сыграть свадьбу</td>\n",
       "    </tr>\n",
       "    <tr>\n",
       "      <th>13</th>\n",
       "      <td>0</td>\n",
       "      <td>-1846.641941</td>\n",
       "      <td>54</td>\n",
       "      <td>неоконченное высшее</td>\n",
       "      <td>2</td>\n",
       "      <td>женат / замужем</td>\n",
       "      <td>0</td>\n",
       "      <td>F</td>\n",
       "      <td>сотрудник</td>\n",
       "      <td>0</td>\n",
       "      <td>130458.228857</td>\n",
       "      <td>приобретение автомобиля</td>\n",
       "    </tr>\n",
       "    <tr>\n",
       "      <th>14</th>\n",
       "      <td>0</td>\n",
       "      <td>-1844.956182</td>\n",
       "      <td>56</td>\n",
       "      <td>высшее</td>\n",
       "      <td>0</td>\n",
       "      <td>гражданский брак</td>\n",
       "      <td>1</td>\n",
       "      <td>F</td>\n",
       "      <td>компаньон</td>\n",
       "      <td>1</td>\n",
       "      <td>165127.911772</td>\n",
       "      <td>покупка жилой недвижимости</td>\n",
       "    </tr>\n",
       "    <tr>\n",
       "      <th>15</th>\n",
       "      <td>1</td>\n",
       "      <td>-972.364419</td>\n",
       "      <td>26</td>\n",
       "      <td>среднее</td>\n",
       "      <td>1</td>\n",
       "      <td>женат / замужем</td>\n",
       "      <td>0</td>\n",
       "      <td>F</td>\n",
       "      <td>сотрудник</td>\n",
       "      <td>0</td>\n",
       "      <td>116820.904450</td>\n",
       "      <td>строительство собственной недвижимости</td>\n",
       "    </tr>\n",
       "    <tr>\n",
       "      <th>16</th>\n",
       "      <td>0</td>\n",
       "      <td>-1719.934226</td>\n",
       "      <td>35</td>\n",
       "      <td>среднее</td>\n",
       "      <td>1</td>\n",
       "      <td>женат / замужем</td>\n",
       "      <td>0</td>\n",
       "      <td>F</td>\n",
       "      <td>сотрудник</td>\n",
       "      <td>0</td>\n",
       "      <td>289202.704229</td>\n",
       "      <td>недвижимость</td>\n",
       "    </tr>\n",
       "    <tr>\n",
       "      <th>17</th>\n",
       "      <td>0</td>\n",
       "      <td>-2369.999720</td>\n",
       "      <td>33</td>\n",
       "      <td>высшее</td>\n",
       "      <td>0</td>\n",
       "      <td>гражданский брак</td>\n",
       "      <td>1</td>\n",
       "      <td>M</td>\n",
       "      <td>сотрудник</td>\n",
       "      <td>0</td>\n",
       "      <td>90410.586745</td>\n",
       "      <td>строительство недвижимости</td>\n",
       "    </tr>\n",
       "    <tr>\n",
       "      <th>18</th>\n",
       "      <td>0</td>\n",
       "      <td>400281.136913</td>\n",
       "      <td>53</td>\n",
       "      <td>среднее</td>\n",
       "      <td>1</td>\n",
       "      <td>вдовец / вдова</td>\n",
       "      <td>2</td>\n",
       "      <td>F</td>\n",
       "      <td>пенсионер</td>\n",
       "      <td>0</td>\n",
       "      <td>56823.777243</td>\n",
       "      <td>на покупку подержанного автомобиля</td>\n",
       "    </tr>\n",
       "    <tr>\n",
       "      <th>19</th>\n",
       "      <td>0</td>\n",
       "      <td>-10038.818549</td>\n",
       "      <td>48</td>\n",
       "      <td>СРЕДНЕЕ</td>\n",
       "      <td>1</td>\n",
       "      <td>в разводе</td>\n",
       "      <td>3</td>\n",
       "      <td>F</td>\n",
       "      <td>сотрудник</td>\n",
       "      <td>0</td>\n",
       "      <td>242831.107982</td>\n",
       "      <td>на покупку своего автомобиля</td>\n",
       "    </tr>\n",
       "  </tbody>\n",
       "</table>\n",
       "</div>"
      ],
      "text/plain": [
       "    children  days_employed  dob_years            education  education_id  \\\n",
       "0          1   -8437.673028         42               высшее             0   \n",
       "1          1   -4024.803754         36              среднее             1   \n",
       "2          0   -5623.422610         33              Среднее             1   \n",
       "3          3   -4124.747207         32              среднее             1   \n",
       "4          0  340266.072047         53              среднее             1   \n",
       "5          0    -926.185831         27               высшее             0   \n",
       "6          0   -2879.202052         43               высшее             0   \n",
       "7          0    -152.779569         50              СРЕДНЕЕ             1   \n",
       "8          2   -6929.865299         35               ВЫСШЕЕ             0   \n",
       "9          0   -2188.756445         41              среднее             1   \n",
       "10         2   -4171.483647         36               высшее             0   \n",
       "11         0    -792.701887         40              среднее             1   \n",
       "12         0            NaN         65              среднее             1   \n",
       "13         0   -1846.641941         54  неоконченное высшее             2   \n",
       "14         0   -1844.956182         56               высшее             0   \n",
       "15         1    -972.364419         26              среднее             1   \n",
       "16         0   -1719.934226         35              среднее             1   \n",
       "17         0   -2369.999720         33               высшее             0   \n",
       "18         0  400281.136913         53              среднее             1   \n",
       "19         0  -10038.818549         48              СРЕДНЕЕ             1   \n",
       "\n",
       "       family_status  family_status_id gender income_type  debt  \\\n",
       "0    женат / замужем                 0      F   сотрудник     0   \n",
       "1    женат / замужем                 0      F   сотрудник     0   \n",
       "2    женат / замужем                 0      M   сотрудник     0   \n",
       "3    женат / замужем                 0      M   сотрудник     0   \n",
       "4   гражданский брак                 1      F   пенсионер     0   \n",
       "5   гражданский брак                 1      M   компаньон     0   \n",
       "6    женат / замужем                 0      F   компаньон     0   \n",
       "7    женат / замужем                 0      M   сотрудник     0   \n",
       "8   гражданский брак                 1      F   сотрудник     0   \n",
       "9    женат / замужем                 0      M   сотрудник     0   \n",
       "10   женат / замужем                 0      M   компаньон     0   \n",
       "11   женат / замужем                 0      F   сотрудник     0   \n",
       "12  гражданский брак                 1      M   пенсионер     0   \n",
       "13   женат / замужем                 0      F   сотрудник     0   \n",
       "14  гражданский брак                 1      F   компаньон     1   \n",
       "15   женат / замужем                 0      F   сотрудник     0   \n",
       "16   женат / замужем                 0      F   сотрудник     0   \n",
       "17  гражданский брак                 1      M   сотрудник     0   \n",
       "18    вдовец / вдова                 2      F   пенсионер     0   \n",
       "19         в разводе                 3      F   сотрудник     0   \n",
       "\n",
       "     total_income                                 purpose  \n",
       "0   253875.639453                           покупка жилья  \n",
       "1   112080.014102                 приобретение автомобиля  \n",
       "2   145885.952297                           покупка жилья  \n",
       "3   267628.550329              дополнительное образование  \n",
       "4   158616.077870                         сыграть свадьбу  \n",
       "5   255763.565419                           покупка жилья  \n",
       "6   240525.971920                       операции с жильем  \n",
       "7   135823.934197                             образование  \n",
       "8    95856.832424                   на проведение свадьбы  \n",
       "9   144425.938277                 покупка жилья для семьи  \n",
       "10  113943.491460                    покупка недвижимости  \n",
       "11   77069.234271       покупка коммерческой недвижимости  \n",
       "12            NaN                         сыграть свадьбу  \n",
       "13  130458.228857                 приобретение автомобиля  \n",
       "14  165127.911772              покупка жилой недвижимости  \n",
       "15  116820.904450  строительство собственной недвижимости  \n",
       "16  289202.704229                            недвижимость  \n",
       "17   90410.586745              строительство недвижимости  \n",
       "18   56823.777243      на покупку подержанного автомобиля  \n",
       "19  242831.107982            на покупку своего автомобиля  "
      ]
     },
     "execution_count": 2,
     "metadata": {},
     "output_type": "execute_result"
    }
   ],
   "source": [
    "data.head(20)"
   ]
  },
  {
   "cell_type": "markdown",
   "id": "0ed8f27f",
   "metadata": {
    "deletable": false,
    "editable": false,
    "id": "0ed8f27f"
   },
   "source": [
    "**Задание 3. Выведите основную информацию о датафрейме с помощью метода `info()`.**"
   ]
  },
  {
   "cell_type": "code",
   "execution_count": 3,
   "id": "ab3f863b",
   "metadata": {
    "deletable": false,
    "id": "ab3f863b",
    "outputId": "15376089-8dad-46c9-b520-c05248d43158"
   },
   "outputs": [
    {
     "name": "stdout",
     "output_type": "stream",
     "text": [
      "<class 'pandas.core.frame.DataFrame'>\n",
      "RangeIndex: 21525 entries, 0 to 21524\n",
      "Data columns (total 12 columns):\n",
      " #   Column            Non-Null Count  Dtype  \n",
      "---  ------            --------------  -----  \n",
      " 0   children          21525 non-null  int64  \n",
      " 1   days_employed     19351 non-null  float64\n",
      " 2   dob_years         21525 non-null  int64  \n",
      " 3   education         21525 non-null  object \n",
      " 4   education_id      21525 non-null  int64  \n",
      " 5   family_status     21525 non-null  object \n",
      " 6   family_status_id  21525 non-null  int64  \n",
      " 7   gender            21525 non-null  object \n",
      " 8   income_type       21525 non-null  object \n",
      " 9   debt              21525 non-null  int64  \n",
      " 10  total_income      19351 non-null  float64\n",
      " 11  purpose           21525 non-null  object \n",
      "dtypes: float64(2), int64(5), object(5)\n",
      "memory usage: 2.0+ MB\n"
     ]
    }
   ],
   "source": [
    "data.info()"
   ]
  },
  {
   "cell_type": "markdown",
   "id": "60e3e22d",
   "metadata": {
    "deletable": false,
    "editable": false,
    "id": "60e3e22d"
   },
   "source": [
    "## Предобработка данных"
   ]
  },
  {
   "cell_type": "markdown",
   "id": "03dc170c",
   "metadata": {
    "deletable": false,
    "editable": false,
    "id": "03dc170c"
   },
   "source": [
    "### Удаление пропусков"
   ]
  },
  {
   "cell_type": "markdown",
   "id": "a4f54eef",
   "metadata": {
    "deletable": false,
    "editable": false,
    "id": "a4f54eef"
   },
   "source": [
    "**Задание 4. Выведите количество пропущенных значений для каждого столбца. Используйте комбинацию двух методов.**"
   ]
  },
  {
   "cell_type": "code",
   "execution_count": 4,
   "id": "2dc372b2",
   "metadata": {
    "deletable": false,
    "id": "2dc372b2",
    "outputId": "81f4d817-781c-465c-ed15-91ce4446810d"
   },
   "outputs": [
    {
     "data": {
      "text/plain": [
       "children               0\n",
       "days_employed       2174\n",
       "dob_years              0\n",
       "education              0\n",
       "education_id           0\n",
       "family_status          0\n",
       "family_status_id       0\n",
       "gender                 0\n",
       "income_type            0\n",
       "debt                   0\n",
       "total_income        2174\n",
       "purpose                0\n",
       "dtype: int64"
      ]
     },
     "execution_count": 4,
     "metadata": {},
     "output_type": "execute_result"
    }
   ],
   "source": [
    "data.isna().sum()"
   ]
  },
  {
   "cell_type": "markdown",
   "id": "14f011b1",
   "metadata": {
    "deletable": false,
    "editable": false,
    "id": "14f011b1"
   },
   "source": [
    "**Задание 5. В двух столбцах есть пропущенные значения. Один из них — `days_employed`. Пропуски в этом столбце вы обработаете на следующем этапе. Другой столбец с пропущенными значениями — `total_income` — хранит данные о доходах. На сумму дохода сильнее всего влияет тип занятости, поэтому заполнить пропуски в этом столбце нужно медианным значением по каждому типу из столбца `income_type`. Например, у человека с типом занятости `сотрудник` пропуск в столбце `total_income` должен быть заполнен медианным доходом среди всех записей с тем же типом.**"
   ]
  },
  {
   "cell_type": "code",
   "execution_count": 5,
   "id": "bdabfb6e",
   "metadata": {
    "deletable": false,
    "id": "bdabfb6e"
   },
   "outputs": [],
   "source": [
    "for t in data['income_type'].unique():\n",
    "    data.loc[(data['income_type'] == t) & (data['total_income'].isna()), 'total_income'] = \\\n",
    "    data.loc[(data['income_type'] == t), 'total_income'].median()"
   ]
  },
  {
   "cell_type": "markdown",
   "id": "5be34059",
   "metadata": {
    "deletable": false,
    "editable": false,
    "id": "5be34059"
   },
   "source": [
    "### Обработка аномальных значений"
   ]
  },
  {
   "cell_type": "markdown",
   "id": "a87606cb",
   "metadata": {
    "deletable": false,
    "editable": false,
    "id": "a87606cb"
   },
   "source": [
    "**Задание 6. В данных могут встречаться артефакты (аномалии) — значения, которые не отражают действительность и появились по какой-то ошибке. таким артефактом будет отрицательное количество дней трудового стажа в столбце `days_employed`. Для реальных данных это нормально. Обработайте значения в этом столбце: замените все отрицательные значения положительными с помощью метода `abs()`.**"
   ]
  },
  {
   "cell_type": "code",
   "execution_count": 6,
   "id": "020c46cc",
   "metadata": {
    "deletable": false,
    "id": "020c46cc"
   },
   "outputs": [],
   "source": [
    "data['days_employed'] = data['days_employed'].abs()"
   ]
  },
  {
   "cell_type": "markdown",
   "id": "45538a3a",
   "metadata": {
    "deletable": false,
    "editable": false,
    "id": "45538a3a"
   },
   "source": [
    "**Задание 7. Для каждого типа занятости выведите медианное значение трудового стажа `days_employed` в днях.**"
   ]
  },
  {
   "cell_type": "code",
   "execution_count": 7,
   "id": "cd3e6328",
   "metadata": {
    "deletable": false,
    "id": "cd3e6328",
    "outputId": "801ef80e-522b-4668-f34e-565af7432bcf"
   },
   "outputs": [
    {
     "data": {
      "text/plain": [
       "income_type\n",
       "безработный        366413.652744\n",
       "в декрете            3296.759962\n",
       "госслужащий          2689.368353\n",
       "компаньон            1547.382223\n",
       "пенсионер          365213.306266\n",
       "предприниматель       520.848083\n",
       "сотрудник            1574.202821\n",
       "студент               578.751554\n",
       "Name: days_employed, dtype: float64"
      ]
     },
     "execution_count": 7,
     "metadata": {},
     "output_type": "execute_result"
    }
   ],
   "source": [
    "data.groupby('income_type')['days_employed'].agg('median')"
   ]
  },
  {
   "cell_type": "markdown",
   "id": "90c5f058",
   "metadata": {
    "deletable": false,
    "editable": false,
    "id": "90c5f058"
   },
   "source": [
    "У двух типов (безработные и пенсионеры) получатся аномально большие значения. Исправить такие значения сложно, поэтому оставьте их как есть."
   ]
  },
  {
   "cell_type": "markdown",
   "id": "9652e50d",
   "metadata": {
    "deletable": false,
    "editable": false,
    "id": "9652e50d"
   },
   "source": [
    "**Задание 8. Выведите перечень уникальных значений столбца `children`.**"
   ]
  },
  {
   "cell_type": "code",
   "execution_count": 8,
   "id": "dbb37b8e",
   "metadata": {
    "deletable": false,
    "id": "dbb37b8e",
    "outputId": "6975b15c-7f95-4697-d16d-a0c79b657b03"
   },
   "outputs": [
    {
     "data": {
      "text/plain": [
       "array([ 1,  0,  3,  2, -1,  4, 20,  5])"
      ]
     },
     "execution_count": 8,
     "metadata": {},
     "output_type": "execute_result"
    }
   ],
   "source": [
    "data['children'].unique()"
   ]
  },
  {
   "cell_type": "markdown",
   "id": "2b8b0715",
   "metadata": {
    "deletable": false,
    "editable": false,
    "id": "2b8b0715"
   },
   "source": [
    "**Задание 9. В столбце `children` есть два аномальных значения. Удалите строки, в которых встречаются такие аномальные значения из датафрейма `data`.**"
   ]
  },
  {
   "cell_type": "code",
   "execution_count": 9,
   "id": "20009df8",
   "metadata": {
    "deletable": false,
    "id": "20009df8"
   },
   "outputs": [],
   "source": [
    "data = data[(data['children'] != -1) & (data['children'] != 20)]"
   ]
  },
  {
   "cell_type": "markdown",
   "id": "8c6ac9f1",
   "metadata": {
    "deletable": false,
    "editable": false,
    "id": "8c6ac9f1"
   },
   "source": [
    "**Задание 10. Ещё раз выведите перечень уникальных значений столбца `children`, чтобы убедиться, что артефакты удалены.**"
   ]
  },
  {
   "cell_type": "code",
   "execution_count": 10,
   "id": "07337b81",
   "metadata": {
    "deletable": false,
    "id": "07337b81",
    "outputId": "b2097101-d49d-44d9-901b-32a65c9463d1"
   },
   "outputs": [
    {
     "data": {
      "text/plain": [
       "array([1, 0, 3, 2, 4, 5])"
      ]
     },
     "execution_count": 10,
     "metadata": {},
     "output_type": "execute_result"
    }
   ],
   "source": [
    "data['children'].unique()"
   ]
  },
  {
   "cell_type": "markdown",
   "id": "ee3f52d4",
   "metadata": {
    "deletable": false,
    "editable": false,
    "id": "ee3f52d4"
   },
   "source": [
    "### Удаление пропусков (продолжение)"
   ]
  },
  {
   "cell_type": "markdown",
   "id": "a700b0e4",
   "metadata": {
    "deletable": false,
    "editable": false,
    "id": "a700b0e4"
   },
   "source": [
    "**Задание 11. Заполните пропуски в столбце `days_employed` медианными значениями по каждого типа занятости `income_type`.**"
   ]
  },
  {
   "cell_type": "code",
   "execution_count": 11,
   "id": "61946b83",
   "metadata": {
    "deletable": false,
    "id": "61946b83"
   },
   "outputs": [],
   "source": [
    "for t in data['income_type'].unique():\n",
    "    data.loc[(data['income_type'] == t) & (data['days_employed'].isna()), 'days_employed'] = \\\n",
    "    data.loc[(data['income_type'] == t), 'days_employed'].median()"
   ]
  },
  {
   "cell_type": "markdown",
   "id": "550dcd9b",
   "metadata": {
    "deletable": false,
    "editable": false,
    "id": "550dcd9b"
   },
   "source": [
    "**Задание 12. Убедитесь, что все пропуски заполнены. Проверьте себя и ещё раз выведите количество пропущенных значений для каждого столбца с помощью двух методов.**"
   ]
  },
  {
   "cell_type": "code",
   "execution_count": 12,
   "id": "937c7014",
   "metadata": {
    "deletable": false,
    "id": "937c7014",
    "outputId": "8da1e4e1-358e-4e87-98c9-f261bce0a7b2"
   },
   "outputs": [
    {
     "data": {
      "text/plain": [
       "children            0\n",
       "days_employed       0\n",
       "dob_years           0\n",
       "education           0\n",
       "education_id        0\n",
       "family_status       0\n",
       "family_status_id    0\n",
       "gender              0\n",
       "income_type         0\n",
       "debt                0\n",
       "total_income        0\n",
       "purpose             0\n",
       "dtype: int64"
      ]
     },
     "execution_count": 12,
     "metadata": {},
     "output_type": "execute_result"
    }
   ],
   "source": [
    "data.isna().sum()"
   ]
  },
  {
   "cell_type": "markdown",
   "id": "d522e295",
   "metadata": {
    "deletable": false,
    "editable": false,
    "id": "d522e295"
   },
   "source": [
    "### Изменение типов данных"
   ]
  },
  {
   "cell_type": "markdown",
   "id": "c229c581",
   "metadata": {
    "deletable": false,
    "editable": false,
    "id": "c229c581"
   },
   "source": [
    "**Задание 13. Замените вещественный тип данных в столбце `total_income` на целочисленный с помощью метода `astype()`.**"
   ]
  },
  {
   "cell_type": "code",
   "execution_count": 13,
   "id": "31036462",
   "metadata": {
    "deletable": false,
    "id": "31036462"
   },
   "outputs": [],
   "source": [
    "data['total_income'] = data['total_income'].astype(int)"
   ]
  },
  {
   "cell_type": "markdown",
   "id": "b8e3d1d9",
   "metadata": {
    "deletable": false,
    "editable": false,
    "id": "b8e3d1d9"
   },
   "source": [
    "### Обработка дубликатов"
   ]
  },
  {
   "cell_type": "markdown",
   "id": "9be53c49",
   "metadata": {
    "deletable": false,
    "editable": false,
    "id": "9be53c49"
   },
   "source": [
    "**Задание 14. Обработайте неявные дубликаты в столбце `education`. В этом столбце есть одни и те же значения, но записанные по-разному: с использованием заглавных и строчных букв. Приведите их к нижнему регистру.**"
   ]
  },
  {
   "cell_type": "code",
   "execution_count": 14,
   "id": "d89e73e1",
   "metadata": {
    "deletable": false,
    "id": "d89e73e1"
   },
   "outputs": [],
   "source": [
    "data['education'] = data['education'].str.lower()"
   ]
  },
  {
   "cell_type": "markdown",
   "id": "01d4500e",
   "metadata": {
    "deletable": false,
    "editable": false,
    "id": "01d4500e"
   },
   "source": [
    "**Задание 15. Выведите на экран количество строк-дубликатов в данных. Если такие строки присутствуют, удалите их.**"
   ]
  },
  {
   "cell_type": "code",
   "execution_count": 15,
   "id": "e10efb23",
   "metadata": {
    "deletable": false,
    "id": "e10efb23",
    "outputId": "9684deba-1934-42d1-99e1-cda61740f822"
   },
   "outputs": [
    {
     "data": {
      "text/plain": [
       "71"
      ]
     },
     "execution_count": 15,
     "metadata": {},
     "output_type": "execute_result"
    }
   ],
   "source": [
    "data.duplicated().sum()"
   ]
  },
  {
   "cell_type": "code",
   "execution_count": 16,
   "id": "df853f20",
   "metadata": {
    "deletable": false,
    "id": "df853f20"
   },
   "outputs": [],
   "source": [
    "data = data.drop_duplicates()"
   ]
  },
  {
   "cell_type": "markdown",
   "id": "627be38f",
   "metadata": {
    "deletable": false,
    "editable": false,
    "id": "627be38f"
   },
   "source": [
    "### Категоризация данных"
   ]
  },
  {
   "cell_type": "markdown",
   "id": "4684c3e0",
   "metadata": {
    "deletable": false,
    "editable": false,
    "id": "4684c3e0"
   },
   "source": [
    "**Задание 16. На основании диапазонов, указанных ниже, создайте в датафрейме `data` столбец `total_income_category` с категориями:**\n",
    "\n",
    "- 0–30000 — `'E'`;\n",
    "- 30001–50000 — `'D'`;\n",
    "- 50001–200000 — `'C'`;\n",
    "- 200001–1000000 — `'B'`;\n",
    "- 1000001 и выше — `'A'`.\n",
    "\n",
    "\n",
    "**Например, кредитополучателю с доходом 25000 нужно назначить категорию `'E'`, а клиенту, получающему 235000, — `'B'`. Используйте собственную функцию с именем `categorize_income()` и метод `apply()`.**"
   ]
  },
  {
   "cell_type": "code",
   "execution_count": 17,
   "id": "78965238",
   "metadata": {
    "deletable": false,
    "id": "78965238"
   },
   "outputs": [],
   "source": [
    "def categorize_income(income):\n",
    "    try:\n",
    "        if 0 <= income <= 30000:\n",
    "            return 'E'\n",
    "        elif 30001 <= income <= 50000:\n",
    "            return 'D'\n",
    "        elif 50001 <= income <= 200000:\n",
    "            return 'C'\n",
    "        elif 200001 <= income <= 1000000:\n",
    "            return 'B'\n",
    "        elif income >= 1000001:\n",
    "            return 'A'\n",
    "    except:\n",
    "        pass"
   ]
  },
  {
   "cell_type": "code",
   "execution_count": 18,
   "id": "0980ada1",
   "metadata": {
    "deletable": false,
    "id": "0980ada1"
   },
   "outputs": [],
   "source": [
    "data['total_income_category'] = data['total_income'].apply(categorize_income)"
   ]
  },
  {
   "cell_type": "markdown",
   "id": "9917bba0",
   "metadata": {
    "deletable": false,
    "editable": false,
    "id": "9917bba0"
   },
   "source": [
    "**Задание 17. Выведите на экран перечень уникальных целей взятия кредита из столбца `purpose`.**"
   ]
  },
  {
   "cell_type": "code",
   "execution_count": 19,
   "id": "ee07b65e",
   "metadata": {
    "deletable": false,
    "id": "ee07b65e",
    "outputId": "673c12d9-7d7e-4ae0-9812-c622c89dd244"
   },
   "outputs": [
    {
     "data": {
      "text/plain": [
       "array(['покупка жилья', 'приобретение автомобиля',\n",
       "       'дополнительное образование', 'сыграть свадьбу',\n",
       "       'операции с жильем', 'образование', 'на проведение свадьбы',\n",
       "       'покупка жилья для семьи', 'покупка недвижимости',\n",
       "       'покупка коммерческой недвижимости', 'покупка жилой недвижимости',\n",
       "       'строительство собственной недвижимости', 'недвижимость',\n",
       "       'строительство недвижимости', 'на покупку подержанного автомобиля',\n",
       "       'на покупку своего автомобиля',\n",
       "       'операции с коммерческой недвижимостью',\n",
       "       'строительство жилой недвижимости', 'жилье',\n",
       "       'операции со своей недвижимостью', 'автомобили',\n",
       "       'заняться образованием', 'сделка с подержанным автомобилем',\n",
       "       'получение образования', 'автомобиль', 'свадьба',\n",
       "       'получение дополнительного образования', 'покупка своего жилья',\n",
       "       'операции с недвижимостью', 'получение высшего образования',\n",
       "       'свой автомобиль', 'сделка с автомобилем',\n",
       "       'профильное образование', 'высшее образование',\n",
       "       'покупка жилья для сдачи', 'на покупку автомобиля', 'ремонт жилью',\n",
       "       'заняться высшим образованием'], dtype=object)"
      ]
     },
     "execution_count": 19,
     "metadata": {},
     "output_type": "execute_result"
    }
   ],
   "source": [
    "data['purpose'].unique()"
   ]
  },
  {
   "cell_type": "markdown",
   "id": "52b79d56",
   "metadata": {
    "deletable": false,
    "editable": false,
    "id": "52b79d56"
   },
   "source": [
    "**Задание 18. Создайте функцию, которая на основании данных из столбца `purpose` сформирует новый столбец `purpose_category`, в который войдут следующие категории:**\n",
    "\n",
    "- `'операции с автомобилем'`,\n",
    "- `'операции с недвижимостью'`,\n",
    "- `'проведение свадьбы'`,\n",
    "- `'получение образования'`.\n",
    "\n",
    "**Например, если в столбце `purpose` находится подстрока `'на покупку автомобиля'`, то в столбце `purpose_category` должна появиться строка `'операции с автомобилем'`.**\n",
    "\n",
    "**Используйте собственную функцию с именем `categorize_purpose()` и метод `apply()`. Изучите данные в столбце `purpose` и определите, какие подстроки помогут вам правильно определить категорию.**"
   ]
  },
  {
   "cell_type": "code",
   "execution_count": 20,
   "id": "be41da5d",
   "metadata": {
    "deletable": false,
    "id": "be41da5d"
   },
   "outputs": [],
   "source": [
    "def categorize_purpose(row):\n",
    "    try:\n",
    "        if 'автом' in row:\n",
    "            return 'операции с автомобилем'\n",
    "        elif 'жил' in row or 'недвиж' in row:\n",
    "            return 'операции с недвижимостью'\n",
    "        elif 'свад' in row:\n",
    "            return 'проведение свадьбы'\n",
    "        elif 'образов' in row:\n",
    "            return 'получение образования'\n",
    "    except:\n",
    "        return 'нет категории'"
   ]
  },
  {
   "cell_type": "code",
   "execution_count": 21,
   "id": "94c4a19a",
   "metadata": {
    "deletable": false,
    "id": "94c4a19a"
   },
   "outputs": [],
   "source": [
    "data['purpose_category'] = data['purpose'].apply(categorize_purpose)"
   ]
  },
  {
   "cell_type": "markdown",
   "id": "3d596c34",
   "metadata": {
    "deletable": false,
    "editable": false,
    "id": "3d596c34"
   },
   "source": [
    "### Шаг 3. Исследуйте данные и ответьте на вопросы"
   ]
  },
  {
   "cell_type": "markdown",
   "id": "648db036",
   "metadata": {
    "deletable": false,
    "editable": false,
    "id": "648db036"
   },
   "source": [
    "#### 3.1 Есть ли зависимость между количеством детей и возвратом кредита в срок?"
   ]
  },
  {
   "cell_type": "code",
   "execution_count": 22,
   "id": "7fcff25e",
   "metadata": {
    "deletable": false,
    "id": "7fcff25e",
    "scrolled": true
   },
   "outputs": [
    {
     "name": "stdout",
     "output_type": "stream",
     "text": [
      "   children  days_employed  dob_years education  education_id  \\\n",
      "0         1    8437.673028         42    высшее             0   \n",
      "1         1    4024.803754         36   среднее             1   \n",
      "2         0    5623.422610         33   среднее             1   \n",
      "3         3    4124.747207         32   среднее             1   \n",
      "4         0  340266.072047         53   среднее             1   \n",
      "\n",
      "      family_status  family_status_id gender income_type  debt  total_income  \\\n",
      "0   женат / замужем                 0      F   сотрудник     0        253875   \n",
      "1   женат / замужем                 0      F   сотрудник     0        112080   \n",
      "2   женат / замужем                 0      M   сотрудник     0        145885   \n",
      "3   женат / замужем                 0      M   сотрудник     0        267628   \n",
      "4  гражданский брак                 1      F   пенсионер     0        158616   \n",
      "\n",
      "                      purpose total_income_category          purpose_category  \n",
      "0               покупка жилья                     B  операции с недвижимостью  \n",
      "1     приобретение автомобиля                     C    операции с автомобилем  \n",
      "2               покупка жилья                     C  операции с недвижимостью  \n",
      "3  дополнительное образование                     B     получение образования  \n",
      "4             сыграть свадьбу                     C        проведение свадьбы  \n"
     ]
    }
   ],
   "source": [
    "print(data.head(5)) #ознакомимся с первыми 5 строками data"
   ]
  },
  {
   "cell_type": "code",
   "execution_count": 132,
   "id": "522b6503",
   "metadata": {},
   "outputs": [
    {
     "data": {
      "text/html": [
       "<div>\n",
       "<style scoped>\n",
       "    .dataframe tbody tr th:only-of-type {\n",
       "        vertical-align: middle;\n",
       "    }\n",
       "\n",
       "    .dataframe tbody tr th {\n",
       "        vertical-align: top;\n",
       "    }\n",
       "\n",
       "    .dataframe thead th {\n",
       "        text-align: right;\n",
       "    }\n",
       "</style>\n",
       "<table border=\"1\" class=\"dataframe\">\n",
       "  <thead>\n",
       "    <tr style=\"text-align: right;\">\n",
       "      <th></th>\n",
       "      <th>count</th>\n",
       "      <th>sum</th>\n",
       "      <th>percent</th>\n",
       "    </tr>\n",
       "    <tr>\n",
       "      <th>children</th>\n",
       "      <th></th>\n",
       "      <th></th>\n",
       "      <th></th>\n",
       "    </tr>\n",
       "  </thead>\n",
       "  <tbody>\n",
       "    <tr>\n",
       "      <th>0</th>\n",
       "      <td>14091</td>\n",
       "      <td>1063</td>\n",
       "      <td>7.543822</td>\n",
       "    </tr>\n",
       "    <tr>\n",
       "      <th>1</th>\n",
       "      <td>4808</td>\n",
       "      <td>444</td>\n",
       "      <td>9.234609</td>\n",
       "    </tr>\n",
       "    <tr>\n",
       "      <th>2</th>\n",
       "      <td>2052</td>\n",
       "      <td>194</td>\n",
       "      <td>9.454191</td>\n",
       "    </tr>\n",
       "    <tr>\n",
       "      <th>3</th>\n",
       "      <td>330</td>\n",
       "      <td>27</td>\n",
       "      <td>8.181818</td>\n",
       "    </tr>\n",
       "    <tr>\n",
       "      <th>4</th>\n",
       "      <td>41</td>\n",
       "      <td>4</td>\n",
       "      <td>9.756098</td>\n",
       "    </tr>\n",
       "    <tr>\n",
       "      <th>5</th>\n",
       "      <td>9</td>\n",
       "      <td>0</td>\n",
       "      <td>0.000000</td>\n",
       "    </tr>\n",
       "  </tbody>\n",
       "</table>\n",
       "</div>"
      ],
      "text/plain": [
       "          count   sum   percent\n",
       "children                       \n",
       "0         14091  1063  7.543822\n",
       "1          4808   444  9.234609\n",
       "2          2052   194  9.454191\n",
       "3           330    27  8.181818\n",
       "4            41     4  9.756098\n",
       "5             9     0  0.000000"
      ]
     },
     "execution_count": 132,
     "metadata": {},
     "output_type": "execute_result"
    }
   ],
   "source": [
    "children_data = data.groupby('children')['debt'].agg(['count', 'sum']) \n",
    "# группируем данные по цели кредита ('children'), затем применяем агрегирующие функции к столбцу 'debt'\n",
    "children_data['percent'] = children_data['sum'] / children_data['count'] * 100\n",
    "# смотрим соотношение недобросовестных заемщиков к общему числу взявших кредит\n",
    "children_data"
   ]
  },
  {
   "cell_type": "markdown",
   "id": "2eb9088e",
   "metadata": {
    "deletable": false,
    "id": "2eb9088e"
   },
   "source": [
    "**Вывод:** лучше всех возвращают кредиты родители 5 детей, но количество таких заемщиков слишком мало (всего 9), чтобы опираться на эти данные. Далее следуют заемщики, не имеющие детей (93% возратов в срок). Анализируя самые многочисленные категории (0, 1 и 2 ребенка), можно сдедать вывод, что, чем меньше детей, тем лучше заемщик платит по кредиту. "
   ]
  },
  {
   "cell_type": "markdown",
   "id": "74c9b3a7",
   "metadata": {
    "deletable": false,
    "editable": false,
    "id": "74c9b3a7"
   },
   "source": [
    "#### 3.2 Есть ли зависимость между семейным положением и возвратом кредита в срок?"
   ]
  },
  {
   "cell_type": "code",
   "execution_count": 128,
   "id": "8098ab3b",
   "metadata": {
    "deletable": false,
    "id": "8098ab3b"
   },
   "outputs": [
    {
     "data": {
      "text/html": [
       "<div>\n",
       "<style scoped>\n",
       "    .dataframe tbody tr th:only-of-type {\n",
       "        vertical-align: middle;\n",
       "    }\n",
       "\n",
       "    .dataframe tbody tr th {\n",
       "        vertical-align: top;\n",
       "    }\n",
       "\n",
       "    .dataframe thead th {\n",
       "        text-align: right;\n",
       "    }\n",
       "</style>\n",
       "<table border=\"1\" class=\"dataframe\">\n",
       "  <thead>\n",
       "    <tr style=\"text-align: right;\">\n",
       "      <th></th>\n",
       "      <th>count</th>\n",
       "      <th>sum</th>\n",
       "      <th>percent</th>\n",
       "    </tr>\n",
       "    <tr>\n",
       "      <th>family_status</th>\n",
       "      <th></th>\n",
       "      <th></th>\n",
       "      <th></th>\n",
       "    </tr>\n",
       "  </thead>\n",
       "  <tbody>\n",
       "    <tr>\n",
       "      <th>Не женат / не замужем</th>\n",
       "      <td>2796</td>\n",
       "      <td>273</td>\n",
       "      <td>9.763948</td>\n",
       "    </tr>\n",
       "    <tr>\n",
       "      <th>в разводе</th>\n",
       "      <td>1189</td>\n",
       "      <td>84</td>\n",
       "      <td>7.064760</td>\n",
       "    </tr>\n",
       "    <tr>\n",
       "      <th>вдовец / вдова</th>\n",
       "      <td>951</td>\n",
       "      <td>63</td>\n",
       "      <td>6.624606</td>\n",
       "    </tr>\n",
       "    <tr>\n",
       "      <th>гражданский брак</th>\n",
       "      <td>4134</td>\n",
       "      <td>385</td>\n",
       "      <td>9.313014</td>\n",
       "    </tr>\n",
       "    <tr>\n",
       "      <th>женат / замужем</th>\n",
       "      <td>12261</td>\n",
       "      <td>927</td>\n",
       "      <td>7.560558</td>\n",
       "    </tr>\n",
       "  </tbody>\n",
       "</table>\n",
       "</div>"
      ],
      "text/plain": [
       "                       count  sum   percent\n",
       "family_status                              \n",
       "Не женат / не замужем   2796  273  9.763948\n",
       "в разводе               1189   84  7.064760\n",
       "вдовец / вдова           951   63  6.624606\n",
       "гражданский брак        4134  385  9.313014\n",
       "женат / замужем        12261  927  7.560558"
      ]
     },
     "execution_count": 128,
     "metadata": {},
     "output_type": "execute_result"
    }
   ],
   "source": [
    "family_data = data.groupby('family_status')['debt'].agg(['count', 'sum']) \n",
    "# группируем данные по цели кредита ('family_status'), затем применяем агрегирующие функции к столбцу 'debt'\n",
    "family_data['percent'] = family_data['sum'] / family_data['count'] * 100\n",
    "# смотрим соотношение недобросовестных заемщиков к общему числу взявших кредит\n",
    "family_data\n",
    "\n"
   ]
  },
  {
   "cell_type": "markdown",
   "id": "c389ca63",
   "metadata": {
    "deletable": false,
    "id": "c389ca63"
   },
   "source": [
    "**Вывод:** в полученных данных видим в целом, что чаще всего кредиты берут семейные люди.Наибольшая доля должников приходится на категории 'гражданский брак' и 'Не женат / не замужем'. Лучше всех выплачивают кредит категории 'вдовец / вдова' и 'в разводе'."
   ]
  },
  {
   "cell_type": "markdown",
   "id": "9529de68",
   "metadata": {
    "deletable": false,
    "editable": false,
    "id": "9529de68"
   },
   "source": [
    "#### 3.3 Есть ли зависимость между уровнем дохода и возвратом кредита в срок?"
   ]
  },
  {
   "cell_type": "code",
   "execution_count": 130,
   "id": "8787f44a",
   "metadata": {
    "deletable": false,
    "id": "8787f44a"
   },
   "outputs": [
    {
     "data": {
      "text/html": [
       "<div>\n",
       "<style scoped>\n",
       "    .dataframe tbody tr th:only-of-type {\n",
       "        vertical-align: middle;\n",
       "    }\n",
       "\n",
       "    .dataframe tbody tr th {\n",
       "        vertical-align: top;\n",
       "    }\n",
       "\n",
       "    .dataframe thead th {\n",
       "        text-align: right;\n",
       "    }\n",
       "</style>\n",
       "<table border=\"1\" class=\"dataframe\">\n",
       "  <thead>\n",
       "    <tr style=\"text-align: right;\">\n",
       "      <th></th>\n",
       "      <th>count</th>\n",
       "      <th>sum</th>\n",
       "      <th>percent</th>\n",
       "    </tr>\n",
       "    <tr>\n",
       "      <th>total_income_category</th>\n",
       "      <th></th>\n",
       "      <th></th>\n",
       "      <th></th>\n",
       "    </tr>\n",
       "  </thead>\n",
       "  <tbody>\n",
       "    <tr>\n",
       "      <th>A</th>\n",
       "      <td>25</td>\n",
       "      <td>2</td>\n",
       "      <td>8.000000</td>\n",
       "    </tr>\n",
       "    <tr>\n",
       "      <th>B</th>\n",
       "      <td>5014</td>\n",
       "      <td>354</td>\n",
       "      <td>7.060231</td>\n",
       "    </tr>\n",
       "    <tr>\n",
       "      <th>C</th>\n",
       "      <td>15921</td>\n",
       "      <td>1353</td>\n",
       "      <td>8.498210</td>\n",
       "    </tr>\n",
       "    <tr>\n",
       "      <th>D</th>\n",
       "      <td>349</td>\n",
       "      <td>21</td>\n",
       "      <td>6.017192</td>\n",
       "    </tr>\n",
       "    <tr>\n",
       "      <th>E</th>\n",
       "      <td>22</td>\n",
       "      <td>2</td>\n",
       "      <td>9.090909</td>\n",
       "    </tr>\n",
       "  </tbody>\n",
       "</table>\n",
       "</div>"
      ],
      "text/plain": [
       "                       count   sum   percent\n",
       "total_income_category                       \n",
       "A                         25     2  8.000000\n",
       "B                       5014   354  7.060231\n",
       "C                      15921  1353  8.498210\n",
       "D                        349    21  6.017192\n",
       "E                         22     2  9.090909"
      ]
     },
     "execution_count": 130,
     "metadata": {},
     "output_type": "execute_result"
    }
   ],
   "source": [
    "income_data = data.groupby('total_income_category')['debt'].agg(['count', 'sum']) \n",
    "# группируем данные по цели кредита (''total_income_category''), затем применяем агрегирующие функции к столбцу 'debt'\n",
    "income_data['percent'] = income_data['sum'] / income_data['count'] * 100\n",
    "# смотрим соотношение недобросовестных заемщиков к общему числу взявших кредит\n",
    "income_data"
   ]
  },
  {
   "cell_type": "code",
   "execution_count": 27,
   "id": "a2d9ce68",
   "metadata": {},
   "outputs": [],
   "source": [
    "# 0–30000 — 'E';\n",
    "# 30001–50000 — 'D';\n",
    "# 50001–200000 — 'C';\n",
    "# 200001–1000000 — 'B';\n",
    "# 1000001 и выше — 'A'."
   ]
  },
  {
   "cell_type": "markdown",
   "id": "6dd14b57",
   "metadata": {
    "deletable": false,
    "id": "6dd14b57"
   },
   "source": [
    "**Вывод:** У категория A и E слишком маленькая выборка, на эти данные опираться не стоит. Пучше всех платит по кредиту категория D (30001–50000),за ней следуют B (200001–1000000), а хуже всех категория С (50001–200000)."
   ]
  },
  {
   "cell_type": "markdown",
   "id": "1dcc9b12",
   "metadata": {
    "deletable": false,
    "editable": false,
    "id": "1dcc9b12"
   },
   "source": [
    "#### 3.4 Как разные цели кредита влияют на его возврат в срок?"
   ]
  },
  {
   "cell_type": "code",
   "execution_count": 86,
   "id": "499a3aef-404e-48aa-9170-ceb3f3c49a40",
   "metadata": {},
   "outputs": [
    {
     "data": {
      "text/html": [
       "<div>\n",
       "<style scoped>\n",
       "    .dataframe tbody tr th:only-of-type {\n",
       "        vertical-align: middle;\n",
       "    }\n",
       "\n",
       "    .dataframe tbody tr th {\n",
       "        vertical-align: top;\n",
       "    }\n",
       "\n",
       "    .dataframe thead th {\n",
       "        text-align: right;\n",
       "    }\n",
       "</style>\n",
       "<table border=\"1\" class=\"dataframe\">\n",
       "  <thead>\n",
       "    <tr style=\"text-align: right;\">\n",
       "      <th></th>\n",
       "      <th>count</th>\n",
       "      <th>sum</th>\n",
       "      <th>percent</th>\n",
       "    </tr>\n",
       "    <tr>\n",
       "      <th>purpose_category</th>\n",
       "      <th></th>\n",
       "      <th></th>\n",
       "      <th></th>\n",
       "    </tr>\n",
       "  </thead>\n",
       "  <tbody>\n",
       "    <tr>\n",
       "      <th>операции с автомобилем</th>\n",
       "      <td>4279</td>\n",
       "      <td>400</td>\n",
       "      <td>9.347978</td>\n",
       "    </tr>\n",
       "    <tr>\n",
       "      <th>операции с недвижимостью</th>\n",
       "      <td>10751</td>\n",
       "      <td>780</td>\n",
       "      <td>7.255139</td>\n",
       "    </tr>\n",
       "    <tr>\n",
       "      <th>получение образования</th>\n",
       "      <td>3988</td>\n",
       "      <td>369</td>\n",
       "      <td>9.252758</td>\n",
       "    </tr>\n",
       "    <tr>\n",
       "      <th>проведение свадьбы</th>\n",
       "      <td>2313</td>\n",
       "      <td>183</td>\n",
       "      <td>7.911803</td>\n",
       "    </tr>\n",
       "  </tbody>\n",
       "</table>\n",
       "</div>"
      ],
      "text/plain": [
       "                          count  sum   percent\n",
       "purpose_category                              \n",
       "операции с автомобилем     4279  400  9.347978\n",
       "операции с недвижимостью  10751  780  7.255139\n",
       "получение образования      3988  369  9.252758\n",
       "проведение свадьбы         2313  183  7.911803"
      ]
     },
     "execution_count": 86,
     "metadata": {},
     "output_type": "execute_result"
    }
   ],
   "source": [
    "purpose_data = data.groupby('purpose_category')['debt'].agg(['count', 'sum']) \n",
    "# группируем данные по цели кредита ('purpose_category'), затем применяем агрегирующие функции к столбцу 'debt'\n",
    "\n",
    "purpose_data['percent'] = purpose_data['sum'] / purpose_data['count'] * 100\n",
    "# смотрим соотношение недобросовестных заемщиков к общему числу взявших кредит\n",
    "purpose_data"
   ]
  },
  {
   "cell_type": "code",
   "execution_count": 84,
   "id": "c602bc8b",
   "metadata": {
    "deletable": false,
    "id": "c602bc8b",
    "scrolled": true
   },
   "outputs": [],
   "source": [
    "**Вывод:** Лучше всех возвращаются кредиты на операции с недвижимостью и проведение свадьбы, \n",
    "хуже - операции с автомобилем и получение образования"
   ]
  },
  {
   "cell_type": "code",
   "execution_count": 135,
   "id": "e8999da1-3d04-4139-b97d-e443d93982da",
   "metadata": {
    "deletable": false,
    "id": "cf05ed63"
   },
   "outputs": [
    {
     "data": {
      "text/plain": [
       "Index(['children', 'days_employed', 'dob_years', 'education', 'education_id',\n",
       "       'family_status', 'family_status_id', 'gender', 'income_type', 'debt',\n",
       "       'total_income', 'purpose', 'total_income_category', 'purpose_category'],\n",
       "      dtype='object')"
      ]
     },
     "execution_count": 135,
     "metadata": {},
     "output_type": "execute_result"
    }
   ],
   "source": [
    "data.columns"
   ]
  },
  {
   "cell_type": "markdown",
   "id": "46c1f10b",
   "metadata": {
    "deletable": false,
    "editable": false,
    "id": "46c1f10b"
   },
   "source": [
    "#### 3.5 Приведите возможные причины появления пропусков в исходных данных."
   ]
  },
  {
   "cell_type": "markdown",
   "id": "3697d2a9",
   "metadata": {
    "deletable": false,
    "id": "3697d2a9"
   },
   "source": [
    "*Ответ:* Причиной могут быть ошибки при выгрузке или смене формата данных, человеческий фактор, или же данные могут отстутсвовать по причине того, что пользователи не охотно их заполняют, как, например, в случае с e-mail."
   ]
  },
  {
   "cell_type": "markdown",
   "id": "3137d257",
   "metadata": {
    "deletable": false,
    "editable": false,
    "id": "3137d257"
   },
   "source": [
    "#### 3.6 Объясните, почему заполнить пропуски медианным значением — лучшее решение для количественных переменных."
   ]
  },
  {
   "cell_type": "markdown",
   "id": "cf40012a",
   "metadata": {
    "deletable": false,
    "id": "cf40012a"
   },
   "source": [
    "*Ответ:* Когда в выборке присутствуют выдающиеся значения, лучше использовать медиану, так как среднее значение некорректно характеризует данные, когда некоторые значения сильно выделяются среди большинства."
   ]
  },
  {
   "cell_type": "markdown",
   "id": "57bc304e",
   "metadata": {
    "deletable": false,
    "editable": false,
    "id": "57bc304e"
   },
   "source": [
    "### Шаг 4: общий вывод."
   ]
  },
  {
   "cell_type": "markdown",
   "id": "1ab75d1c",
   "metadata": {
    "deletable": false,
    "id": "1ab75d1c"
   },
   "source": [
    "В анализе были взяты за основу данные о количестве детей заемщика, его семейном положении, доходе и цели кредита. Цель анализа - выявление закономерностей между анализируемыми данными и возвратом кредитов в срок.\n",
    "\n",
    "На основе проанализированных данных можно сделать вывод, что более добросовестными при определении зависимости между количеством детей и возвратом кредита в срок являются заемщики,имеющие 5 детей и не имеющие детей вообще, далее следуют родители 3 детей, 1 и 4х. Анализируя самые многочисленные категории (0, 1 и 2 ребенка), можно сдедать вывод, что хуже всех платят по кредиту родители 2х детей.\n",
    "\n",
    "При анализе зависимости между семейным положением и возвратом кредита лучше всех выплачивали в срок категории 'вдовец / вдова' и 'в разводе', хуже - не состоящие в браке.\n",
    "\n",
    "При анализе по уровню дохода выявлены существенные различия между выплатами в срок у заемщиков в доходами '30001–50000'(выплачивали лучше всех) и '50001–200000'(наибольшая доля должников).\n",
    "\n",
    "При анализе целей кредита удалось выяснить, что лучше всех возвращаются кредиты на операции с недвижимостью и проведение свадьбы, хуже - операции с автомобилем и получение образования.\n",
    "\n",
    "Портрет идеального заемщика представляет собой вдовца или разведенного человека, не имеющего детей, с доходом 30001–50000 рублей, целью кредита которого является сделка с недвижимостью.\n",
    "\n",
    "Портрет нежелательного клиента - неженатый человек с двумя детьми с доходом 50001–200000 рублей, берущий кредит на автомобиль.\n",
    "\n",
    "Заказчику рекомендуется обращать внимание на результаты данного анализа и оценивать риски при выдаче кредитов в соответствии с приведенными данными."
   ]
  }
 ],
 "metadata": {
  "ExecuteTimeLog": [
   {
    "duration": 499,
    "start_time": "2024-07-15T14:00:07.858Z"
   },
   {
    "duration": 20,
    "start_time": "2024-07-15T14:00:09.822Z"
   },
   {
    "duration": 14,
    "start_time": "2024-07-15T14:00:12.976Z"
   },
   {
    "duration": 11,
    "start_time": "2024-07-15T14:00:15.099Z"
   },
   {
    "duration": 34,
    "start_time": "2024-07-15T14:00:16.811Z"
   },
   {
    "duration": 3,
    "start_time": "2024-07-15T14:00:18.532Z"
   },
   {
    "duration": 7,
    "start_time": "2024-07-15T14:00:19.496Z"
   },
   {
    "duration": 4,
    "start_time": "2024-07-15T14:00:24.792Z"
   },
   {
    "duration": 6,
    "start_time": "2024-07-15T14:00:26.592Z"
   },
   {
    "duration": 4,
    "start_time": "2024-07-15T14:00:27.817Z"
   },
   {
    "duration": 33,
    "start_time": "2024-07-15T14:00:32.689Z"
   },
   {
    "duration": 10,
    "start_time": "2024-07-15T14:00:36.914Z"
   },
   {
    "duration": 10,
    "start_time": "2024-07-15T14:00:40.483Z"
   },
   {
    "duration": 4,
    "start_time": "2024-07-15T14:00:44.241Z"
   },
   {
    "duration": 11,
    "start_time": "2024-07-15T14:00:45.865Z"
   },
   {
    "duration": 18,
    "start_time": "2024-07-15T14:00:47.480Z"
   },
   {
    "duration": 16,
    "start_time": "2024-07-15T14:00:49.782Z"
   },
   {
    "duration": 17,
    "start_time": "2024-07-15T14:00:50.878Z"
   },
   {
    "duration": 3,
    "start_time": "2024-07-15T14:00:55.604Z"
   },
   {
    "duration": 10,
    "start_time": "2024-07-15T14:00:57.774Z"
   },
   {
    "duration": 5,
    "start_time": "2024-07-15T14:01:02.023Z"
   },
   {
    "duration": 3,
    "start_time": "2024-07-15T14:01:12.046Z"
   },
   {
    "duration": 8,
    "start_time": "2024-07-15T14:01:13.436Z"
   },
   {
    "duration": 8,
    "start_time": "2024-07-15T14:01:29.398Z"
   },
   {
    "duration": 8,
    "start_time": "2024-07-15T14:01:56.798Z"
   },
   {
    "duration": 6,
    "start_time": "2024-07-15T14:06:51.914Z"
   },
   {
    "duration": 69,
    "start_time": "2024-07-15T14:08:37.740Z"
   },
   {
    "duration": 3,
    "start_time": "2024-07-15T14:08:54.192Z"
   },
   {
    "duration": 7,
    "start_time": "2024-07-15T14:09:17.009Z"
   },
   {
    "duration": 7,
    "start_time": "2024-07-15T14:09:50.214Z"
   },
   {
    "duration": 6,
    "start_time": "2024-07-15T14:10:29.192Z"
   },
   {
    "duration": 6,
    "start_time": "2024-07-15T14:12:51.857Z"
   },
   {
    "duration": 11,
    "start_time": "2024-07-15T14:34:57.154Z"
   },
   {
    "duration": 7,
    "start_time": "2024-07-15T14:35:38.612Z"
   },
   {
    "duration": 7,
    "start_time": "2024-07-15T14:35:46.129Z"
   },
   {
    "duration": 3,
    "start_time": "2024-07-15T14:35:57.471Z"
   },
   {
    "duration": 8,
    "start_time": "2024-07-15T14:36:00.008Z"
   },
   {
    "duration": 8,
    "start_time": "2024-07-15T14:36:05.668Z"
   },
   {
    "duration": 9,
    "start_time": "2024-07-15T14:36:22.083Z"
   },
   {
    "duration": 7,
    "start_time": "2024-07-15T14:36:45.091Z"
   },
   {
    "duration": 8,
    "start_time": "2024-07-15T14:37:30.537Z"
   },
   {
    "duration": 3,
    "start_time": "2024-07-15T14:39:41.867Z"
   },
   {
    "duration": 4,
    "start_time": "2024-07-15T14:39:53.161Z"
   },
   {
    "duration": 4,
    "start_time": "2024-07-15T14:40:21.735Z"
   },
   {
    "duration": 6,
    "start_time": "2024-07-15T14:40:36.707Z"
   },
   {
    "duration": 7,
    "start_time": "2024-07-15T14:52:01.263Z"
   },
   {
    "duration": 9,
    "start_time": "2024-07-15T14:52:19.357Z"
   },
   {
    "duration": 6,
    "start_time": "2024-07-15T14:52:27.259Z"
   },
   {
    "duration": 9,
    "start_time": "2024-07-15T14:52:59.486Z"
   },
   {
    "duration": 9,
    "start_time": "2024-07-15T14:53:05.470Z"
   },
   {
    "duration": 6,
    "start_time": "2024-07-15T14:53:10.325Z"
   },
   {
    "duration": 6,
    "start_time": "2024-07-15T14:53:42.109Z"
   },
   {
    "duration": 9,
    "start_time": "2024-07-15T14:55:01.551Z"
   },
   {
    "duration": 12,
    "start_time": "2024-07-15T14:59:35.555Z"
   },
   {
    "duration": 10,
    "start_time": "2024-07-15T14:59:44.257Z"
   },
   {
    "duration": 12,
    "start_time": "2024-07-15T15:00:30.114Z"
   },
   {
    "duration": 10,
    "start_time": "2024-07-15T15:00:42.130Z"
   },
   {
    "duration": 10,
    "start_time": "2024-07-15T15:01:29.583Z"
   },
   {
    "duration": 11,
    "start_time": "2024-07-15T15:01:35.925Z"
   },
   {
    "duration": 11,
    "start_time": "2024-07-15T15:01:47.398Z"
   },
   {
    "duration": 13,
    "start_time": "2024-07-15T15:04:30.672Z"
   },
   {
    "duration": 13,
    "start_time": "2024-07-15T15:05:35.817Z"
   },
   {
    "duration": 11,
    "start_time": "2024-07-15T15:12:56.073Z"
   },
   {
    "duration": 11,
    "start_time": "2024-07-15T15:13:46.004Z"
   },
   {
    "duration": 12,
    "start_time": "2024-07-15T15:14:37.508Z"
   },
   {
    "duration": 19,
    "start_time": "2024-07-15T15:17:02.323Z"
   },
   {
    "duration": 5,
    "start_time": "2024-07-15T15:19:10.734Z"
   },
   {
    "duration": 5,
    "start_time": "2024-07-15T15:19:38.933Z"
   },
   {
    "duration": 15,
    "start_time": "2024-07-15T15:21:14.422Z"
   },
   {
    "duration": 6,
    "start_time": "2024-07-15T15:49:57.124Z"
   },
   {
    "duration": 7,
    "start_time": "2024-07-15T15:50:43.782Z"
   },
   {
    "duration": 9,
    "start_time": "2024-07-15T15:52:21.713Z"
   },
   {
    "duration": 9,
    "start_time": "2024-07-15T15:53:42.540Z"
   },
   {
    "duration": 6,
    "start_time": "2024-07-15T15:54:10.793Z"
   },
   {
    "duration": 12,
    "start_time": "2024-07-15T15:56:51.391Z"
   },
   {
    "duration": 61,
    "start_time": "2024-07-15T15:56:57.633Z"
   },
   {
    "duration": 11,
    "start_time": "2024-07-15T15:57:05.632Z"
   },
   {
    "duration": 11,
    "start_time": "2024-07-15T15:57:09.067Z"
   },
   {
    "duration": 65,
    "start_time": "2024-07-15T15:57:12.904Z"
   },
   {
    "duration": 7,
    "start_time": "2024-07-15T15:57:14.306Z"
   },
   {
    "duration": 12,
    "start_time": "2024-07-15T15:57:38.380Z"
   },
   {
    "duration": 13,
    "start_time": "2024-07-15T15:57:52.984Z"
   },
   {
    "duration": 12,
    "start_time": "2024-07-15T15:58:20.572Z"
   },
   {
    "duration": 12,
    "start_time": "2024-07-15T15:58:33.873Z"
   },
   {
    "duration": 12,
    "start_time": "2024-07-15T15:59:29.471Z"
   },
   {
    "duration": 9,
    "start_time": "2024-07-15T15:59:34.499Z"
   },
   {
    "duration": 7,
    "start_time": "2024-07-15T16:00:51.546Z"
   },
   {
    "duration": 7,
    "start_time": "2024-07-15T16:01:12.606Z"
   },
   {
    "duration": 11,
    "start_time": "2024-07-15T16:01:20.044Z"
   },
   {
    "duration": 8,
    "start_time": "2024-07-15T16:01:38.271Z"
   },
   {
    "duration": 47,
    "start_time": "2024-07-15T17:50:37.931Z"
   },
   {
    "duration": 58,
    "start_time": "2024-07-15T17:50:58.611Z"
   },
   {
    "duration": 7,
    "start_time": "2024-07-15T17:51:27.816Z"
   },
   {
    "duration": 562,
    "start_time": "2024-07-15T17:51:38.180Z"
   },
   {
    "duration": 30,
    "start_time": "2024-07-15T17:51:39.732Z"
   },
   {
    "duration": 11,
    "start_time": "2024-07-15T17:51:44.003Z"
   },
   {
    "duration": 38,
    "start_time": "2024-07-15T17:51:45.572Z"
   },
   {
    "duration": 3,
    "start_time": "2024-07-15T17:51:48.181Z"
   },
   {
    "duration": 8,
    "start_time": "2024-07-15T17:51:49.132Z"
   },
   {
    "duration": 4,
    "start_time": "2024-07-15T17:51:51.767Z"
   },
   {
    "duration": 9,
    "start_time": "2024-07-15T17:51:56.219Z"
   },
   {
    "duration": 4,
    "start_time": "2024-07-15T17:51:57.122Z"
   },
   {
    "duration": 36,
    "start_time": "2024-07-15T17:51:58.887Z"
   },
   {
    "duration": 11,
    "start_time": "2024-07-15T17:52:00.983Z"
   },
   {
    "duration": 4,
    "start_time": "2024-07-15T17:52:02.569Z"
   },
   {
    "duration": 13,
    "start_time": "2024-07-15T17:52:04.057Z"
   },
   {
    "duration": 22,
    "start_time": "2024-07-15T17:52:04.968Z"
   },
   {
    "duration": 19,
    "start_time": "2024-07-15T17:52:06.301Z"
   },
   {
    "duration": 4,
    "start_time": "2024-07-15T17:52:08.869Z"
   },
   {
    "duration": 11,
    "start_time": "2024-07-15T17:52:10.186Z"
   },
   {
    "duration": 6,
    "start_time": "2024-07-15T17:52:11.948Z"
   },
   {
    "duration": 3,
    "start_time": "2024-07-15T17:52:15.218Z"
   },
   {
    "duration": 9,
    "start_time": "2024-07-15T17:52:16.320Z"
   },
   {
    "duration": 9,
    "start_time": "2024-07-15T17:52:18.438Z"
   },
   {
    "duration": 7,
    "start_time": "2024-07-15T17:52:21.330Z"
   },
   {
    "duration": 5,
    "start_time": "2024-07-15T17:52:22.539Z"
   },
   {
    "duration": 5,
    "start_time": "2024-07-15T17:52:24.175Z"
   },
   {
    "duration": 21,
    "start_time": "2024-07-15T17:52:30.060Z"
   },
   {
    "duration": 8,
    "start_time": "2024-07-15T17:52:33.191Z"
   },
   {
    "duration": 67,
    "start_time": "2024-07-15T17:52:38.070Z"
   },
   {
    "duration": 10,
    "start_time": "2024-07-15T17:52:40.661Z"
   },
   {
    "duration": 8,
    "start_time": "2024-07-15T17:52:41.631Z"
   },
   {
    "duration": 83,
    "start_time": "2024-07-15T17:52:43.253Z"
   },
   {
    "duration": 48,
    "start_time": "2024-07-15T17:53:19.680Z"
   },
   {
    "duration": 21,
    "start_time": "2024-07-15T17:53:31.166Z"
   },
   {
    "duration": 8,
    "start_time": "2024-07-15T17:53:43.915Z"
   },
   {
    "duration": 9,
    "start_time": "2024-07-15T17:53:52.890Z"
   },
   {
    "duration": 8,
    "start_time": "2024-07-15T17:53:55.800Z"
   },
   {
    "duration": 9,
    "start_time": "2024-07-15T17:53:57.197Z"
   },
   {
    "duration": 7,
    "start_time": "2024-07-15T17:53:58.833Z"
   },
   {
    "duration": 24,
    "start_time": "2024-07-15T17:54:42.878Z"
   },
   {
    "duration": 15,
    "start_time": "2024-07-15T17:54:57.685Z"
   },
   {
    "duration": 8,
    "start_time": "2024-07-15T17:55:16.408Z"
   },
   {
    "duration": 13,
    "start_time": "2024-07-15T17:56:28.287Z"
   },
   {
    "duration": 11,
    "start_time": "2024-07-15T17:57:00.318Z"
   },
   {
    "duration": 11,
    "start_time": "2024-07-15T18:04:33.335Z"
   },
   {
    "duration": 10,
    "start_time": "2024-07-15T18:04:42.677Z"
   },
   {
    "duration": 15,
    "start_time": "2024-07-15T18:05:08.330Z"
   },
   {
    "duration": 10,
    "start_time": "2024-07-15T18:05:14.772Z"
   },
   {
    "duration": 10,
    "start_time": "2024-07-15T18:05:49.786Z"
   },
   {
    "duration": 13,
    "start_time": "2024-07-15T18:27:13.068Z"
   },
   {
    "duration": 9,
    "start_time": "2024-07-15T18:27:20.431Z"
   },
   {
    "duration": 5,
    "start_time": "2024-07-15T18:27:49.164Z"
   },
   {
    "duration": 8,
    "start_time": "2024-07-15T18:27:54.023Z"
   },
   {
    "duration": 4,
    "start_time": "2024-07-15T18:28:28.850Z"
   },
   {
    "duration": 4,
    "start_time": "2024-07-15T18:28:32.048Z"
   },
   {
    "duration": 3,
    "start_time": "2024-07-15T18:28:38.404Z"
   },
   {
    "duration": 13,
    "start_time": "2024-07-15T18:28:45.555Z"
   },
   {
    "duration": 4,
    "start_time": "2024-07-15T18:28:54.775Z"
   },
   {
    "duration": 7,
    "start_time": "2024-07-15T18:28:58.059Z"
   },
   {
    "duration": 9,
    "start_time": "2024-07-15T18:28:59.243Z"
   },
   {
    "duration": 8,
    "start_time": "2024-07-15T18:29:12.452Z"
   },
   {
    "duration": 13,
    "start_time": "2024-07-15T18:29:16.121Z"
   },
   {
    "duration": 6,
    "start_time": "2024-07-15T18:29:18.806Z"
   },
   {
    "duration": 13,
    "start_time": "2024-07-15T18:29:53.526Z"
   },
   {
    "duration": 696,
    "start_time": "2024-07-15T18:29:55.144Z"
   },
   {
    "duration": 698,
    "start_time": "2024-07-15T18:32:36.564Z"
   },
   {
    "duration": 8,
    "start_time": "2024-07-15T18:34:56.138Z"
   },
   {
    "duration": 2,
    "start_time": "2024-07-15T18:35:12.779Z"
   },
   {
    "duration": 1282,
    "start_time": "2024-07-15T18:35:15.166Z"
   },
   {
    "duration": 97,
    "start_time": "2024-07-15T18:35:32.751Z"
   },
   {
    "duration": 4,
    "start_time": "2024-07-15T18:35:56.987Z"
   },
   {
    "duration": 4,
    "start_time": "2024-07-15T18:35:58.784Z"
   },
   {
    "duration": 2,
    "start_time": "2024-07-15T18:36:11.146Z"
   },
   {
    "duration": 7,
    "start_time": "2024-07-15T18:36:12.909Z"
   },
   {
    "duration": 10,
    "start_time": "2024-07-15T18:44:06.992Z"
   },
   {
    "duration": 10,
    "start_time": "2024-07-15T18:44:09.550Z"
   },
   {
    "duration": 8,
    "start_time": "2024-07-15T18:44:11.437Z"
   },
   {
    "duration": 5,
    "start_time": "2024-07-15T19:06:07.335Z"
   },
   {
    "duration": 5,
    "start_time": "2024-07-15T19:06:08.878Z"
   },
   {
    "duration": 11,
    "start_time": "2024-07-15T19:06:25.734Z"
   },
   {
    "duration": 7,
    "start_time": "2024-07-15T19:06:28.659Z"
   },
   {
    "duration": 18,
    "start_time": "2024-07-15T19:06:31.116Z"
   },
   {
    "duration": 9,
    "start_time": "2024-07-15T19:06:37.212Z"
   },
   {
    "duration": 8,
    "start_time": "2024-07-15T19:06:45.392Z"
   },
   {
    "duration": 9,
    "start_time": "2024-07-15T19:09:59.801Z"
   },
   {
    "duration": 0,
    "start_time": "2024-07-15T19:10:50.637Z"
   },
   {
    "duration": 5,
    "start_time": "2024-07-15T19:10:52.468Z"
   },
   {
    "duration": 4,
    "start_time": "2024-07-15T19:10:59.521Z"
   },
   {
    "duration": 58,
    "start_time": "2024-07-15T19:11:16.411Z"
   },
   {
    "duration": 12,
    "start_time": "2024-07-15T19:11:21.778Z"
   },
   {
    "duration": 170,
    "start_time": "2024-07-15T19:15:33.093Z"
   },
   {
    "duration": 10,
    "start_time": "2024-07-15T19:16:13.109Z"
   },
   {
    "duration": 12,
    "start_time": "2024-07-15T19:20:20.723Z"
   },
   {
    "duration": 11,
    "start_time": "2024-07-15T19:20:48.153Z"
   },
   {
    "duration": 13,
    "start_time": "2024-07-15T19:21:04.791Z"
   },
   {
    "duration": 6,
    "start_time": "2024-07-15T19:21:07.188Z"
   },
   {
    "duration": 5,
    "start_time": "2024-07-15T19:21:21.150Z"
   },
   {
    "duration": 976,
    "start_time": "2024-07-15T19:22:49.411Z"
   },
   {
    "duration": 7,
    "start_time": "2024-07-15T19:23:00.124Z"
   },
   {
    "duration": 9,
    "start_time": "2024-07-15T19:24:26.079Z"
   },
   {
    "duration": 14,
    "start_time": "2024-07-15T19:25:48.279Z"
   },
   {
    "duration": 1099,
    "start_time": "2024-07-15T19:29:20.956Z"
   },
   {
    "duration": 1093,
    "start_time": "2024-07-15T19:29:35.900Z"
   },
   {
    "duration": 64,
    "start_time": "2024-07-15T19:30:15.119Z"
   },
   {
    "duration": 4,
    "start_time": "2024-07-15T19:30:21.511Z"
   },
   {
    "duration": 4,
    "start_time": "2024-07-15T19:30:23.608Z"
   },
   {
    "duration": 8,
    "start_time": "2024-07-15T19:30:25.999Z"
   },
   {
    "duration": 7,
    "start_time": "2024-07-15T19:30:27.197Z"
   },
   {
    "duration": 64,
    "start_time": "2024-07-15T19:30:28.850Z"
   },
   {
    "duration": 70,
    "start_time": "2024-07-15T19:30:43.971Z"
   },
   {
    "duration": 21,
    "start_time": "2024-07-15T19:31:37.193Z"
   },
   {
    "duration": 10,
    "start_time": "2024-07-15T19:33:00.833Z"
   },
   {
    "duration": 10,
    "start_time": "2024-07-15T19:33:31.699Z"
   },
   {
    "duration": 17,
    "start_time": "2024-07-15T19:33:51.502Z"
   },
   {
    "duration": 7,
    "start_time": "2024-07-15T19:34:12.434Z"
   },
   {
    "duration": 12,
    "start_time": "2024-07-15T19:35:20.884Z"
   },
   {
    "duration": 10,
    "start_time": "2024-07-15T19:36:42.135Z"
   },
   {
    "duration": 10,
    "start_time": "2024-07-15T19:39:28.942Z"
   },
   {
    "duration": 14,
    "start_time": "2024-07-15T19:39:38.011Z"
   },
   {
    "duration": 2,
    "start_time": "2024-07-15T19:40:33.956Z"
   },
   {
    "duration": 10,
    "start_time": "2024-07-15T19:42:38.527Z"
   },
   {
    "duration": 11,
    "start_time": "2024-07-15T19:42:53.900Z"
   },
   {
    "duration": 3,
    "start_time": "2024-07-15T19:43:05.808Z"
   },
   {
    "duration": 9,
    "start_time": "2024-07-15T19:43:06.843Z"
   },
   {
    "duration": 5,
    "start_time": "2024-07-15T19:43:13.936Z"
   },
   {
    "duration": 7,
    "start_time": "2024-07-15T19:43:54.256Z"
   },
   {
    "duration": 9,
    "start_time": "2024-07-15T19:45:10.329Z"
   },
   {
    "duration": 7,
    "start_time": "2024-07-15T19:45:53.685Z"
   },
   {
    "duration": 9,
    "start_time": "2024-07-15T19:48:04.007Z"
   },
   {
    "duration": 3,
    "start_time": "2024-07-15T19:48:31.381Z"
   },
   {
    "duration": 8,
    "start_time": "2024-07-15T19:48:33.648Z"
   },
   {
    "duration": 5,
    "start_time": "2024-07-15T19:48:36.993Z"
   },
   {
    "duration": 5,
    "start_time": "2024-07-15T19:48:38.628Z"
   },
   {
    "duration": 5,
    "start_time": "2024-07-15T19:48:39.619Z"
   },
   {
    "duration": 43,
    "start_time": "2024-07-15T19:48:41.331Z"
   },
   {
    "duration": 78,
    "start_time": "2024-07-15T19:48:48.376Z"
   },
   {
    "duration": 15,
    "start_time": "2024-07-15T19:48:49.608Z"
   },
   {
    "duration": 15,
    "start_time": "2024-07-15T19:48:51.727Z"
   },
   {
    "duration": 12,
    "start_time": "2024-07-15T19:48:53.749Z"
   },
   {
    "duration": 36,
    "start_time": "2024-07-15T19:48:55.339Z"
   },
   {
    "duration": 3,
    "start_time": "2024-07-15T19:48:56.756Z"
   },
   {
    "duration": 11,
    "start_time": "2024-07-15T19:48:57.795Z"
   },
   {
    "duration": 6,
    "start_time": "2024-07-15T19:49:00.036Z"
   },
   {
    "duration": 6,
    "start_time": "2024-07-15T19:49:01.736Z"
   },
   {
    "duration": 5,
    "start_time": "2024-07-15T19:49:02.697Z"
   },
   {
    "duration": 37,
    "start_time": "2024-07-15T19:49:05.031Z"
   },
   {
    "duration": 10,
    "start_time": "2024-07-15T19:49:07.094Z"
   },
   {
    "duration": 3,
    "start_time": "2024-07-15T19:49:08.892Z"
   },
   {
    "duration": 12,
    "start_time": "2024-07-15T19:49:10.695Z"
   },
   {
    "duration": 20,
    "start_time": "2024-07-15T19:49:11.612Z"
   },
   {
    "duration": 17,
    "start_time": "2024-07-15T19:49:12.627Z"
   },
   {
    "duration": 4,
    "start_time": "2024-07-15T19:49:16.446Z"
   },
   {
    "duration": 13,
    "start_time": "2024-07-15T19:49:17.932Z"
   },
   {
    "duration": 6,
    "start_time": "2024-07-15T19:49:19.584Z"
   },
   {
    "duration": 3,
    "start_time": "2024-07-15T19:49:23.191Z"
   },
   {
    "duration": 9,
    "start_time": "2024-07-15T19:49:24.349Z"
   },
   {
    "duration": 9,
    "start_time": "2024-07-15T19:49:34.377Z"
   },
   {
    "duration": 7,
    "start_time": "2024-07-15T19:49:57.644Z"
   },
   {
    "duration": 6,
    "start_time": "2024-07-15T19:49:59.941Z"
   },
   {
    "duration": 5,
    "start_time": "2024-07-15T19:50:03.432Z"
   },
   {
    "duration": 7,
    "start_time": "2024-07-15T19:50:05.096Z"
   },
   {
    "duration": 24,
    "start_time": "2024-07-15T19:50:37.214Z"
   },
   {
    "duration": 8,
    "start_time": "2024-07-15T19:50:51.252Z"
   },
   {
    "duration": 13,
    "start_time": "2024-07-15T20:00:29.251Z"
   },
   {
    "duration": 11,
    "start_time": "2024-07-15T20:00:31.634Z"
   },
   {
    "duration": 60,
    "start_time": "2024-07-16T07:24:00.522Z"
   },
   {
    "duration": 508,
    "start_time": "2024-07-16T07:24:14.082Z"
   },
   {
    "duration": 22,
    "start_time": "2024-07-16T07:24:15.297Z"
   },
   {
    "duration": 16,
    "start_time": "2024-07-16T07:24:17.433Z"
   },
   {
    "duration": 10,
    "start_time": "2024-07-16T07:24:18.802Z"
   },
   {
    "duration": 36,
    "start_time": "2024-07-16T07:24:20.486Z"
   },
   {
    "duration": 3,
    "start_time": "2024-07-16T07:24:21.575Z"
   },
   {
    "duration": 8,
    "start_time": "2024-07-16T07:24:22.274Z"
   },
   {
    "duration": 4,
    "start_time": "2024-07-16T07:24:24.681Z"
   },
   {
    "duration": 6,
    "start_time": "2024-07-16T07:24:25.807Z"
   },
   {
    "duration": 4,
    "start_time": "2024-07-16T07:24:26.864Z"
   },
   {
    "duration": 36,
    "start_time": "2024-07-16T07:24:28.797Z"
   },
   {
    "duration": 10,
    "start_time": "2024-07-16T07:24:30.706Z"
   },
   {
    "duration": 4,
    "start_time": "2024-07-16T07:24:33.236Z"
   },
   {
    "duration": 19,
    "start_time": "2024-07-16T07:24:34.382Z"
   },
   {
    "duration": 21,
    "start_time": "2024-07-16T07:24:35.510Z"
   },
   {
    "duration": 17,
    "start_time": "2024-07-16T07:24:36.399Z"
   },
   {
    "duration": 3,
    "start_time": "2024-07-16T07:24:39.376Z"
   },
   {
    "duration": 14,
    "start_time": "2024-07-16T07:24:40.924Z"
   },
   {
    "duration": 6,
    "start_time": "2024-07-16T07:24:43.382Z"
   },
   {
    "duration": 3,
    "start_time": "2024-07-16T07:24:45.785Z"
   },
   {
    "duration": 8,
    "start_time": "2024-07-16T07:24:46.750Z"
   },
   {
    "duration": 22,
    "start_time": "2024-07-16T07:24:53.352Z"
   },
   {
    "duration": 7,
    "start_time": "2024-07-16T07:24:58.662Z"
   },
   {
    "duration": 5,
    "start_time": "2024-07-16T07:25:00.007Z"
   },
   {
    "duration": 5,
    "start_time": "2024-07-16T07:25:01.229Z"
   },
   {
    "duration": 9,
    "start_time": "2024-07-16T07:25:02.613Z"
   },
   {
    "duration": 9,
    "start_time": "2024-07-16T07:25:04.319Z"
   },
   {
    "duration": 4,
    "start_time": "2024-07-16T07:25:06.846Z"
   },
   {
    "duration": 5,
    "start_time": "2024-07-16T07:25:07.928Z"
   },
   {
    "duration": 7,
    "start_time": "2024-07-16T07:25:09.345Z"
   },
   {
    "duration": 7,
    "start_time": "2024-07-16T07:25:10.324Z"
   },
   {
    "duration": 9,
    "start_time": "2024-07-16T07:25:11.494Z"
   },
   {
    "duration": 9,
    "start_time": "2024-07-16T07:25:12.702Z"
   },
   {
    "duration": 4,
    "start_time": "2024-07-16T07:25:15.455Z"
   },
   {
    "duration": 6,
    "start_time": "2024-07-16T07:25:17.118Z"
   },
   {
    "duration": 9,
    "start_time": "2024-07-16T07:25:18.406Z"
   },
   {
    "duration": 8,
    "start_time": "2024-07-16T07:25:19.466Z"
   },
   {
    "duration": 12,
    "start_time": "2024-07-16T07:25:21.113Z"
   },
   {
    "duration": 3,
    "start_time": "2024-07-16T07:25:25.291Z"
   },
   {
    "duration": 6,
    "start_time": "2024-07-16T07:25:26.133Z"
   },
   {
    "duration": 9,
    "start_time": "2024-07-16T07:25:27.193Z"
   },
   {
    "duration": 8,
    "start_time": "2024-07-16T07:25:28.686Z"
   },
   {
    "duration": 12,
    "start_time": "2024-07-16T07:25:29.745Z"
   },
   {
    "duration": 47,
    "start_time": "2024-07-16T07:32:07.441Z"
   },
   {
    "duration": 12,
    "start_time": "2024-07-16T07:32:22.650Z"
   },
   {
    "duration": 12,
    "start_time": "2024-07-16T07:32:38.091Z"
   },
   {
    "duration": 9,
    "start_time": "2024-07-16T07:32:45.379Z"
   },
   {
    "duration": 9,
    "start_time": "2024-07-16T07:33:00.126Z"
   },
   {
    "duration": 10,
    "start_time": "2024-07-16T07:33:16.536Z"
   },
   {
    "duration": 82,
    "start_time": "2024-07-16T07:33:45.888Z"
   },
   {
    "duration": 11,
    "start_time": "2024-07-16T07:34:33.551Z"
   },
   {
    "duration": 16,
    "start_time": "2024-07-16T07:35:03.468Z"
   },
   {
    "duration": 12,
    "start_time": "2024-07-16T07:35:39.664Z"
   },
   {
    "duration": 671,
    "start_time": "2024-07-16T18:13:19.201Z"
   },
   {
    "duration": 21,
    "start_time": "2024-07-16T18:13:19.874Z"
   },
   {
    "duration": 15,
    "start_time": "2024-07-16T18:13:19.896Z"
   },
   {
    "duration": 9,
    "start_time": "2024-07-16T18:13:19.913Z"
   },
   {
    "duration": 33,
    "start_time": "2024-07-16T18:13:19.923Z"
   },
   {
    "duration": 3,
    "start_time": "2024-07-16T18:13:19.957Z"
   },
   {
    "duration": 6,
    "start_time": "2024-07-16T18:13:19.982Z"
   },
   {
    "duration": 4,
    "start_time": "2024-07-16T18:13:19.990Z"
   },
   {
    "duration": 19,
    "start_time": "2024-07-16T18:13:19.995Z"
   },
   {
    "duration": 47,
    "start_time": "2024-07-16T18:13:20.017Z"
   },
   {
    "duration": 49,
    "start_time": "2024-07-16T18:13:20.066Z"
   },
   {
    "duration": 10,
    "start_time": "2024-07-16T18:13:20.116Z"
   },
   {
    "duration": 3,
    "start_time": "2024-07-16T18:13:20.128Z"
   },
   {
    "duration": 10,
    "start_time": "2024-07-16T18:13:20.132Z"
   },
   {
    "duration": 17,
    "start_time": "2024-07-16T18:13:20.144Z"
   },
   {
    "duration": 33,
    "start_time": "2024-07-16T18:13:20.162Z"
   },
   {
    "duration": 5,
    "start_time": "2024-07-16T18:13:20.198Z"
   },
   {
    "duration": 19,
    "start_time": "2024-07-16T18:13:20.205Z"
   },
   {
    "duration": 9,
    "start_time": "2024-07-16T18:13:20.226Z"
   },
   {
    "duration": 5,
    "start_time": "2024-07-16T18:13:20.237Z"
   },
   {
    "duration": 12,
    "start_time": "2024-07-16T18:13:20.244Z"
   },
   {
    "duration": 7,
    "start_time": "2024-07-16T18:13:20.281Z"
   },
   {
    "duration": 15,
    "start_time": "2024-07-16T18:13:20.290Z"
   },
   {
    "duration": 9,
    "start_time": "2024-07-16T18:13:20.306Z"
   },
   {
    "duration": 4,
    "start_time": "2024-07-16T18:13:20.317Z"
   },
   {
    "duration": 7,
    "start_time": "2024-07-16T18:13:20.323Z"
   },
   {
    "duration": 8,
    "start_time": "2024-07-16T18:13:20.331Z"
   },
   {
    "duration": 3,
    "start_time": "2024-07-16T18:13:20.341Z"
   },
   {
    "duration": 5,
    "start_time": "2024-07-16T18:13:20.345Z"
   },
   {
    "duration": 32,
    "start_time": "2024-07-16T18:13:20.351Z"
   },
   {
    "duration": 6,
    "start_time": "2024-07-16T18:13:20.384Z"
   },
   {
    "duration": 8,
    "start_time": "2024-07-16T18:13:20.391Z"
   },
   {
    "duration": 7,
    "start_time": "2024-07-16T18:13:20.400Z"
   },
   {
    "duration": 3,
    "start_time": "2024-07-16T18:13:20.408Z"
   },
   {
    "duration": 10,
    "start_time": "2024-07-16T18:13:20.412Z"
   },
   {
    "duration": 21,
    "start_time": "2024-07-16T18:13:20.424Z"
   },
   {
    "duration": 9,
    "start_time": "2024-07-16T18:13:20.447Z"
   },
   {
    "duration": 33,
    "start_time": "2024-07-16T18:13:20.457Z"
   },
   {
    "duration": 5,
    "start_time": "2024-07-16T18:13:20.491Z"
   },
   {
    "duration": 7,
    "start_time": "2024-07-16T18:13:20.498Z"
   },
   {
    "duration": 26,
    "start_time": "2024-07-16T18:13:20.507Z"
   },
   {
    "duration": 25,
    "start_time": "2024-07-16T18:13:20.535Z"
   },
   {
    "duration": 6,
    "start_time": "2024-07-16T18:13:20.561Z"
   },
   {
    "duration": 12,
    "start_time": "2024-07-16T18:13:20.568Z"
   },
   {
    "duration": 49,
    "start_time": "2024-07-17T07:20:26.107Z"
   },
   {
    "duration": 710,
    "start_time": "2024-07-17T07:20:57.544Z"
   },
   {
    "duration": 29,
    "start_time": "2024-07-17T07:21:08.437Z"
   },
   {
    "duration": 83,
    "start_time": "2024-07-17T07:21:18.520Z"
   },
   {
    "duration": 24,
    "start_time": "2024-07-17T07:21:19.605Z"
   },
   {
    "duration": 17,
    "start_time": "2024-07-17T07:21:21.980Z"
   },
   {
    "duration": 12,
    "start_time": "2024-07-17T07:21:23.688Z"
   },
   {
    "duration": 37,
    "start_time": "2024-07-17T07:21:25.568Z"
   },
   {
    "duration": 5,
    "start_time": "2024-07-17T07:21:27.302Z"
   },
   {
    "duration": 9,
    "start_time": "2024-07-17T07:21:28.328Z"
   },
   {
    "duration": 5,
    "start_time": "2024-07-17T07:21:30.502Z"
   },
   {
    "duration": 5,
    "start_time": "2024-07-17T07:21:32.515Z"
   },
   {
    "duration": 44,
    "start_time": "2024-07-17T07:21:34.153Z"
   },
   {
    "duration": 5,
    "start_time": "2024-07-17T07:21:35.906Z"
   },
   {
    "duration": 18,
    "start_time": "2024-07-17T07:21:37.270Z"
   },
   {
    "duration": 19,
    "start_time": "2024-07-17T07:21:38.494Z"
   },
   {
    "duration": 19,
    "start_time": "2024-07-17T07:21:39.697Z"
   },
   {
    "duration": 4,
    "start_time": "2024-07-17T07:21:42.492Z"
   },
   {
    "duration": 11,
    "start_time": "2024-07-17T07:21:43.524Z"
   },
   {
    "duration": 6,
    "start_time": "2024-07-17T07:21:45.072Z"
   },
   {
    "duration": 4,
    "start_time": "2024-07-17T07:21:47.677Z"
   },
   {
    "duration": 9,
    "start_time": "2024-07-17T07:21:48.480Z"
   },
   {
    "duration": 8,
    "start_time": "2024-07-17T07:21:51.370Z"
   },
   {
    "duration": 14,
    "start_time": "2024-07-17T07:21:53.915Z"
   },
   {
    "duration": 7,
    "start_time": "2024-07-17T07:22:18.787Z"
   },
   {
    "duration": 8,
    "start_time": "2024-07-17T07:22:39.505Z"
   },
   {
    "duration": 8,
    "start_time": "2024-07-17T07:23:29.415Z"
   },
   {
    "duration": 7,
    "start_time": "2024-07-17T07:23:56.110Z"
   },
   {
    "duration": 4,
    "start_time": "2024-07-17T07:23:57.541Z"
   },
   {
    "duration": 7,
    "start_time": "2024-07-17T07:24:04.813Z"
   },
   {
    "duration": 10,
    "start_time": "2024-07-17T07:24:55.421Z"
   },
   {
    "duration": 7,
    "start_time": "2024-07-17T07:25:07.440Z"
   },
   {
    "duration": 16,
    "start_time": "2024-07-17T07:27:43.506Z"
   },
   {
    "duration": 557,
    "start_time": "2024-07-17T07:27:49.912Z"
   },
   {
    "duration": 8,
    "start_time": "2024-07-17T07:30:26.697Z"
   },
   {
    "duration": 4,
    "start_time": "2024-07-17T07:35:56.964Z"
   },
   {
    "duration": 3,
    "start_time": "2024-07-17T07:38:20.273Z"
   },
   {
    "duration": 9,
    "start_time": "2024-07-17T07:38:44.896Z"
   },
   {
    "duration": 5,
    "start_time": "2024-07-17T07:39:28.207Z"
   },
   {
    "duration": 7,
    "start_time": "2024-07-17T07:39:38.572Z"
   },
   {
    "duration": 6,
    "start_time": "2024-07-17T07:39:54.621Z"
   },
   {
    "duration": 8,
    "start_time": "2024-07-17T07:47:18.650Z"
   },
   {
    "duration": 18,
    "start_time": "2024-07-17T07:47:37.886Z"
   },
   {
    "duration": 14,
    "start_time": "2024-07-17T07:47:47.350Z"
   },
   {
    "duration": 1552,
    "start_time": "2024-07-17T07:49:52.383Z"
   },
   {
    "duration": 1699,
    "start_time": "2024-07-17T07:50:35.009Z"
   },
   {
    "duration": 1313,
    "start_time": "2024-07-17T07:51:49.692Z"
   },
   {
    "duration": 16,
    "start_time": "2024-07-17T07:53:29.850Z"
   },
   {
    "duration": 20,
    "start_time": "2024-07-17T07:53:37.028Z"
   },
   {
    "duration": 15,
    "start_time": "2024-07-17T07:55:48.523Z"
   },
   {
    "duration": 10,
    "start_time": "2024-07-17T08:01:23.622Z"
   },
   {
    "duration": 16,
    "start_time": "2024-07-17T08:01:33.566Z"
   },
   {
    "duration": 4,
    "start_time": "2024-07-17T08:05:10.912Z"
   },
   {
    "duration": 7,
    "start_time": "2024-07-17T08:05:31.803Z"
   },
   {
    "duration": 7,
    "start_time": "2024-07-17T08:06:30.951Z"
   },
   {
    "duration": 6,
    "start_time": "2024-07-17T08:08:03.099Z"
   },
   {
    "duration": 4,
    "start_time": "2024-07-17T08:08:14.778Z"
   },
   {
    "duration": 8,
    "start_time": "2024-07-17T08:08:57.637Z"
   },
   {
    "duration": 3,
    "start_time": "2024-07-17T08:10:00.549Z"
   },
   {
    "duration": 13,
    "start_time": "2024-07-17T08:10:05.286Z"
   },
   {
    "duration": 11,
    "start_time": "2024-07-17T08:10:13.328Z"
   },
   {
    "duration": 8,
    "start_time": "2024-07-17T08:12:37.847Z"
   },
   {
    "duration": 5,
    "start_time": "2024-07-17T08:12:41.718Z"
   },
   {
    "duration": 11,
    "start_time": "2024-07-17T08:13:58.482Z"
   },
   {
    "duration": 14,
    "start_time": "2024-07-17T08:14:02.333Z"
   },
   {
    "duration": 16,
    "start_time": "2024-07-17T08:14:16.348Z"
   },
   {
    "duration": 10,
    "start_time": "2024-07-17T08:14:47.145Z"
   },
   {
    "duration": 12,
    "start_time": "2024-07-17T08:14:59.544Z"
   },
   {
    "duration": 10,
    "start_time": "2024-07-17T08:15:03.924Z"
   },
   {
    "duration": 7,
    "start_time": "2024-07-17T08:15:05.797Z"
   },
   {
    "duration": 5,
    "start_time": "2024-07-17T08:15:07.182Z"
   },
   {
    "duration": 7,
    "start_time": "2024-07-17T08:15:08.808Z"
   },
   {
    "duration": 10,
    "start_time": "2024-07-17T08:15:16.191Z"
   },
   {
    "duration": 11,
    "start_time": "2024-07-17T08:17:32.208Z"
   },
   {
    "duration": 6,
    "start_time": "2024-07-17T08:19:29.048Z"
   },
   {
    "duration": 6,
    "start_time": "2024-07-17T08:19:33.816Z"
   },
   {
    "duration": 5,
    "start_time": "2024-07-17T08:20:23.066Z"
   },
   {
    "duration": 12,
    "start_time": "2024-07-17T08:21:44.057Z"
   },
   {
    "duration": 6,
    "start_time": "2024-07-17T08:22:45.471Z"
   },
   {
    "duration": 7,
    "start_time": "2024-07-17T08:22:47.211Z"
   },
   {
    "duration": 49,
    "start_time": "2024-07-17T08:23:00.223Z"
   },
   {
    "duration": 7,
    "start_time": "2024-07-17T08:23:14.430Z"
   },
   {
    "duration": 5,
    "start_time": "2024-07-17T08:23:47.374Z"
   },
   {
    "duration": 3,
    "start_time": "2024-07-17T08:23:55.738Z"
   },
   {
    "duration": 7,
    "start_time": "2024-07-17T08:24:03.134Z"
   },
   {
    "duration": 11,
    "start_time": "2024-07-17T08:30:05.430Z"
   },
   {
    "duration": 12,
    "start_time": "2024-07-17T08:30:23.511Z"
   },
   {
    "duration": 10,
    "start_time": "2024-07-17T08:30:35.819Z"
   },
   {
    "duration": 11,
    "start_time": "2024-07-17T08:30:51.119Z"
   },
   {
    "duration": 11,
    "start_time": "2024-07-17T08:31:08.624Z"
   },
   {
    "duration": 17,
    "start_time": "2024-07-17T08:31:42.902Z"
   },
   {
    "duration": 51,
    "start_time": "2024-07-17T08:35:40.380Z"
   },
   {
    "duration": 6,
    "start_time": "2024-07-17T08:36:13.658Z"
   },
   {
    "duration": 706,
    "start_time": "2024-07-17T08:36:24.077Z"
   },
   {
    "duration": 22,
    "start_time": "2024-07-17T08:36:25.059Z"
   },
   {
    "duration": 7,
    "start_time": "2024-07-17T08:36:34.999Z"
   },
   {
    "duration": 59,
    "start_time": "2024-07-17T08:36:43.004Z"
   },
   {
    "duration": 736,
    "start_time": "2024-07-17T08:38:22.095Z"
   },
   {
    "duration": 50,
    "start_time": "2024-07-17T08:44:36.942Z"
   },
   {
    "duration": 8,
    "start_time": "2024-07-17T08:44:56.316Z"
   },
   {
    "duration": 7,
    "start_time": "2024-07-17T08:45:03.132Z"
   },
   {
    "duration": 6,
    "start_time": "2024-07-17T08:45:29.823Z"
   },
   {
    "duration": 7,
    "start_time": "2024-07-17T08:45:31.596Z"
   },
   {
    "duration": 6,
    "start_time": "2024-07-17T08:45:54.631Z"
   },
   {
    "duration": 6,
    "start_time": "2024-07-17T08:46:20.334Z"
   },
   {
    "duration": 498,
    "start_time": "2024-07-17T08:46:31.810Z"
   },
   {
    "duration": 16,
    "start_time": "2024-07-17T08:46:35.895Z"
   },
   {
    "duration": 38,
    "start_time": "2024-07-17T08:46:37.412Z"
   },
   {
    "duration": 8,
    "start_time": "2024-07-17T08:46:38.948Z"
   },
   {
    "duration": 5,
    "start_time": "2024-07-17T08:46:40.488Z"
   },
   {
    "duration": 7,
    "start_time": "2024-07-17T08:46:41.497Z"
   },
   {
    "duration": 4,
    "start_time": "2024-07-17T08:46:43.225Z"
   },
   {
    "duration": 36,
    "start_time": "2024-07-17T08:46:44.823Z"
   },
   {
    "duration": 11,
    "start_time": "2024-07-17T08:46:46.092Z"
   },
   {
    "duration": 4,
    "start_time": "2024-07-17T08:46:47.549Z"
   },
   {
    "duration": 13,
    "start_time": "2024-07-17T08:46:49.016Z"
   },
   {
    "duration": 19,
    "start_time": "2024-07-17T08:46:50.250Z"
   },
   {
    "duration": 17,
    "start_time": "2024-07-17T08:46:51.156Z"
   },
   {
    "duration": 3,
    "start_time": "2024-07-17T08:46:54.680Z"
   },
   {
    "duration": 11,
    "start_time": "2024-07-17T08:46:55.626Z"
   },
   {
    "duration": 6,
    "start_time": "2024-07-17T08:46:57.786Z"
   },
   {
    "duration": 4,
    "start_time": "2024-07-17T08:46:59.757Z"
   },
   {
    "duration": 9,
    "start_time": "2024-07-17T08:47:01.731Z"
   },
   {
    "duration": 9,
    "start_time": "2024-07-17T08:47:04.468Z"
   },
   {
    "duration": 6,
    "start_time": "2024-07-17T08:47:06.863Z"
   },
   {
    "duration": 5,
    "start_time": "2024-07-17T08:47:08.804Z"
   },
   {
    "duration": 63,
    "start_time": "2024-07-17T08:47:24.979Z"
   },
   {
    "duration": 6,
    "start_time": "2024-07-17T08:47:34.338Z"
   },
   {
    "duration": 687,
    "start_time": "2024-07-17T08:47:41.541Z"
   },
   {
    "duration": 23,
    "start_time": "2024-07-17T08:47:43.771Z"
   },
   {
    "duration": 4,
    "start_time": "2024-07-17T08:47:53.131Z"
   },
   {
    "duration": 5,
    "start_time": "2024-07-17T08:47:54.645Z"
   },
   {
    "duration": 3,
    "start_time": "2024-07-17T08:47:57.024Z"
   },
   {
    "duration": 50,
    "start_time": "2024-07-17T08:48:04.491Z"
   },
   {
    "duration": 8,
    "start_time": "2024-07-17T08:48:08.470Z"
   },
   {
    "duration": 741,
    "start_time": "2024-07-17T08:48:20.983Z"
   },
   {
    "duration": 4,
    "start_time": "2024-07-17T08:48:29.364Z"
   },
   {
    "duration": 6,
    "start_time": "2024-07-17T08:48:33.440Z"
   },
   {
    "duration": 65,
    "start_time": "2024-07-17T08:49:08.381Z"
   },
   {
    "duration": 43,
    "start_time": "2024-07-17T08:49:13.271Z"
   },
   {
    "duration": 6,
    "start_time": "2024-07-17T08:49:17.721Z"
   },
   {
    "duration": 696,
    "start_time": "2024-07-17T08:49:25.736Z"
   },
   {
    "duration": 3,
    "start_time": "2024-07-17T08:49:34.612Z"
   },
   {
    "duration": 5,
    "start_time": "2024-07-17T08:49:36.032Z"
   },
   {
    "duration": 50,
    "start_time": "2024-07-17T08:50:15.477Z"
   },
   {
    "duration": 517,
    "start_time": "2024-07-17T08:50:21.290Z"
   },
   {
    "duration": 18,
    "start_time": "2024-07-17T08:50:23.520Z"
   },
   {
    "duration": 16,
    "start_time": "2024-07-17T08:50:27.546Z"
   },
   {
    "duration": 37,
    "start_time": "2024-07-17T08:50:28.437Z"
   },
   {
    "duration": 3,
    "start_time": "2024-07-17T08:50:29.040Z"
   },
   {
    "duration": 8,
    "start_time": "2024-07-17T08:50:29.339Z"
   },
   {
    "duration": 6,
    "start_time": "2024-07-17T08:50:29.763Z"
   },
   {
    "duration": 7,
    "start_time": "2024-07-17T08:50:30.048Z"
   },
   {
    "duration": 4,
    "start_time": "2024-07-17T08:50:30.331Z"
   },
   {
    "duration": 38,
    "start_time": "2024-07-17T08:50:30.785Z"
   },
   {
    "duration": 81,
    "start_time": "2024-07-17T08:50:31.078Z"
   },
   {
    "duration": 4,
    "start_time": "2024-07-17T08:50:32.079Z"
   },
   {
    "duration": 12,
    "start_time": "2024-07-17T08:50:32.586Z"
   },
   {
    "duration": 19,
    "start_time": "2024-07-17T08:50:32.931Z"
   },
   {
    "duration": 19,
    "start_time": "2024-07-17T08:50:33.101Z"
   },
   {
    "duration": 4,
    "start_time": "2024-07-17T08:50:33.638Z"
   },
   {
    "duration": 11,
    "start_time": "2024-07-17T08:50:33.821Z"
   },
   {
    "duration": 6,
    "start_time": "2024-07-17T08:50:34.354Z"
   },
   {
    "duration": 3,
    "start_time": "2024-07-17T08:50:34.933Z"
   },
   {
    "duration": 8,
    "start_time": "2024-07-17T08:50:35.365Z"
   },
   {
    "duration": 9,
    "start_time": "2024-07-17T08:50:36.661Z"
   },
   {
    "duration": 6,
    "start_time": "2024-07-17T08:50:36.961Z"
   },
   {
    "duration": 5,
    "start_time": "2024-07-17T08:50:37.655Z"
   },
   {
    "duration": 7,
    "start_time": "2024-07-17T08:50:38.709Z"
   },
   {
    "duration": 7,
    "start_time": "2024-07-17T08:51:04.064Z"
   },
   {
    "duration": 9,
    "start_time": "2024-07-17T08:51:24.114Z"
   },
   {
    "duration": 617,
    "start_time": "2024-07-17T08:52:29.006Z"
   },
   {
    "duration": 10,
    "start_time": "2024-07-17T08:52:51.372Z"
   },
   {
    "duration": 5,
    "start_time": "2024-07-17T09:16:17.190Z"
   },
   {
    "duration": 7,
    "start_time": "2024-07-17T09:16:22.760Z"
   },
   {
    "duration": 13,
    "start_time": "2024-07-17T09:16:44.271Z"
   },
   {
    "duration": 3,
    "start_time": "2024-07-17T09:17:00.352Z"
   },
   {
    "duration": 75,
    "start_time": "2024-07-17T09:17:04.547Z"
   },
   {
    "duration": 7,
    "start_time": "2024-07-17T09:17:15.425Z"
   },
   {
    "duration": 4,
    "start_time": "2024-07-17T09:18:15.372Z"
   },
   {
    "duration": 7,
    "start_time": "2024-07-17T09:18:57.413Z"
   },
   {
    "duration": 7,
    "start_time": "2024-07-17T09:19:52.245Z"
   },
   {
    "duration": 51,
    "start_time": "2024-07-17T09:20:01.816Z"
   },
   {
    "duration": 8,
    "start_time": "2024-07-17T09:20:17.260Z"
   },
   {
    "duration": 10,
    "start_time": "2024-07-17T09:20:34.705Z"
   },
   {
    "duration": 15,
    "start_time": "2024-07-17T09:20:53.803Z"
   },
   {
    "duration": 4,
    "start_time": "2024-07-17T09:21:02.048Z"
   },
   {
    "duration": 8,
    "start_time": "2024-07-17T09:56:34.549Z"
   },
   {
    "duration": 12,
    "start_time": "2024-07-17T09:56:41.117Z"
   },
   {
    "duration": 10,
    "start_time": "2024-07-17T09:57:38.414Z"
   },
   {
    "duration": 16,
    "start_time": "2024-07-17T09:59:29.515Z"
   },
   {
    "duration": 25,
    "start_time": "2024-07-17T10:01:28.179Z"
   },
   {
    "duration": 22,
    "start_time": "2024-07-17T10:02:38.589Z"
   },
   {
    "duration": 16,
    "start_time": "2024-07-17T10:02:47.016Z"
   },
   {
    "duration": 10,
    "start_time": "2024-07-17T10:03:03.118Z"
   },
   {
    "duration": 11,
    "start_time": "2024-07-17T10:03:31.214Z"
   },
   {
    "duration": 12,
    "start_time": "2024-07-17T10:03:51.626Z"
   },
   {
    "duration": 16,
    "start_time": "2024-07-17T10:04:06.826Z"
   },
   {
    "duration": 94,
    "start_time": "2024-07-17T10:12:11.773Z"
   },
   {
    "duration": 170,
    "start_time": "2024-07-17T10:12:39.358Z"
   },
   {
    "duration": 98,
    "start_time": "2024-07-17T10:13:06.995Z"
   },
   {
    "duration": 100,
    "start_time": "2024-07-17T10:14:00.671Z"
   },
   {
    "duration": 56,
    "start_time": "2024-07-17T10:14:19.976Z"
   },
   {
    "duration": 5,
    "start_time": "2024-07-17T10:14:32.379Z"
   },
   {
    "duration": 17,
    "start_time": "2024-07-17T10:16:40.640Z"
   },
   {
    "duration": 16,
    "start_time": "2024-07-17T10:17:31.029Z"
   },
   {
    "duration": 56,
    "start_time": "2024-07-17T10:17:42.237Z"
   },
   {
    "duration": 15,
    "start_time": "2024-07-17T10:17:46.690Z"
   },
   {
    "duration": 18,
    "start_time": "2024-07-17T10:18:04.042Z"
   },
   {
    "duration": 12,
    "start_time": "2024-07-17T10:18:18.029Z"
   },
   {
    "duration": 69,
    "start_time": "2024-07-17T10:18:56.155Z"
   },
   {
    "duration": 15,
    "start_time": "2024-07-17T10:19:01.180Z"
   },
   {
    "duration": 9,
    "start_time": "2024-07-17T10:19:21.878Z"
   },
   {
    "duration": 12,
    "start_time": "2024-07-17T10:21:27.435Z"
   },
   {
    "duration": 8,
    "start_time": "2024-07-17T10:22:29.091Z"
   },
   {
    "duration": 3,
    "start_time": "2024-07-17T10:22:58.351Z"
   },
   {
    "duration": 18,
    "start_time": "2024-07-17T10:23:06.666Z"
   },
   {
    "duration": 20,
    "start_time": "2024-07-17T10:23:13.326Z"
   },
   {
    "duration": 54,
    "start_time": "2024-07-17T10:23:25.174Z"
   },
   {
    "duration": 19,
    "start_time": "2024-07-17T10:23:28.726Z"
   },
   {
    "duration": 13,
    "start_time": "2024-07-17T10:23:57.035Z"
   },
   {
    "duration": 12,
    "start_time": "2024-07-17T10:24:29.644Z"
   },
   {
    "duration": 14,
    "start_time": "2024-07-17T10:24:50.592Z"
   },
   {
    "duration": 12,
    "start_time": "2024-07-17T10:25:12.478Z"
   },
   {
    "duration": 8,
    "start_time": "2024-07-17T10:25:36.458Z"
   },
   {
    "duration": 14,
    "start_time": "2024-07-17T10:25:53.617Z"
   },
   {
    "duration": 10,
    "start_time": "2024-07-17T10:26:33.395Z"
   },
   {
    "duration": 4,
    "start_time": "2024-07-17T10:26:50.793Z"
   },
   {
    "duration": 18,
    "start_time": "2024-07-17T10:26:52.619Z"
   },
   {
    "duration": 8,
    "start_time": "2024-07-17T10:26:56.797Z"
   },
   {
    "duration": 9,
    "start_time": "2024-07-17T10:26:59.292Z"
   },
   {
    "duration": 8,
    "start_time": "2024-07-17T10:59:27.903Z"
   },
   {
    "duration": 8,
    "start_time": "2024-07-17T10:59:44.261Z"
   },
   {
    "duration": 8,
    "start_time": "2024-07-17T10:59:50.324Z"
   },
   {
    "duration": 3,
    "start_time": "2024-07-17T10:59:55.258Z"
   },
   {
    "duration": 6,
    "start_time": "2024-07-17T10:59:56.653Z"
   },
   {
    "duration": 11,
    "start_time": "2024-07-17T10:59:57.226Z"
   },
   {
    "duration": 8,
    "start_time": "2024-07-17T10:59:57.524Z"
   },
   {
    "duration": 13,
    "start_time": "2024-07-17T10:59:57.726Z"
   },
   {
    "duration": 14,
    "start_time": "2024-07-17T11:00:29.156Z"
   },
   {
    "duration": 15,
    "start_time": "2024-07-17T11:01:26.687Z"
   },
   {
    "duration": 10,
    "start_time": "2024-07-17T11:02:20.966Z"
   },
   {
    "duration": 10,
    "start_time": "2024-07-17T11:04:12.983Z"
   },
   {
    "duration": 4,
    "start_time": "2024-07-17T11:05:37.972Z"
   },
   {
    "duration": 13,
    "start_time": "2024-07-17T11:05:41.634Z"
   },
   {
    "duration": 20,
    "start_time": "2024-07-17T11:06:06.019Z"
   },
   {
    "duration": 13,
    "start_time": "2024-07-17T11:09:19.242Z"
   },
   {
    "duration": 51,
    "start_time": "2024-07-17T21:47:41.919Z"
   },
   {
    "duration": 603,
    "start_time": "2024-07-17T21:47:49.150Z"
   },
   {
    "duration": 25,
    "start_time": "2024-07-17T21:47:49.755Z"
   },
   {
    "duration": 25,
    "start_time": "2024-07-17T21:47:49.781Z"
   },
   {
    "duration": 13,
    "start_time": "2024-07-17T21:47:49.809Z"
   },
   {
    "duration": 53,
    "start_time": "2024-07-17T21:47:49.824Z"
   },
   {
    "duration": 4,
    "start_time": "2024-07-17T21:47:49.879Z"
   },
   {
    "duration": 8,
    "start_time": "2024-07-17T21:47:49.884Z"
   },
   {
    "duration": 4,
    "start_time": "2024-07-17T21:47:49.894Z"
   },
   {
    "duration": 8,
    "start_time": "2024-07-17T21:47:49.899Z"
   },
   {
    "duration": 38,
    "start_time": "2024-07-17T21:47:49.910Z"
   },
   {
    "duration": 36,
    "start_time": "2024-07-17T21:47:49.949Z"
   },
   {
    "duration": 11,
    "start_time": "2024-07-17T21:47:49.987Z"
   },
   {
    "duration": 14,
    "start_time": "2024-07-17T21:47:49.999Z"
   },
   {
    "duration": 39,
    "start_time": "2024-07-17T21:47:50.014Z"
   },
   {
    "duration": 37,
    "start_time": "2024-07-17T21:47:50.055Z"
   },
   {
    "duration": 17,
    "start_time": "2024-07-17T21:47:50.093Z"
   },
   {
    "duration": 3,
    "start_time": "2024-07-17T21:47:50.112Z"
   },
   {
    "duration": 15,
    "start_time": "2024-07-17T21:47:50.117Z"
   },
   {
    "duration": 16,
    "start_time": "2024-07-17T21:47:50.133Z"
   },
   {
    "duration": 7,
    "start_time": "2024-07-17T21:47:50.150Z"
   },
   {
    "duration": 17,
    "start_time": "2024-07-17T21:47:50.159Z"
   },
   {
    "duration": 15,
    "start_time": "2024-07-17T21:47:50.178Z"
   },
   {
    "duration": 17,
    "start_time": "2024-07-17T21:47:50.195Z"
   },
   {
    "duration": 32,
    "start_time": "2024-07-17T21:47:50.214Z"
   },
   {
    "duration": 14,
    "start_time": "2024-07-17T21:47:50.248Z"
   },
   {
    "duration": 13,
    "start_time": "2024-07-17T21:47:50.263Z"
   },
   {
    "duration": 3,
    "start_time": "2024-07-17T21:47:50.277Z"
   },
   {
    "duration": 14,
    "start_time": "2024-07-17T21:47:50.283Z"
   },
   {
    "duration": 1066,
    "start_time": "2024-07-17T21:48:02.253Z"
   },
   {
    "duration": 14,
    "start_time": "2024-07-17T21:48:09.095Z"
   },
   {
    "duration": 14,
    "start_time": "2024-07-17T21:48:15.106Z"
   }
  ],
  "colab": {
   "provenance": []
  },
  "kernelspec": {
   "display_name": "Python 3 (ipykernel)",
   "language": "python",
   "name": "python3"
  },
  "language_info": {
   "codemirror_mode": {
    "name": "ipython",
    "version": 3
   },
   "file_extension": ".py",
   "mimetype": "text/x-python",
   "name": "python",
   "nbconvert_exporter": "python",
   "pygments_lexer": "ipython3",
   "version": "3.12.4"
  },
  "toc": {
   "base_numbering": 1,
   "nav_menu": {},
   "number_sections": true,
   "sideBar": true,
   "skip_h1_title": true,
   "title_cell": "Table of Contents",
   "title_sidebar": "Contents",
   "toc_cell": false,
   "toc_position": {},
   "toc_section_display": true,
   "toc_window_display": false
  }
 },
 "nbformat": 4,
 "nbformat_minor": 5
}

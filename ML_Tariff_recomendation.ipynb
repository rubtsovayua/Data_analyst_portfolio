{
 "cells": [
  {
   "cell_type": "markdown",
   "metadata": {},
   "source": [
    "# Рекомендация тарифов"
   ]
  },
  {
   "cell_type": "markdown",
   "metadata": {},
   "source": [
    "В нашем распоряжении данные о поведении клиентов, которые уже перешли на новые тарифы. \n",
    "\n",
    "Задача: построить модель для задачи классификации, которая выберет подходящий тариф. \n",
    "Построить модель с максимально большим значением *accuracy*. Минимум 0.75. Проверить *accuracy* на тестовой выборке."
   ]
  },
  {
   "cell_type": "markdown",
   "metadata": {},
   "source": [
    "## Откройте и изучите файл"
   ]
  },
  {
   "cell_type": "code",
   "execution_count": 1,
   "metadata": {},
   "outputs": [
    {
     "name": "stdout",
     "output_type": "stream",
     "text": [
      "<class 'pandas.core.frame.DataFrame'>\n",
      "RangeIndex: 3214 entries, 0 to 3213\n",
      "Data columns (total 5 columns):\n",
      " #   Column    Non-Null Count  Dtype  \n",
      "---  ------    --------------  -----  \n",
      " 0   calls     3214 non-null   float64\n",
      " 1   minutes   3214 non-null   float64\n",
      " 2   messages  3214 non-null   float64\n",
      " 3   mb_used   3214 non-null   float64\n",
      " 4   is_ultra  3214 non-null   int64  \n",
      "dtypes: float64(4), int64(1)\n",
      "memory usage: 125.7 KB\n"
     ]
    }
   ],
   "source": [
    "import pandas as pd\n",
    "from sklearn.ensemble import RandomForestRegressor, RandomForestClassifier\n",
    "from sklearn.model_selection import train_test_split\n",
    "from sklearn.linear_model import LogisticRegression,LinearRegression\n",
    "from sklearn.tree import DecisionTreeRegressor, DecisionTreeClassifier\n",
    "from sklearn.metrics import mean_squared_error,accuracy_score\n",
    "from sklearn.dummy import DummyClassifier\n",
    "df = pd.read_csv('/datasets/users_behavior.csv')\n",
    "df.info()"
   ]
  },
  {
   "cell_type": "code",
   "execution_count": 2,
   "metadata": {},
   "outputs": [
    {
     "data": {
      "text/html": [
       "<div>\n",
       "<style scoped>\n",
       "    .dataframe tbody tr th:only-of-type {\n",
       "        vertical-align: middle;\n",
       "    }\n",
       "\n",
       "    .dataframe tbody tr th {\n",
       "        vertical-align: top;\n",
       "    }\n",
       "\n",
       "    .dataframe thead th {\n",
       "        text-align: right;\n",
       "    }\n",
       "</style>\n",
       "<table border=\"1\" class=\"dataframe\">\n",
       "  <thead>\n",
       "    <tr style=\"text-align: right;\">\n",
       "      <th></th>\n",
       "      <th>calls</th>\n",
       "      <th>minutes</th>\n",
       "      <th>messages</th>\n",
       "      <th>mb_used</th>\n",
       "      <th>is_ultra</th>\n",
       "    </tr>\n",
       "  </thead>\n",
       "  <tbody>\n",
       "    <tr>\n",
       "      <th>0</th>\n",
       "      <td>40.0</td>\n",
       "      <td>311.90</td>\n",
       "      <td>83.0</td>\n",
       "      <td>19915.42</td>\n",
       "      <td>0</td>\n",
       "    </tr>\n",
       "    <tr>\n",
       "      <th>1</th>\n",
       "      <td>85.0</td>\n",
       "      <td>516.75</td>\n",
       "      <td>56.0</td>\n",
       "      <td>22696.96</td>\n",
       "      <td>0</td>\n",
       "    </tr>\n",
       "    <tr>\n",
       "      <th>2</th>\n",
       "      <td>77.0</td>\n",
       "      <td>467.66</td>\n",
       "      <td>86.0</td>\n",
       "      <td>21060.45</td>\n",
       "      <td>0</td>\n",
       "    </tr>\n",
       "    <tr>\n",
       "      <th>3</th>\n",
       "      <td>106.0</td>\n",
       "      <td>745.53</td>\n",
       "      <td>81.0</td>\n",
       "      <td>8437.39</td>\n",
       "      <td>1</td>\n",
       "    </tr>\n",
       "    <tr>\n",
       "      <th>4</th>\n",
       "      <td>66.0</td>\n",
       "      <td>418.74</td>\n",
       "      <td>1.0</td>\n",
       "      <td>14502.75</td>\n",
       "      <td>0</td>\n",
       "    </tr>\n",
       "  </tbody>\n",
       "</table>\n",
       "</div>"
      ],
      "text/plain": [
       "   calls  minutes  messages   mb_used  is_ultra\n",
       "0   40.0   311.90      83.0  19915.42         0\n",
       "1   85.0   516.75      56.0  22696.96         0\n",
       "2   77.0   467.66      86.0  21060.45         0\n",
       "3  106.0   745.53      81.0   8437.39         1\n",
       "4   66.0   418.74       1.0  14502.75         0"
      ]
     },
     "execution_count": 2,
     "metadata": {},
     "output_type": "execute_result"
    }
   ],
   "source": [
    "df.head()"
   ]
  },
  {
   "cell_type": "code",
   "execution_count": 3,
   "metadata": {},
   "outputs": [
    {
     "data": {
      "text/html": [
       "<div>\n",
       "<style scoped>\n",
       "    .dataframe tbody tr th:only-of-type {\n",
       "        vertical-align: middle;\n",
       "    }\n",
       "\n",
       "    .dataframe tbody tr th {\n",
       "        vertical-align: top;\n",
       "    }\n",
       "\n",
       "    .dataframe thead th {\n",
       "        text-align: right;\n",
       "    }\n",
       "</style>\n",
       "<table border=\"1\" class=\"dataframe\">\n",
       "  <thead>\n",
       "    <tr style=\"text-align: right;\">\n",
       "      <th></th>\n",
       "      <th>calls</th>\n",
       "      <th>minutes</th>\n",
       "      <th>messages</th>\n",
       "      <th>mb_used</th>\n",
       "      <th>is_ultra</th>\n",
       "    </tr>\n",
       "  </thead>\n",
       "  <tbody>\n",
       "    <tr>\n",
       "      <th>count</th>\n",
       "      <td>3214.000000</td>\n",
       "      <td>3214.000000</td>\n",
       "      <td>3214.000000</td>\n",
       "      <td>3214.000000</td>\n",
       "      <td>3214.000000</td>\n",
       "    </tr>\n",
       "    <tr>\n",
       "      <th>mean</th>\n",
       "      <td>63.038892</td>\n",
       "      <td>438.208787</td>\n",
       "      <td>38.281269</td>\n",
       "      <td>17207.673836</td>\n",
       "      <td>0.306472</td>\n",
       "    </tr>\n",
       "    <tr>\n",
       "      <th>std</th>\n",
       "      <td>33.236368</td>\n",
       "      <td>234.569872</td>\n",
       "      <td>36.148326</td>\n",
       "      <td>7570.968246</td>\n",
       "      <td>0.461100</td>\n",
       "    </tr>\n",
       "    <tr>\n",
       "      <th>min</th>\n",
       "      <td>0.000000</td>\n",
       "      <td>0.000000</td>\n",
       "      <td>0.000000</td>\n",
       "      <td>0.000000</td>\n",
       "      <td>0.000000</td>\n",
       "    </tr>\n",
       "    <tr>\n",
       "      <th>25%</th>\n",
       "      <td>40.000000</td>\n",
       "      <td>274.575000</td>\n",
       "      <td>9.000000</td>\n",
       "      <td>12491.902500</td>\n",
       "      <td>0.000000</td>\n",
       "    </tr>\n",
       "    <tr>\n",
       "      <th>50%</th>\n",
       "      <td>62.000000</td>\n",
       "      <td>430.600000</td>\n",
       "      <td>30.000000</td>\n",
       "      <td>16943.235000</td>\n",
       "      <td>0.000000</td>\n",
       "    </tr>\n",
       "    <tr>\n",
       "      <th>75%</th>\n",
       "      <td>82.000000</td>\n",
       "      <td>571.927500</td>\n",
       "      <td>57.000000</td>\n",
       "      <td>21424.700000</td>\n",
       "      <td>1.000000</td>\n",
       "    </tr>\n",
       "    <tr>\n",
       "      <th>max</th>\n",
       "      <td>244.000000</td>\n",
       "      <td>1632.060000</td>\n",
       "      <td>224.000000</td>\n",
       "      <td>49745.730000</td>\n",
       "      <td>1.000000</td>\n",
       "    </tr>\n",
       "  </tbody>\n",
       "</table>\n",
       "</div>"
      ],
      "text/plain": [
       "             calls      minutes     messages       mb_used     is_ultra\n",
       "count  3214.000000  3214.000000  3214.000000   3214.000000  3214.000000\n",
       "mean     63.038892   438.208787    38.281269  17207.673836     0.306472\n",
       "std      33.236368   234.569872    36.148326   7570.968246     0.461100\n",
       "min       0.000000     0.000000     0.000000      0.000000     0.000000\n",
       "25%      40.000000   274.575000     9.000000  12491.902500     0.000000\n",
       "50%      62.000000   430.600000    30.000000  16943.235000     0.000000\n",
       "75%      82.000000   571.927500    57.000000  21424.700000     1.000000\n",
       "max     244.000000  1632.060000   224.000000  49745.730000     1.000000"
      ]
     },
     "execution_count": 3,
     "metadata": {},
     "output_type": "execute_result"
    }
   ],
   "source": [
    "df.describe()"
   ]
  },
  {
   "cell_type": "code",
   "execution_count": 18,
   "metadata": {},
   "outputs": [
    {
     "data": {
      "text/plain": [
       "0"
      ]
     },
     "execution_count": 18,
     "metadata": {},
     "output_type": "execute_result"
    }
   ],
   "source": [
    "df.duplicated().sum()"
   ]
  },
  {
   "cell_type": "markdown",
   "metadata": {},
   "source": [
    "## Разбейте данные на выборки"
   ]
  },
  {
   "cell_type": "code",
   "execution_count": 5,
   "metadata": {},
   "outputs": [],
   "source": [
    "features = df.drop(['is_ultra'], axis=1)\n",
    "target = df['is_ultra']\n"
   ]
  },
  {
   "cell_type": "markdown",
   "metadata": {},
   "source": [
    "Спрятанной тестовой выборки нет. Значит, данные нужно разбить на три части: обучающую, валидационную и тестовую. Размеры тестового и валидационного наборов обычно равны. Исходные данные разобьем в соотношении 3:1:1 (обучающая-60%, тестовая и валидационная по 20%)"
   ]
  },
  {
   "cell_type": "code",
   "execution_count": 6,
   "metadata": {},
   "outputs": [],
   "source": [
    "features_train, features_test, target_train, target_test = train_test_split(features, \n",
    "                                                                            target, \n",
    "                                                                            test_size=0.4, \n",
    "                                                                            random_state=12345\n",
    "                                                                           ) "
   ]
  },
  {
   "cell_type": "code",
   "execution_count": 7,
   "metadata": {},
   "outputs": [],
   "source": [
    "features_valid, features_test, target_valid, target_test = train_test_split(features_test, \n",
    "                                                                            target_test, \n",
    "                                                                            test_size=0.5, \n",
    "                                                                            random_state=12345\n",
    "                                                                           ) "
   ]
  },
  {
   "cell_type": "code",
   "execution_count": 8,
   "metadata": {},
   "outputs": [
    {
     "name": "stdout",
     "output_type": "stream",
     "text": [
      "(1928, 4)\n",
      "(1928,)\n"
     ]
    }
   ],
   "source": [
    "print(features_train.shape)\n",
    "print(target_train.shape)"
   ]
  },
  {
   "cell_type": "code",
   "execution_count": 9,
   "metadata": {},
   "outputs": [
    {
     "name": "stdout",
     "output_type": "stream",
     "text": [
      "(643, 4)\n",
      "(643,)\n"
     ]
    }
   ],
   "source": [
    "print(features_valid.shape)\n",
    "print(target_valid.shape)"
   ]
  },
  {
   "cell_type": "code",
   "execution_count": 10,
   "metadata": {},
   "outputs": [
    {
     "name": "stdout",
     "output_type": "stream",
     "text": [
      "(643, 4)\n",
      "(643,)\n"
     ]
    }
   ],
   "source": [
    "print(features_test.shape)\n",
    "print(target_test.shape)"
   ]
  },
  {
   "cell_type": "markdown",
   "metadata": {},
   "source": [
    "## Исследуйте модели"
   ]
  },
  {
   "cell_type": "markdown",
   "metadata": {},
   "source": [
    "**Дерево решений**"
   ]
  },
  {
   "cell_type": "code",
   "execution_count": 19,
   "metadata": {},
   "outputs": [
    {
     "name": "stdout",
     "output_type": "stream",
     "text": [
      "0.7542768273716952\n",
      "0.7822706065318819\n",
      "0.7853810264385692\n",
      "0.7791601866251944\n",
      "0.7791601866251944\n",
      "Лучший результат дерева решений: 0.7853810264385692\n",
      "Лучшая глубина дерева решений: 3\n"
     ]
    }
   ],
   "source": [
    "best_result = 0\n",
    "best_depth=0\n",
    "for depth in range(1, 6):\n",
    "    model =DecisionTreeClassifier(random_state=12345,max_depth=depth) \n",
    "    model.fit(features_train,target_train)\n",
    "    predictions_valid = model.predict(features_valid)\n",
    "    result =accuracy_score(predictions_valid, target_valid)\n",
    "    print(result)\n",
    "    if result > best_result:\n",
    "        best_result = result\n",
    "        best_depth = depth\n",
    "print(\"Лучший результат дерева решений:\", best_result)\n",
    "print(\"Лучшая глубина дерева решений:\", best_depth)"
   ]
  },
  {
   "cell_type": "markdown",
   "metadata": {},
   "source": [
    "При исследовании 5 вариантов глубины дерева лучший результат по модели равен 0.79, наилучший результат достигается при глубине = 3"
   ]
  },
  {
   "cell_type": "markdown",
   "metadata": {},
   "source": [
    "**Логистическая регрессия**"
   ]
  },
  {
   "cell_type": "code",
   "execution_count": 12,
   "metadata": {},
   "outputs": [
    {
     "name": "stdout",
     "output_type": "stream",
     "text": [
      "Качество логистической регрессии: 0.7107309486780715\n"
     ]
    }
   ],
   "source": [
    "model = LogisticRegression(random_state=12345)\n",
    "model.fit(features_train, target_train)\n",
    "predictions_valid = model.predict(features_valid)\n",
    "accuracy = accuracy_score(predictions_valid, target_valid)\n",
    "print('Качество логистической регрессии:',  accuracy)"
   ]
  },
  {
   "cell_type": "markdown",
   "metadata": {},
   "source": [
    "Лучший результат равен 0.71"
   ]
  },
  {
   "cell_type": "markdown",
   "metadata": {},
   "source": [
    "**Случайный лес**"
   ]
  },
  {
   "cell_type": "code",
   "execution_count": 25,
   "metadata": {},
   "outputs": [
    {
     "name": "stdout",
     "output_type": "stream",
     "text": [
      "Лучший результат случайного леса: 0.80248833592535\n",
      "Лучшая глубина случайного леса: 7\n",
      "Количество деревьев (эстиматоров) 100\n"
     ]
    }
   ],
   "source": [
    "best_result = 0\n",
    "best_depth = 0\n",
    "for est in range(10, 101, 10):\n",
    "    for depth in range(1, 14, 2):\n",
    "        model = RandomForestClassifier(random_state=12345, n_estimators=est, max_depth=depth)\n",
    "        model.fit(features_train,target_train)\n",
    "        predictions_valid = model.predict(features_valid)\n",
    "        accuracy =accuracy_score(predictions_valid, target_valid)\n",
    "        if accuracy > best_result:\n",
    "            best_result = accuracy\n",
    "            best_depth = depth\n",
    "            best_est = est\n",
    "        \n",
    "print(\"Лучший результат случайного леса:\", best_result)\n",
    "print(\"Лучшая глубина случайного леса:\", best_depth)\n",
    "print (\"Количество деревьев (эстиматоров)\", est)"
   ]
  },
  {
   "cell_type": "markdown",
   "metadata": {},
   "source": [
    "При исследовании 5 вариантов глубины дерева лучший результат по модели равен 0.80 при глубине = 7.\n",
    "\n",
    "Данная модель показала себя наиболее эффективной среди протестированных и рекомендуется к внедрению. Рекомендуемые гиперпараметры:\n",
    "- n_estimators = 100\n",
    "- max_depth = 7.\n",
    "\n",
    "\n",
    "При данных гиперпараметрах получим accuracy = 0.80\n",
    "\n"
   ]
  },
  {
   "cell_type": "markdown",
   "metadata": {},
   "source": [
    "## Проверьте модель на тестовой выборке"
   ]
  },
  {
   "cell_type": "markdown",
   "metadata": {},
   "source": [
    "**Проверим внедряемую модель \"Случайный лес\" на тестовой выборке**"
   ]
  },
  {
   "cell_type": "code",
   "execution_count": 27,
   "metadata": {},
   "outputs": [
    {
     "name": "stdout",
     "output_type": "stream",
     "text": [
      "Качество случайного дерева для тестовой выборки: 0.7853810264385692\n"
     ]
    }
   ],
   "source": [
    "model = RandomForestClassifier(random_state=12345)\n",
    "model.fit(features_train, target_train)\n",
    "predictions_train = model.predict(features_train)\n",
    "\n",
    "accuracy = accuracy_score(target_train, predictions_train)  \n",
    "\n",
    "predictions_test = model.predict(features_test)\n",
    "accuracy_test = accuracy_score(target_test, predictions_test)\n",
    "\n",
    "print(\"Качество случайного дерева для тестовой выборки:\", accuracy_test)"
   ]
  },
  {
   "cell_type": "markdown",
   "metadata": {},
   "source": [
    "Результат проверки на тестовой выборке равен 0.79, что близко к результатам проверки на валидационной выборке."
   ]
  },
  {
   "cell_type": "markdown",
   "metadata": {},
   "source": [
    "## (бонус) Проверьте модели на адекватность"
   ]
  },
  {
   "cell_type": "code",
   "execution_count": 31,
   "metadata": {},
   "outputs": [
    {
     "data": {
      "text/plain": [
       "0.6842923794712286"
      ]
     },
     "execution_count": 31,
     "metadata": {},
     "output_type": "execute_result"
    }
   ],
   "source": [
    "dummy_clf = DummyClassifier(strategy='constant', constant=0)\n",
    "dummy_clf.fit(features_test, target_test)\n",
    "accuracy_score(dummy_clf.predict(features_test), target_test)"
   ]
  },
  {
   "cell_type": "markdown",
   "metadata": {},
   "source": [
    "После обучения модели можно провести тестирование и результаты использовать для сравнения с результатом выбранной модели. Результаты DummyClassifier значительно ниже результатов всех моделей,использованных в работе, значит, модели тест на адекватность прошли"
   ]
  },
  {
   "cell_type": "markdown",
   "metadata": {},
   "source": [
    "## Чек-лист готовности проекта"
   ]
  },
  {
   "cell_type": "markdown",
   "metadata": {},
   "source": [
    "Поставьте 'x' в выполненных пунктах. Далее нажмите Shift+Enter."
   ]
  },
  {
   "cell_type": "markdown",
   "metadata": {},
   "source": [
    "## Итоговый вывод"
   ]
  },
  {
   "cell_type": "markdown",
   "metadata": {},
   "source": [
    "   В ходе исследования были загружены и изучены данные о поведении клиентов. Эти данные были разбиты на 3 выборки: обучающую, валидационную и тестовую в соотношении 3:1:1 (обучающая-60%, тестовая и валидационная по 20%).\n",
    "\n",
    "  Были проверены три модели: дерево решений, логистическая регрессия и случайный лес. Использовались 5 значений глубины для двух моделей. \n",
    "  \n",
    "  При исследовании 5 вариантов глубины дерева лучший результат по модели равен 0.80 при глубине = 7.\n",
    "\n",
    "Данная модель показала себя наиболее эффективной среди протестированных и рекомендуется к внедрению при следующих гиперпараметрах:\n",
    "- n_estimators = 100\n",
    "- max_depth = 7.\n",
    "\n",
    "\n",
    "При данных гиперпараметрах получим accuracy = 0.80\n",
    "\n",
    "\n",
    "  Так же была выполнена и пройдены проверка на адекватность."
   ]
  }
 ],
 "metadata": {
  "ExecuteTimeLog": [
   {
    "duration": 52,
    "start_time": "2024-09-18T09:27:13.902Z"
   },
   {
    "duration": 1370,
    "start_time": "2024-09-18T09:27:27.586Z"
   },
   {
    "duration": 47,
    "start_time": "2024-09-18T09:27:41.774Z"
   },
   {
    "duration": 39,
    "start_time": "2024-09-18T09:30:40.999Z"
   },
   {
    "duration": 4,
    "start_time": "2024-09-18T09:32:07.732Z"
   },
   {
    "duration": 39,
    "start_time": "2024-09-18T09:34:57.015Z"
   },
   {
    "duration": 39,
    "start_time": "2024-09-18T09:35:08.872Z"
   },
   {
    "duration": 10,
    "start_time": "2024-09-18T09:36:26.497Z"
   },
   {
    "duration": 13,
    "start_time": "2024-09-18T09:36:52.947Z"
   },
   {
    "duration": 14,
    "start_time": "2024-09-18T09:37:39.799Z"
   },
   {
    "duration": 6,
    "start_time": "2024-09-18T09:43:06.296Z"
   },
   {
    "duration": 5,
    "start_time": "2024-09-18T09:43:48.481Z"
   },
   {
    "duration": 4,
    "start_time": "2024-09-18T09:48:37.234Z"
   },
   {
    "duration": 5,
    "start_time": "2024-09-18T09:48:38.098Z"
   },
   {
    "duration": 3,
    "start_time": "2024-09-18T09:49:05.725Z"
   },
   {
    "duration": 3,
    "start_time": "2024-09-18T09:49:19.847Z"
   },
   {
    "duration": 5,
    "start_time": "2024-09-18T09:49:29.247Z"
   },
   {
    "duration": 4,
    "start_time": "2024-09-18T09:49:30.232Z"
   },
   {
    "duration": 4,
    "start_time": "2024-09-18T09:49:31.164Z"
   },
   {
    "duration": 4,
    "start_time": "2024-09-18T09:49:48.655Z"
   },
   {
    "duration": 4,
    "start_time": "2024-09-18T09:49:50.569Z"
   },
   {
    "duration": 3,
    "start_time": "2024-09-18T09:49:52.470Z"
   },
   {
    "duration": 5,
    "start_time": "2024-09-18T09:50:02.251Z"
   },
   {
    "duration": 5,
    "start_time": "2024-09-18T09:50:02.962Z"
   },
   {
    "duration": 3,
    "start_time": "2024-09-18T09:50:03.860Z"
   },
   {
    "duration": 3,
    "start_time": "2024-09-18T09:50:05.408Z"
   },
   {
    "duration": 3,
    "start_time": "2024-09-18T09:50:06.427Z"
   },
   {
    "duration": 6,
    "start_time": "2024-09-18T09:50:20.104Z"
   },
   {
    "duration": 5,
    "start_time": "2024-09-18T09:50:20.562Z"
   },
   {
    "duration": 5,
    "start_time": "2024-09-18T09:50:20.959Z"
   },
   {
    "duration": 4,
    "start_time": "2024-09-18T09:50:21.469Z"
   },
   {
    "duration": 3,
    "start_time": "2024-09-18T09:50:23.548Z"
   },
   {
    "duration": 35,
    "start_time": "2024-09-18T09:57:41.229Z"
   },
   {
    "duration": 82,
    "start_time": "2024-09-18T09:58:58.574Z"
   },
   {
    "duration": 10,
    "start_time": "2024-09-18T09:59:21.671Z"
   },
   {
    "duration": 77,
    "start_time": "2024-09-18T09:59:46.233Z"
   },
   {
    "duration": 33,
    "start_time": "2024-09-18T09:59:54.969Z"
   },
   {
    "duration": 18,
    "start_time": "2024-09-18T10:00:16.255Z"
   },
   {
    "duration": 17,
    "start_time": "2024-09-18T10:00:39.801Z"
   },
   {
    "duration": 13,
    "start_time": "2024-09-18T10:02:32.749Z"
   },
   {
    "duration": 15,
    "start_time": "2024-09-18T10:03:33.505Z"
   },
   {
    "duration": 1330,
    "start_time": "2024-09-18T10:03:44.664Z"
   },
   {
    "duration": 39,
    "start_time": "2024-09-18T10:11:03.128Z"
   },
   {
    "duration": 1252,
    "start_time": "2024-09-18T10:11:08.986Z"
   },
   {
    "duration": 19,
    "start_time": "2024-09-18T10:11:10.240Z"
   },
   {
    "duration": 4,
    "start_time": "2024-09-18T10:11:10.261Z"
   },
   {
    "duration": 6,
    "start_time": "2024-09-18T10:11:10.268Z"
   },
   {
    "duration": 6,
    "start_time": "2024-09-18T10:11:10.275Z"
   },
   {
    "duration": 8,
    "start_time": "2024-09-18T10:11:10.283Z"
   },
   {
    "duration": 14,
    "start_time": "2024-09-18T10:11:10.292Z"
   },
   {
    "duration": 8,
    "start_time": "2024-09-18T10:11:10.307Z"
   },
   {
    "duration": 101,
    "start_time": "2024-09-18T10:13:12.495Z"
   },
   {
    "duration": 38,
    "start_time": "2024-09-18T10:13:44.218Z"
   },
   {
    "duration": 13,
    "start_time": "2024-09-18T10:13:47.419Z"
   },
   {
    "duration": 12,
    "start_time": "2024-09-18T10:14:20.483Z"
   },
   {
    "duration": 30,
    "start_time": "2024-09-18T10:14:38.461Z"
   },
   {
    "duration": 23,
    "start_time": "2024-09-18T10:16:35.285Z"
   },
   {
    "duration": 20,
    "start_time": "2024-09-18T10:16:50.062Z"
   },
   {
    "duration": 19,
    "start_time": "2024-09-18T10:20:23.686Z"
   },
   {
    "duration": 19,
    "start_time": "2024-09-18T10:22:30.961Z"
   },
   {
    "duration": 19,
    "start_time": "2024-09-18T10:22:40.299Z"
   },
   {
    "duration": 84,
    "start_time": "2024-09-18T10:23:31.263Z"
   },
   {
    "duration": 16,
    "start_time": "2024-09-18T10:23:36.527Z"
   },
   {
    "duration": 17,
    "start_time": "2024-09-18T10:23:43.710Z"
   },
   {
    "duration": 66,
    "start_time": "2024-09-18T10:24:41.258Z"
   },
   {
    "duration": 83,
    "start_time": "2024-09-18T10:25:02.838Z"
   },
   {
    "duration": 32,
    "start_time": "2024-09-18T10:25:09.833Z"
   },
   {
    "duration": 64,
    "start_time": "2024-09-18T10:25:17.749Z"
   },
   {
    "duration": 33,
    "start_time": "2024-09-18T10:25:22.849Z"
   },
   {
    "duration": 31,
    "start_time": "2024-09-18T10:27:39.628Z"
   },
   {
    "duration": 17,
    "start_time": "2024-09-18T10:28:19.687Z"
   },
   {
    "duration": 16,
    "start_time": "2024-09-18T10:29:38.189Z"
   },
   {
    "duration": 17,
    "start_time": "2024-09-18T10:29:54.410Z"
   },
   {
    "duration": 8,
    "start_time": "2024-09-18T10:30:10.117Z"
   },
   {
    "duration": 8,
    "start_time": "2024-09-18T10:30:21.586Z"
   },
   {
    "duration": 11,
    "start_time": "2024-09-18T10:30:47.396Z"
   },
   {
    "duration": 13,
    "start_time": "2024-09-18T10:30:50.527Z"
   },
   {
    "duration": 20,
    "start_time": "2024-09-18T10:32:13.871Z"
   },
   {
    "duration": 15,
    "start_time": "2024-09-18T10:32:31.932Z"
   },
   {
    "duration": 11,
    "start_time": "2024-09-18T10:35:14.705Z"
   },
   {
    "duration": 39,
    "start_time": "2024-09-18T10:35:39.453Z"
   },
   {
    "duration": 26,
    "start_time": "2024-09-18T10:35:46.260Z"
   },
   {
    "duration": 32,
    "start_time": "2024-09-18T10:36:29.226Z"
   },
   {
    "duration": 16,
    "start_time": "2024-09-18T10:37:38.008Z"
   },
   {
    "duration": 45,
    "start_time": "2024-09-18T10:37:56.873Z"
   },
   {
    "duration": 15,
    "start_time": "2024-09-18T10:38:02.381Z"
   },
   {
    "duration": 9,
    "start_time": "2024-09-18T10:39:41.732Z"
   },
   {
    "duration": 32,
    "start_time": "2024-09-18T10:40:14.539Z"
   },
   {
    "duration": 11,
    "start_time": "2024-09-18T10:40:54.762Z"
   },
   {
    "duration": 39,
    "start_time": "2024-09-18T10:41:59.747Z"
   },
   {
    "duration": 9,
    "start_time": "2024-09-18T10:44:06.356Z"
   },
   {
    "duration": 38,
    "start_time": "2024-09-18T10:44:35.174Z"
   },
   {
    "duration": 408,
    "start_time": "2024-09-18T10:44:44.799Z"
   },
   {
    "duration": 24,
    "start_time": "2024-09-18T10:45:10.208Z"
   },
   {
    "duration": 416,
    "start_time": "2024-09-18T10:45:28.280Z"
   },
   {
    "duration": 1031,
    "start_time": "2024-09-18T10:46:40.548Z"
   },
   {
    "duration": 1057,
    "start_time": "2024-09-18T10:47:25.107Z"
   },
   {
    "duration": 31,
    "start_time": "2024-09-18T10:49:43.246Z"
   },
   {
    "duration": 26,
    "start_time": "2024-09-18T10:49:59.522Z"
   },
   {
    "duration": 26,
    "start_time": "2024-09-18T10:50:30.950Z"
   },
   {
    "duration": 28,
    "start_time": "2024-09-18T10:51:28.213Z"
   },
   {
    "duration": 19,
    "start_time": "2024-09-18T10:51:34.716Z"
   },
   {
    "duration": 433,
    "start_time": "2024-09-18T10:52:04.240Z"
   },
   {
    "duration": 9,
    "start_time": "2024-09-18T10:53:04.129Z"
   },
   {
    "duration": 38,
    "start_time": "2024-09-18T10:53:25.720Z"
   },
   {
    "duration": 6,
    "start_time": "2024-09-18T10:53:30.710Z"
   },
   {
    "duration": 439,
    "start_time": "2024-09-18T10:54:23.473Z"
   },
   {
    "duration": 27,
    "start_time": "2024-09-18T10:54:59.524Z"
   },
   {
    "duration": 30,
    "start_time": "2024-09-18T10:55:13.558Z"
   },
   {
    "duration": 49,
    "start_time": "2024-09-18T12:17:48.338Z"
   },
   {
    "duration": 1299,
    "start_time": "2024-09-18T12:17:59.766Z"
   },
   {
    "duration": 17,
    "start_time": "2024-09-18T12:18:01.067Z"
   },
   {
    "duration": 24,
    "start_time": "2024-09-18T12:18:01.085Z"
   },
   {
    "duration": 27,
    "start_time": "2024-09-18T12:18:01.111Z"
   },
   {
    "duration": 32,
    "start_time": "2024-09-18T12:18:01.140Z"
   },
   {
    "duration": 37,
    "start_time": "2024-09-18T12:18:01.173Z"
   },
   {
    "duration": 36,
    "start_time": "2024-09-18T12:18:01.212Z"
   },
   {
    "duration": 24,
    "start_time": "2024-09-18T12:18:01.249Z"
   },
   {
    "duration": 54,
    "start_time": "2024-09-18T12:18:01.275Z"
   },
   {
    "duration": 60,
    "start_time": "2024-09-18T12:18:01.331Z"
   },
   {
    "duration": 999,
    "start_time": "2024-09-18T12:18:01.393Z"
   },
   {
    "duration": 23,
    "start_time": "2024-09-18T12:18:02.395Z"
   },
   {
    "duration": 47,
    "start_time": "2024-09-18T12:18:02.420Z"
   },
   {
    "duration": 474,
    "start_time": "2024-09-18T12:18:02.469Z"
   },
   {
    "duration": 6,
    "start_time": "2024-09-18T12:18:02.944Z"
   },
   {
    "duration": 43,
    "start_time": "2024-09-18T12:23:56.588Z"
   },
   {
    "duration": 26,
    "start_time": "2024-09-18T12:24:14.433Z"
   },
   {
    "duration": 32,
    "start_time": "2024-09-18T12:24:33.959Z"
   },
   {
    "duration": 973,
    "start_time": "2024-09-18T12:25:31.598Z"
   },
   {
    "duration": 31,
    "start_time": "2024-09-18T12:25:55.882Z"
   },
   {
    "duration": 993,
    "start_time": "2024-09-18T12:25:58.972Z"
   },
   {
    "duration": 31,
    "start_time": "2024-09-18T12:26:56.962Z"
   },
   {
    "duration": 1013,
    "start_time": "2024-09-18T12:27:10.965Z"
   },
   {
    "duration": 4692,
    "start_time": "2024-09-18T13:16:57.504Z"
   },
   {
    "duration": 17,
    "start_time": "2024-09-18T13:17:02.198Z"
   },
   {
    "duration": 22,
    "start_time": "2024-09-18T13:17:02.217Z"
   },
   {
    "duration": 39,
    "start_time": "2024-09-18T13:17:02.240Z"
   },
   {
    "duration": 28,
    "start_time": "2024-09-18T13:17:02.282Z"
   },
   {
    "duration": 69,
    "start_time": "2024-09-18T13:17:02.312Z"
   },
   {
    "duration": 29,
    "start_time": "2024-09-18T13:17:02.383Z"
   },
   {
    "duration": 44,
    "start_time": "2024-09-18T13:17:02.414Z"
   },
   {
    "duration": 70,
    "start_time": "2024-09-18T13:17:02.460Z"
   },
   {
    "duration": 28,
    "start_time": "2024-09-18T13:17:02.532Z"
   },
   {
    "duration": 1100,
    "start_time": "2024-09-18T13:17:02.564Z"
   },
   {
    "duration": 19,
    "start_time": "2024-09-18T13:17:03.666Z"
   },
   {
    "duration": 88,
    "start_time": "2024-09-18T13:17:03.686Z"
   },
   {
    "duration": 470,
    "start_time": "2024-09-18T13:17:03.777Z"
   },
   {
    "duration": 6,
    "start_time": "2024-09-18T13:17:04.249Z"
   },
   {
    "duration": 39,
    "start_time": "2024-09-18T13:17:04.257Z"
   },
   {
    "duration": 6,
    "start_time": "2024-09-18T13:18:17.795Z"
   },
   {
    "duration": 102,
    "start_time": "2024-09-18T13:51:46.787Z"
   },
   {
    "duration": 1142,
    "start_time": "2024-09-18T13:51:59.766Z"
   },
   {
    "duration": 15,
    "start_time": "2024-09-18T13:52:00.910Z"
   },
   {
    "duration": 127,
    "start_time": "2024-09-18T13:52:00.927Z"
   },
   {
    "duration": 0,
    "start_time": "2024-09-18T13:52:01.057Z"
   },
   {
    "duration": 0,
    "start_time": "2024-09-18T13:52:01.058Z"
   },
   {
    "duration": 0,
    "start_time": "2024-09-18T13:52:01.059Z"
   },
   {
    "duration": 0,
    "start_time": "2024-09-18T13:52:01.060Z"
   },
   {
    "duration": 0,
    "start_time": "2024-09-18T13:52:01.061Z"
   },
   {
    "duration": 0,
    "start_time": "2024-09-18T13:52:01.062Z"
   },
   {
    "duration": 0,
    "start_time": "2024-09-18T13:52:01.063Z"
   },
   {
    "duration": 0,
    "start_time": "2024-09-18T13:52:01.064Z"
   },
   {
    "duration": 0,
    "start_time": "2024-09-18T13:52:01.065Z"
   },
   {
    "duration": 0,
    "start_time": "2024-09-18T13:52:01.066Z"
   },
   {
    "duration": 0,
    "start_time": "2024-09-18T13:52:01.066Z"
   },
   {
    "duration": 0,
    "start_time": "2024-09-18T13:52:01.067Z"
   },
   {
    "duration": 0,
    "start_time": "2024-09-18T13:52:01.068Z"
   },
   {
    "duration": 22,
    "start_time": "2024-09-18T13:52:29.144Z"
   },
   {
    "duration": 44,
    "start_time": "2024-09-18T17:39:23.027Z"
   },
   {
    "duration": 5,
    "start_time": "2024-09-18T17:39:31.851Z"
   },
   {
    "duration": 1198,
    "start_time": "2024-09-18T17:39:41.500Z"
   },
   {
    "duration": 16,
    "start_time": "2024-09-18T17:39:42.700Z"
   },
   {
    "duration": 23,
    "start_time": "2024-09-18T17:39:42.717Z"
   },
   {
    "duration": 6,
    "start_time": "2024-09-18T17:39:42.741Z"
   },
   {
    "duration": 3,
    "start_time": "2024-09-18T17:39:42.749Z"
   },
   {
    "duration": 7,
    "start_time": "2024-09-18T17:39:42.754Z"
   },
   {
    "duration": 17,
    "start_time": "2024-09-18T17:39:42.762Z"
   },
   {
    "duration": 3,
    "start_time": "2024-09-18T17:39:42.781Z"
   },
   {
    "duration": 5,
    "start_time": "2024-09-18T17:39:42.785Z"
   },
   {
    "duration": 6,
    "start_time": "2024-09-18T17:39:42.791Z"
   },
   {
    "duration": 34,
    "start_time": "2024-09-18T17:39:42.798Z"
   },
   {
    "duration": 49,
    "start_time": "2024-09-18T17:39:42.834Z"
   },
   {
    "duration": 983,
    "start_time": "2024-09-18T17:39:42.885Z"
   },
   {
    "duration": 18,
    "start_time": "2024-09-18T17:39:43.875Z"
   },
   {
    "duration": 26,
    "start_time": "2024-09-18T17:39:43.894Z"
   },
   {
    "duration": 448,
    "start_time": "2024-09-18T17:39:43.922Z"
   },
   {
    "duration": 8,
    "start_time": "2024-09-18T17:39:44.371Z"
   },
   {
    "duration": 6,
    "start_time": "2024-09-18T17:39:57.411Z"
   },
   {
    "duration": 30,
    "start_time": "2024-09-18T17:41:34.898Z"
   },
   {
    "duration": 10089,
    "start_time": "2024-09-18T17:43:08.661Z"
   },
   {
    "duration": 9912,
    "start_time": "2024-09-18T17:43:33.275Z"
   },
   {
    "duration": 10086,
    "start_time": "2024-09-18T17:45:15.141Z"
   },
   {
    "duration": 9889,
    "start_time": "2024-09-18T17:46:44.597Z"
   },
   {
    "duration": 10175,
    "start_time": "2024-09-18T17:47:12.358Z"
   },
   {
    "duration": 10070,
    "start_time": "2024-09-18T17:48:08.863Z"
   },
   {
    "duration": 18,
    "start_time": "2024-09-18T17:58:44.280Z"
   },
   {
    "duration": 429,
    "start_time": "2024-09-18T17:59:49.256Z"
   },
   {
    "duration": 8,
    "start_time": "2024-09-18T18:02:09.321Z"
   },
   {
    "duration": 6,
    "start_time": "2024-09-18T18:02:42.562Z"
   },
   {
    "duration": 93,
    "start_time": "2024-09-18T18:02:55.789Z"
   },
   {
    "duration": 5,
    "start_time": "2024-09-18T18:03:10.324Z"
   },
   {
    "duration": 6,
    "start_time": "2024-09-18T18:03:46.652Z"
   }
  ],
  "kernelspec": {
   "display_name": "Python 3 (ipykernel)",
   "language": "python",
   "name": "python3"
  },
  "language_info": {
   "codemirror_mode": {
    "name": "ipython",
    "version": 3
   },
   "file_extension": ".py",
   "mimetype": "text/x-python",
   "name": "python",
   "nbconvert_exporter": "python",
   "pygments_lexer": "ipython3",
   "version": "3.12.4"
  },
  "toc": {
   "base_numbering": 1,
   "nav_menu": {},
   "number_sections": true,
   "sideBar": true,
   "skip_h1_title": true,
   "title_cell": "Table of Contents",
   "title_sidebar": "Contents",
   "toc_cell": false,
   "toc_position": {},
   "toc_section_display": true,
   "toc_window_display": false
  }
 },
 "nbformat": 4,
 "nbformat_minor": 4
}
